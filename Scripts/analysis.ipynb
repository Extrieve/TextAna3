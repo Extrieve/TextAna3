{
 "cells": [
  {
   "cell_type": "markdown",
   "metadata": {},
   "source": [
    "## Preprocessing and understanding the data"
   ]
  },
  {
   "cell_type": "code",
   "execution_count": 6,
   "metadata": {},
   "outputs": [],
   "source": [
    "import pandas as pd\n",
    "import re, string"
   ]
  },
  {
   "cell_type": "code",
   "execution_count": 7,
   "metadata": {},
   "outputs": [
    {
     "data": {
      "text/html": [
       "<div>\n",
       "<style scoped>\n",
       "    .dataframe tbody tr th:only-of-type {\n",
       "        vertical-align: middle;\n",
       "    }\n",
       "\n",
       "    .dataframe tbody tr th {\n",
       "        vertical-align: top;\n",
       "    }\n",
       "\n",
       "    .dataframe thead th {\n",
       "        text-align: right;\n",
       "    }\n",
       "</style>\n",
       "<table border=\"1\" class=\"dataframe\">\n",
       "  <thead>\n",
       "    <tr style=\"text-align: right;\">\n",
       "      <th></th>\n",
       "      <th>question</th>\n",
       "      <th>topic</th>\n",
       "    </tr>\n",
       "  </thead>\n",
       "  <tbody>\n",
       "    <tr>\n",
       "      <th>0</th>\n",
       "      <td>Hi! If I sign up for your email list, can I se...</td>\n",
       "      <td>Sales/Promotions</td>\n",
       "    </tr>\n",
       "    <tr>\n",
       "      <th>1</th>\n",
       "      <td>I'm going to be out of the country for about a...</td>\n",
       "      <td>Shipping</td>\n",
       "    </tr>\n",
       "    <tr>\n",
       "      <th>2</th>\n",
       "      <td>I was wondering if you'd be able to overnight ...</td>\n",
       "      <td>Shipping</td>\n",
       "    </tr>\n",
       "    <tr>\n",
       "      <th>3</th>\n",
       "      <td>The Swingline electronic stapler (472555) look...</td>\n",
       "      <td>Shipping</td>\n",
       "    </tr>\n",
       "    <tr>\n",
       "      <th>4</th>\n",
       "      <td>I think this cosmetic bag would work great for...</td>\n",
       "      <td>Shipping</td>\n",
       "    </tr>\n",
       "  </tbody>\n",
       "</table>\n",
       "</div>"
      ],
      "text/plain": [
       "                                            question             topic\n",
       "0  Hi! If I sign up for your email list, can I se...  Sales/Promotions\n",
       "1  I'm going to be out of the country for about a...          Shipping\n",
       "2  I was wondering if you'd be able to overnight ...          Shipping\n",
       "3  The Swingline electronic stapler (472555) look...          Shipping\n",
       "4  I think this cosmetic bag would work great for...          Shipping"
      ]
     },
     "execution_count": 7,
     "metadata": {},
     "output_type": "execute_result"
    }
   ],
   "source": [
    "data = pd.read_csv('../Data/data.csv')\n",
    "data.head()"
   ]
  },
  {
   "cell_type": "code",
   "execution_count": 8,
   "metadata": {},
   "outputs": [
    {
     "data": {
      "text/plain": [
       "(5000, 2)"
      ]
     },
     "execution_count": 8,
     "metadata": {},
     "output_type": "execute_result"
    }
   ],
   "source": [
    "data.shape"
   ]
  },
  {
   "cell_type": "code",
   "execution_count": 9,
   "metadata": {},
   "outputs": [
    {
     "data": {
      "text/plain": [
       "(5000, 2)"
      ]
     },
     "execution_count": 9,
     "metadata": {},
     "output_type": "execute_result"
    }
   ],
   "source": [
    "# drop rows with missing values\n",
    "data.dropna(inplace=True)\n",
    "\n",
    "data.shape"
   ]
  },
  {
   "cell_type": "code",
   "execution_count": 10,
   "metadata": {},
   "outputs": [],
   "source": [
    "from nltk.stem.snowball import SnowballStemmer\n",
    "from nltk.corpus import stopwords\n",
    "from nltk.tokenize import word_tokenize\n",
    "import nltk"
   ]
  },
  {
   "cell_type": "code",
   "execution_count": 11,
   "metadata": {},
   "outputs": [
    {
     "name": "stderr",
     "output_type": "stream",
     "text": [
      "[nltk_data] Downloading package stopwords to\n",
      "[nltk_data]     C:\\Users\\nicol\\AppData\\Roaming\\nltk_data...\n",
      "[nltk_data]   Package stopwords is already up-to-date!\n"
     ]
    },
    {
     "data": {
      "text/plain": [
       "True"
      ]
     },
     "execution_count": 11,
     "metadata": {},
     "output_type": "execute_result"
    }
   ],
   "source": [
    "nltk.download('stopwords')"
   ]
  },
  {
   "cell_type": "code",
   "execution_count": 12,
   "metadata": {},
   "outputs": [],
   "source": [
    "stemmer = SnowballStemmer(\"english\")\n",
    "stop_words = set(stopwords.words('english'))"
   ]
  },
  {
   "cell_type": "code",
   "execution_count": 13,
   "metadata": {},
   "outputs": [],
   "source": [
    "def preprocessing(text):\n",
    "   tokens = [word for word in nltk.word_tokenize(text) if (len(word) > 3 and len(word.strip('Xx/')) > 2 and len(re.sub('\\d+', '', word.strip('Xx/'))) > 3) ] \n",
    "   tokens = map(str.lower, tokens)\n",
    "   stems = [stemmer.stem(item) for item in tokens if (item not in stop_words)]\n",
    "   return stems"
   ]
  },
  {
   "cell_type": "code",
   "execution_count": 14,
   "metadata": {},
   "outputs": [
    {
     "data": {
      "text/html": [
       "<div>\n",
       "<style scoped>\n",
       "    .dataframe tbody tr th:only-of-type {\n",
       "        vertical-align: middle;\n",
       "    }\n",
       "\n",
       "    .dataframe tbody tr th {\n",
       "        vertical-align: top;\n",
       "    }\n",
       "\n",
       "    .dataframe thead th {\n",
       "        text-align: right;\n",
       "    }\n",
       "</style>\n",
       "<table border=\"1\" class=\"dataframe\">\n",
       "  <thead>\n",
       "    <tr style=\"text-align: right;\">\n",
       "      <th></th>\n",
       "      <th>question</th>\n",
       "      <th>topic</th>\n",
       "    </tr>\n",
       "  </thead>\n",
       "  <tbody>\n",
       "    <tr>\n",
       "      <th>0</th>\n",
       "      <td>Hi! If I sign up for your email list, can I se...</td>\n",
       "      <td>Sales/Promotions</td>\n",
       "    </tr>\n",
       "    <tr>\n",
       "      <th>1</th>\n",
       "      <td>I'm going to be out of the country for about a...</td>\n",
       "      <td>Shipping</td>\n",
       "    </tr>\n",
       "    <tr>\n",
       "      <th>2</th>\n",
       "      <td>I was wondering if you'd be able to overnight ...</td>\n",
       "      <td>Shipping</td>\n",
       "    </tr>\n",
       "    <tr>\n",
       "      <th>3</th>\n",
       "      <td>The Swingline electronic stapler (472555) look...</td>\n",
       "      <td>Shipping</td>\n",
       "    </tr>\n",
       "    <tr>\n",
       "      <th>4</th>\n",
       "      <td>I think this cosmetic bag would work great for...</td>\n",
       "      <td>Shipping</td>\n",
       "    </tr>\n",
       "  </tbody>\n",
       "</table>\n",
       "</div>"
      ],
      "text/plain": [
       "                                            question             topic\n",
       "0  Hi! If I sign up for your email list, can I se...  Sales/Promotions\n",
       "1  I'm going to be out of the country for about a...          Shipping\n",
       "2  I was wondering if you'd be able to overnight ...          Shipping\n",
       "3  The Swingline electronic stapler (472555) look...          Shipping\n",
       "4  I think this cosmetic bag would work great for...          Shipping"
      ]
     },
     "execution_count": 14,
     "metadata": {},
     "output_type": "execute_result"
    }
   ],
   "source": [
    "data.head()"
   ]
  },
  {
   "cell_type": "code",
   "execution_count": 15,
   "metadata": {},
   "outputs": [],
   "source": [
    "import numpy as np\n",
    "from sklearn.model_selection import train_test_split"
   ]
  },
  {
   "cell_type": "code",
   "execution_count": 16,
   "metadata": {},
   "outputs": [
    {
     "data": {
      "text/plain": [
       "array(['Sales/Promotions', 'Shipping', 'Product Availability',\n",
       "       'Product Specifications', 'Omnichannel', 'Product Comparison',\n",
       "       'Returns & Refunds'], dtype=object)"
      ]
     },
     "execution_count": 16,
     "metadata": {},
     "output_type": "execute_result"
    }
   ],
   "source": [
    "# lets grab all unique values from topic and then use them as our target\n",
    "target = data['topic'].unique()\n",
    "target"
   ]
  },
  {
   "cell_type": "code",
   "execution_count": 17,
   "metadata": {},
   "outputs": [],
   "source": [
    "# split the data into train\n",
    "train, test = train_test_split(data, test_size=0.2, random_state=42)\n",
    "\n",
    "train_X = train.drop('topic', axis=1)"
   ]
  },
  {
   "cell_type": "code",
   "execution_count": 18,
   "metadata": {},
   "outputs": [
    {
     "data": {
      "text/plain": [
       "((4000, 2), (1000, 2))"
      ]
     },
     "execution_count": 18,
     "metadata": {},
     "output_type": "execute_result"
    }
   ],
   "source": [
    "train.shape, test.shape"
   ]
  },
  {
   "cell_type": "code",
   "execution_count": 19,
   "metadata": {},
   "outputs": [],
   "source": [
    "# Lets vectorize the data\n",
    "from sklearn.feature_extraction.text import TfidfVectorizer"
   ]
  },
  {
   "cell_type": "code",
   "execution_count": 20,
   "metadata": {},
   "outputs": [],
   "source": [
    "# create the transform\n",
    "vectorizer = TfidfVectorizer(tokenizer=preprocessing, ngram_range=(1, 2), stop_words=None, min_df=0.001, max_df=0.75, max_features=2500)\n",
    "\n",
    "train_vectors = vectorizer.fit_transform(train_X['question'])"
   ]
  },
  {
   "cell_type": "code",
   "execution_count": 21,
   "metadata": {},
   "outputs": [],
   "source": [
    "test_vector = vectorizer.transform(test['question'])"
   ]
  },
  {
   "cell_type": "code",
   "execution_count": 22,
   "metadata": {},
   "outputs": [
    {
     "name": "stderr",
     "output_type": "stream",
     "text": [
      "c:\\Users\\nicol\\AppData\\Local\\Programs\\Python\\Python310\\lib\\site-packages\\sklearn\\utils\\deprecation.py:87: FutureWarning: Function get_feature_names is deprecated; get_feature_names is deprecated in 1.0 and will be removed in 1.2. Please use get_feature_names_out instead.\n",
      "  warnings.warn(msg, category=FutureWarning)\n"
     ]
    }
   ],
   "source": [
    "train_df = pd.DataFrame(train_vectors.toarray(), columns=vectorizer.get_feature_names())\n",
    "train_df = pd.concat([train_df, train['topic']], axis=1)"
   ]
  },
  {
   "cell_type": "code",
   "execution_count": 23,
   "metadata": {},
   "outputs": [],
   "source": [
    "scores_table = pd.DataFrame(columns=['model', 'train_score', 'test_score'])"
   ]
  },
  {
   "cell_type": "markdown",
   "metadata": {},
   "source": [
    "## select (1) one multi-class classifier (e.g., Naive Bayes, Logistic, Decision Tree, SVM) whose code is provided in class handouts"
   ]
  },
  {
   "cell_type": "code",
   "execution_count": 24,
   "metadata": {},
   "outputs": [],
   "source": [
    "# Lets use svm to train the model\n",
    "from sklearn.svm import SVC\n",
    "from sklearn.metrics import accuracy_score"
   ]
  },
  {
   "cell_type": "code",
   "execution_count": 25,
   "metadata": {},
   "outputs": [
    {
     "data": {
      "text/plain": [
       "SVC(C=1, gamma='auto', kernel='linear', probability=True)"
      ]
     },
     "execution_count": 25,
     "metadata": {},
     "output_type": "execute_result"
    }
   ],
   "source": [
    "# create the model, this is a multi-class classification problem\n",
    "model = SVC(kernel='linear', C=1, gamma='auto', probability=True)\n",
    "\n",
    "# fit the model\n",
    "model.fit(train_vectors, train['topic'])"
   ]
  },
  {
   "cell_type": "code",
   "execution_count": 26,
   "metadata": {},
   "outputs": [
    {
     "data": {
      "text/plain": [
       "0.952"
      ]
     },
     "execution_count": 26,
     "metadata": {},
     "output_type": "execute_result"
    }
   ],
   "source": [
    "# predict the test data\n",
    "pred = model.predict(test_vector)\n",
    "\n",
    "# calculate the accuracy\n",
    "accuracy_score(test['topic'], pred)"
   ]
  },
  {
   "cell_type": "code",
   "execution_count": 27,
   "metadata": {},
   "outputs": [
    {
     "data": {
      "text/plain": [
       "(0.98725, 0.952)"
      ]
     },
     "execution_count": 27,
     "metadata": {},
     "output_type": "execute_result"
    }
   ],
   "source": [
    "# train score vs. test score\n",
    "model.score(train_vectors, train['topic']), model.score(test_vector, test['topic'])"
   ]
  },
  {
   "cell_type": "code",
   "execution_count": 28,
   "metadata": {},
   "outputs": [],
   "source": [
    "# store the scores\n",
    "scores_table = scores_table.append({'model': 'TFIDF NGRAM 1-2 -> SVC', 'train_score': model.score(train_vectors, train['topic']), 'test_score': model.score(test_vector, test['topic'])}, ignore_index=True)"
   ]
  },
  {
   "cell_type": "code",
   "execution_count": 29,
   "metadata": {},
   "outputs": [
    {
     "name": "stdout",
     "output_type": "stream",
     "text": [
      "I'm really interested in your special deals. Do you have any offers? -> Sales/Promotions\n",
      "I'm looking for a new car. What are your best deals? -> Product Availability\n",
      "What kind of payment methods do you accept? -> Product Specifications\n",
      "I was wondering if you could ship to my country? -> Shipping\n"
     ]
    }
   ],
   "source": [
    "# Lets use the model to predict the topic of a question\n",
    "questions = [\n",
    "    \"I'm really interested in your special deals. Do you have any offers?\",\n",
    "    \"I'm looking for a new car. What are your best deals?\",\n",
    "    \"What kind of payment methods do you accept?\",\n",
    "    \"I was wondering if you could ship to my country?\"\n",
    "]\n",
    "\n",
    "# vectorize the questions\n",
    "questions_vector = vectorizer.transform(questions)\n",
    "\n",
    "for question, topic in zip(questions, model.predict(questions_vector)):\n",
    "    print(f\"{question} -> {topic}\")"
   ]
  },
  {
   "cell_type": "markdown",
   "metadata": {},
   "source": [
    "## (2) one ensemble classifier whose code is also provided (e.g., Random Forest, XGBoost)"
   ]
  },
  {
   "cell_type": "code",
   "execution_count": 30,
   "metadata": {},
   "outputs": [],
   "source": [
    "# Lets use an ensemble classifier to improve the accuracy\n",
    "from sklearn.ensemble import RandomForestClassifier"
   ]
  },
  {
   "cell_type": "code",
   "execution_count": 31,
   "metadata": {},
   "outputs": [
    {
     "data": {
      "text/plain": [
       "0.847"
      ]
     },
     "execution_count": 31,
     "metadata": {},
     "output_type": "execute_result"
    }
   ],
   "source": [
    "# create the model\n",
    "model = RandomForestClassifier(n_estimators=100, max_depth=10, random_state=0)\n",
    "\n",
    "# fit the model\n",
    "model.fit(train_vectors, train['topic'])\n",
    "\n",
    "# predict the test data\n",
    "pred = model.predict(test_vector)\n",
    "\n",
    "# calculate the accuracy\n",
    "accuracy_score(test['topic'], pred)"
   ]
  },
  {
   "cell_type": "code",
   "execution_count": 32,
   "metadata": {},
   "outputs": [
    {
     "data": {
      "text/plain": [
       "(0.863, 0.847)"
      ]
     },
     "execution_count": 32,
     "metadata": {},
     "output_type": "execute_result"
    }
   ],
   "source": [
    "# train score vs. test score\n",
    "model.score(train_vectors, train['topic']), model.score(test_vector, test['topic'])"
   ]
  },
  {
   "cell_type": "code",
   "execution_count": 33,
   "metadata": {},
   "outputs": [],
   "source": [
    "scores_table = scores_table.append({'model': 'TFIDF NGRAM 1-2 -> Random Forest', 'train_score': model.score(train_vectors, train['topic']), 'test_score': model.score(test_vector, test['topic'])}, ignore_index=True)"
   ]
  },
  {
   "cell_type": "code",
   "execution_count": 34,
   "metadata": {},
   "outputs": [
    {
     "data": {
      "text/plain": [
       "array(['Product Specifications'], dtype=object)"
      ]
     },
     "execution_count": 34,
     "metadata": {},
     "output_type": "execute_result"
    }
   ],
   "source": [
    "# Lets use the model to predict the topic of a question\n",
    "question = \"I'm really interested in your special deals. Do you have any offers?\"\n",
    "\n",
    "# preprocess the question\n",
    "question = preprocessing(question)\n",
    "\n",
    "# vectorize the question\n",
    "question_vector = vectorizer.transform([' '.join(question)])\n",
    "\n",
    "# predict the topic\n",
    "model.predict(question_vector)"
   ]
  },
  {
   "cell_type": "markdown",
   "metadata": {},
   "source": [
    "## (3) one other model of your choice whose code is NOT provided in class handouts (this will require some independent research on your part)."
   ]
  },
  {
   "cell_type": "code",
   "execution_count": 35,
   "metadata": {},
   "outputs": [],
   "source": [
    "# Lets use MLP to train the model\n",
    "from sklearn.neural_network import MLPClassifier"
   ]
  },
  {
   "cell_type": "code",
   "execution_count": null,
   "metadata": {},
   "outputs": [],
   "source": [
    "# create the model, this is a multi-class classification problem\n",
    "model = MLPClassifier(hidden_layer_sizes=(100, 100, 100), max_iter=1000, alpha=0.001, solver='sgd', verbose=10,  random_state=21, tol=0.000000001)\n",
    "\n",
    "# fit the model\n",
    "model.fit(train_vectors, train['topic'])\n",
    "\n",
    "# predict the test data\n",
    "pred = model.predict(test_vector)\n",
    "\n",
    "# calculate the accuracy\n",
    "accuracy_score(test['topic'], pred)"
   ]
  },
  {
   "cell_type": "code",
   "execution_count": 37,
   "metadata": {},
   "outputs": [
    {
     "data": {
      "text/plain": [
       "(0.999, 0.955)"
      ]
     },
     "execution_count": 37,
     "metadata": {},
     "output_type": "execute_result"
    }
   ],
   "source": [
    "# train score vs. test score\n",
    "model.score(train_vectors, train['topic']), model.score(test_vector, test['topic'])"
   ]
  },
  {
   "cell_type": "code",
   "execution_count": 38,
   "metadata": {},
   "outputs": [],
   "source": [
    "scores_table = scores_table.append({'model': 'TFIDF NGRAM 1-2 -> MLP', 'train_score': model.score(train_vectors, train['topic']), 'test_score': model.score(test_vector, test['topic'])}, ignore_index=True)"
   ]
  },
  {
   "cell_type": "code",
   "execution_count": 39,
   "metadata": {},
   "outputs": [
    {
     "name": "stdout",
     "output_type": "stream",
     "text": [
      "I'm really interested in your special deals. Do you have any offers? -> Sales/Promotions\n",
      "I'm looking for a new car. What are your best deals? -> Sales/Promotions\n",
      "What kind of payment methods do you accept? -> Product Specifications\n",
      "I was wondering if you could ship to my country? -> Shipping\n"
     ]
    }
   ],
   "source": [
    "questions = [\n",
    "    \"I'm really interested in your special deals. Do you have any offers?\",\n",
    "    \"I'm looking for a new car. What are your best deals?\",\n",
    "    \"What kind of payment methods do you accept?\",\n",
    "    \"I was wondering if you could ship to my country?\"\n",
    "]\n",
    "\n",
    "# vectorize the questions\n",
    "questions_vector = vectorizer.transform(questions)\n",
    "\n",
    "for question, topic in zip(questions, model.predict(questions_vector)):\n",
    "    print(f\"{question} -> {topic}\")"
   ]
  },
  {
   "cell_type": "markdown",
   "metadata": {},
   "source": [
    "## For each classifier, use four kinds of input feature vectors: (1) TF-IDF vector of tokenized words, (2) TF-IDF vector of n-grams (of range 4-5), (3) word vectors (Glove, Word2Vec, or FastText), and (4) document vectors (Doc2Vec). Train each model using training data, report classification metrics using test data, and summarize the results of all model in a nicely formatted table. Comment on which model will be your preferred choice for text classification for this data and why."
   ]
  },
  {
   "cell_type": "markdown",
   "metadata": {},
   "source": [
    "### Part 2.1) NGram Range 4-5"
   ]
  },
  {
   "cell_type": "code",
   "execution_count": 40,
   "metadata": {},
   "outputs": [],
   "source": [
    "# Lets recreate our input feature with TF-IDF with n-grams (4, 5)\n",
    "vectorizer_2 = TfidfVectorizer(tokenizer=preprocessing, ngram_range=(4, 5), stop_words=None, min_df=0.001, max_df=0.75, max_features=2500)\n",
    "\n",
    "train_vectors_2 = vectorizer_2.fit_transform(train_X['question'])"
   ]
  },
  {
   "cell_type": "code",
   "execution_count": 41,
   "metadata": {},
   "outputs": [
    {
     "name": "stderr",
     "output_type": "stream",
     "text": [
      "c:\\Users\\nicol\\AppData\\Local\\Programs\\Python\\Python310\\lib\\site-packages\\sklearn\\utils\\deprecation.py:87: FutureWarning: Function get_feature_names is deprecated; get_feature_names is deprecated in 1.0 and will be removed in 1.2. Please use get_feature_names_out instead.\n",
      "  warnings.warn(msg, category=FutureWarning)\n"
     ]
    }
   ],
   "source": [
    "# Repeat the same steps as above\n",
    "train_df_2 = pd.DataFrame(train_vectors_2.toarray(), columns=vectorizer.get_feature_names())\n",
    "\n",
    "train_df_2 = pd.concat([train_df_2, train['topic']], axis=1)\n",
    "\n",
    "test_vector_2 = vectorizer_2.transform(test['question'])"
   ]
  },
  {
   "cell_type": "code",
   "execution_count": 42,
   "metadata": {},
   "outputs": [
    {
     "data": {
      "text/plain": [
       "0.629"
      ]
     },
     "execution_count": 42,
     "metadata": {},
     "output_type": "execute_result"
    }
   ],
   "source": [
    "# Create SVC model\n",
    "model = SVC(kernel='linear', C=1, gamma='auto', probability=True)\n",
    "\n",
    "# fit the model\n",
    "model.fit(train_vectors_2, train['topic'])\n",
    "\n",
    "# predict the test data\n",
    "pred = model.predict(test_vector_2)\n",
    "\n",
    "# calculate the accuracy\n",
    "accuracy_score(test['topic'], pred)"
   ]
  },
  {
   "cell_type": "code",
   "execution_count": 43,
   "metadata": {},
   "outputs": [
    {
     "data": {
      "text/plain": [
       "(0.67175, 0.629)"
      ]
     },
     "execution_count": 43,
     "metadata": {},
     "output_type": "execute_result"
    }
   ],
   "source": [
    "# train score vs. test score\n",
    "model.score(train_vectors_2, train['topic']), model.score(test_vector_2, test['topic'])"
   ]
  },
  {
   "cell_type": "code",
   "execution_count": 44,
   "metadata": {},
   "outputs": [],
   "source": [
    "scores_table = scores_table.append({'model': 'TFIDF NGRAM 4-5 -> SVC', 'train_score': model.score(train_vectors, train['topic']), 'test_score': model.score(test_vector, test['topic'])}, ignore_index=True)"
   ]
  },
  {
   "cell_type": "code",
   "execution_count": 45,
   "metadata": {},
   "outputs": [
    {
     "name": "stdout",
     "output_type": "stream",
     "text": [
      "I'm really interested in your special deals. Do you have any offers? -> Product Specifications\n",
      "I'm looking for a new car. What are your best deals? -> Product Specifications\n",
      "What kind of payment methods do you accept? -> Product Specifications\n",
      "I was wondering if you could ship to my country? -> Product Specifications\n"
     ]
    }
   ],
   "source": [
    "questions = [\n",
    "    \"I'm really interested in your special deals. Do you have any offers?\",\n",
    "    \"I'm looking for a new car. What are your best deals?\",\n",
    "    \"What kind of payment methods do you accept?\",\n",
    "    \"I was wondering if you could ship to my country?\"\n",
    "]\n",
    "\n",
    "# vectorize the questions\n",
    "questions_vector = vectorizer_2.transform(questions)\n",
    "\n",
    "for question, topic in zip(questions, model.predict(questions_vector)):\n",
    "    print(f\"{question} -> {topic}\")"
   ]
  },
  {
   "cell_type": "code",
   "execution_count": 46,
   "metadata": {},
   "outputs": [
    {
     "data": {
      "text/plain": [
       "0.36"
      ]
     },
     "execution_count": 46,
     "metadata": {},
     "output_type": "execute_result"
    }
   ],
   "source": [
    "# Lets train a Random Forest model\n",
    "model = RandomForestClassifier(n_estimators=100, max_depth=10, random_state=0)\n",
    "\n",
    "# fit the model\n",
    "model.fit(train_vectors_2, train['topic'])\n",
    "\n",
    "# predict the test data\n",
    "pred = model.predict(test_vector_2)\n",
    "\n",
    "# calculate the accuracy\n",
    "accuracy_score(test['topic'], pred)"
   ]
  },
  {
   "cell_type": "code",
   "execution_count": 47,
   "metadata": {},
   "outputs": [
    {
     "data": {
      "text/plain": [
       "(0.3635, 0.36)"
      ]
     },
     "execution_count": 47,
     "metadata": {},
     "output_type": "execute_result"
    }
   ],
   "source": [
    "# train score vs. test score\n",
    "model.score(train_vectors_2, train['topic']), model.score(test_vector_2, test['topic'])"
   ]
  },
  {
   "cell_type": "code",
   "execution_count": 48,
   "metadata": {},
   "outputs": [],
   "source": [
    "scores_table = scores_table.append({'model': 'TFIDF NGRAM 4-5 -> Random Forest', 'train_score': model.score(train_vectors, train['topic']), 'test_score': model.score(test_vector, test['topic'])}, ignore_index=True)"
   ]
  },
  {
   "cell_type": "code",
   "execution_count": 49,
   "metadata": {},
   "outputs": [
    {
     "name": "stdout",
     "output_type": "stream",
     "text": [
      "I'm really interested in your special deals. Do you have any offers? -> Product Specifications\n",
      "I'm looking for a new car. What are your best deals? -> Product Specifications\n",
      "What kind of payment methods do you accept? -> Product Specifications\n",
      "I was wondering if you could ship to my country? -> Product Specifications\n"
     ]
    }
   ],
   "source": [
    "questions = [\n",
    "    \"I'm really interested in your special deals. Do you have any offers?\",\n",
    "    \"I'm looking for a new car. What are your best deals?\",\n",
    "    \"What kind of payment methods do you accept?\",\n",
    "    \"I was wondering if you could ship to my country?\"\n",
    "]\n",
    "\n",
    "# vectorize the questions\n",
    "questions_vector = vectorizer_2.transform(questions)\n",
    "\n",
    "for question, topic in zip(questions, model.predict(questions_vector)):\n",
    "    print(f\"{question} -> {topic}\")"
   ]
  },
  {
   "cell_type": "code",
   "execution_count": null,
   "metadata": {},
   "outputs": [],
   "source": [
    "# Lets do another model using MLP\n",
    "model = MLPClassifier(hidden_layer_sizes=(100, 100, 100), max_iter=1000, alpha=0.001, solver='sgd', verbose=10,  random_state=21, tol=0.000000001)\n",
    "\n",
    "# fit the model\n",
    "model.fit(train_vectors_2, train['topic'])\n",
    "\n",
    "# predict the test data\n",
    "pred = model.predict(test_vector_2)\n",
    "\n",
    "# calculate the accuracy\n",
    "accuracy_score(test['topic'], pred)"
   ]
  },
  {
   "cell_type": "code",
   "execution_count": 51,
   "metadata": {},
   "outputs": [
    {
     "data": {
      "text/plain": [
       "(0.67175, 0.641)"
      ]
     },
     "execution_count": 51,
     "metadata": {},
     "output_type": "execute_result"
    }
   ],
   "source": [
    "# train accuracy vs. test accuracy\n",
    "model.score(train_vectors_2, train['topic']), model.score(test_vector_2, test['topic'])"
   ]
  },
  {
   "cell_type": "code",
   "execution_count": 52,
   "metadata": {},
   "outputs": [],
   "source": [
    "scores_table = scores_table.append({'model': 'TFIDF NGRAM 4-5 -> MLP', 'train_score': model.score(train_vectors, train['topic']), 'test_score': model.score(test_vector, test['topic'])}, ignore_index=True)"
   ]
  },
  {
   "cell_type": "markdown",
   "metadata": {},
   "source": [
    "### Part 2.2) Using Word2Vec Word Vectors"
   ]
  },
  {
   "cell_type": "code",
   "execution_count": 55,
   "metadata": {},
   "outputs": [
    {
     "name": "stderr",
     "output_type": "stream",
     "text": [
      "C:\\Users\\nicol\\AppData\\Local\\Temp\\ipykernel_29052\\264229428.py:6: DeprecationWarning: Call to deprecated `init_sims` (Use fill_norms() instead. See https://github.com/RaRe-Technologies/gensim/wiki/Migrating-from-Gensim-3.x-to-4).\n",
      "  wv.init_sims(replace=True)\n"
     ]
    }
   ],
   "source": [
    "# Lets recreate our input feature using Word2Vec\n",
    "from gensim.models import Word2Vec, KeyedVectors\n",
    "\n",
    "# load pre-trained word2vec model\n",
    "wv = KeyedVectors.load_word2vec_format('../Data/GoogleNews-vectors-negative300.bin', binary=True)\n",
    "wv.init_sims(replace=True)"
   ]
  },
  {
   "cell_type": "code",
   "execution_count": 56,
   "metadata": {},
   "outputs": [],
   "source": [
    "# create a function to get the average word2vec\n",
    "def get_average_word2vec(tokens_list, vector, generate_missing=False, k=300):\n",
    "    if len(tokens_list)<1:\n",
    "        return np.zeros(k)\n",
    "    if generate_missing:\n",
    "        vectorized = [vector[word] if word in vector else np.random.rand(k) for word in tokens_list]\n",
    "    else:\n",
    "        vectorized = [vector[word] if word in vector else np.zeros(k) for word in tokens_list]\n",
    "    length = len(vectorized)\n",
    "    summed = np.sum(vectorized, axis=0)\n",
    "    averaged = np.divide(summed, length)\n",
    "    return averaged\n",
    "\n",
    "# create a function to get the word2vec for each question\n",
    "def get_word2vec_embeddings(vectors, data, generate_missing=False):\n",
    "    embeddings = data['question'].apply(lambda x: get_average_word2vec(x, vectors, \n",
    "                                                                       generate_missing=generate_missing))\n",
    "    return list(embeddings)\n",
    "\n"
   ]
  },
  {
   "cell_type": "code",
   "execution_count": 57,
   "metadata": {},
   "outputs": [],
   "source": [
    "# get the word2vec embeddings for the training data\n",
    "train_word2vec = get_word2vec_embeddings(wv, train_X)\n",
    "\n",
    "# get the word2vec embeddings for the test data\n",
    "test_word2vec = get_word2vec_embeddings(wv, test)"
   ]
  },
  {
   "cell_type": "code",
   "execution_count": 58,
   "metadata": {},
   "outputs": [
    {
     "data": {
      "text/plain": [
       "0.473"
      ]
     },
     "execution_count": 58,
     "metadata": {},
     "output_type": "execute_result"
    }
   ],
   "source": [
    "# Train SVC model\n",
    "model = SVC(kernel='linear', C=1, gamma='auto', probability=True)\n",
    "\n",
    "# fit the model\n",
    "model.fit(train_word2vec, train['topic'])\n",
    "\n",
    "# predict the test data\n",
    "pred = model.predict(test_word2vec)\n",
    "\n",
    "# calculate the accuracy\n",
    "accuracy_score(test['topic'], pred)"
   ]
  },
  {
   "cell_type": "code",
   "execution_count": 59,
   "metadata": {},
   "outputs": [
    {
     "data": {
      "text/plain": [
       "(0.489, 0.473)"
      ]
     },
     "execution_count": 59,
     "metadata": {},
     "output_type": "execute_result"
    }
   ],
   "source": [
    "# train score vs. test score\n",
    "model.score(train_word2vec, train['topic']), model.score(test_word2vec, test['topic'])"
   ]
  },
  {
   "cell_type": "code",
   "execution_count": 60,
   "metadata": {},
   "outputs": [],
   "source": [
    "scores_table = scores_table.append({'model': 'Word2Vec -> SVC', 'train_score': model.score(train_word2vec, train['topic']), 'test_score': model.score(test_word2vec, test['topic'])}, ignore_index=True)"
   ]
  },
  {
   "cell_type": "code",
   "execution_count": 61,
   "metadata": {},
   "outputs": [
    {
     "name": "stdout",
     "output_type": "stream",
     "text": [
      "Question: realli interest special deal offer\n",
      "Topic: Product Comparison\n",
      "\n",
      "Question: look best deal\n",
      "Topic: Shipping\n",
      "\n",
      "Question: kind payment method accept\n",
      "Topic: Shipping\n",
      "\n",
      "Question: wonder could ship countri\n",
      "Topic: Shipping\n",
      "\n"
     ]
    }
   ],
   "source": [
    "# Lets use the model to predict the topic of a question\n",
    "questions = [\n",
    "    \"I'm really interested in your special deals. Do you have any offers?\",\n",
    "    \"I'm looking for a new car. What are your best deals?\",\n",
    "    \"What kind of payment methods do you accept?\",\n",
    "    \"I was wondering if you could ship to my country?\"\n",
    "]\n",
    "\n",
    "# preprocess the question\n",
    "questions = [preprocessing(question) for question in questions]\n",
    "\n",
    "# get the word2vec embeddings for the questions\n",
    "questions_word2vec = get_word2vec_embeddings(wv, pd.DataFrame({'question': questions}))\n",
    "\n",
    "# for each question, predict the topic and print the result\n",
    "for question, topic in zip(questions, model.predict(questions_word2vec)):\n",
    "    print('Question: {}'.format(' '.join(question)))\n",
    "    print('Topic: {}'.format(topic) + '\\n')"
   ]
  },
  {
   "cell_type": "code",
   "execution_count": 62,
   "metadata": {},
   "outputs": [
    {
     "data": {
      "text/plain": [
       "0.802"
      ]
     },
     "execution_count": 62,
     "metadata": {},
     "output_type": "execute_result"
    }
   ],
   "source": [
    "# Random Forest model\n",
    "model = RandomForestClassifier(n_estimators=100, max_depth=10, random_state=0)\n",
    "\n",
    "# fit the model\n",
    "model.fit(train_word2vec, train['topic'])\n",
    "\n",
    "# predict the test data\n",
    "pred = model.predict(test_word2vec)\n",
    "\n",
    "# calculate the accuracy\n",
    "accuracy_score(test['topic'], pred)"
   ]
  },
  {
   "cell_type": "code",
   "execution_count": 63,
   "metadata": {},
   "outputs": [
    {
     "data": {
      "text/plain": [
       "(0.9855, 0.802)"
      ]
     },
     "execution_count": 63,
     "metadata": {},
     "output_type": "execute_result"
    }
   ],
   "source": [
    "# train score vs. test score\n",
    "model.score(train_word2vec, train['topic']), model.score(test_word2vec, test['topic'])"
   ]
  },
  {
   "cell_type": "code",
   "execution_count": 64,
   "metadata": {},
   "outputs": [],
   "source": [
    "scores_table = scores_table.append({'model': 'Word2Vec -> Random Forest', 'train_score': model.score(train_word2vec, train['topic']), 'test_score': model.score(test_word2vec, test['topic'])}, ignore_index=True)"
   ]
  },
  {
   "cell_type": "code",
   "execution_count": 65,
   "metadata": {},
   "outputs": [
    {
     "name": "stdout",
     "output_type": "stream",
     "text": [
      "Question: realli interest special deal offer\n",
      "Topic: Product Specifications\n",
      "\n",
      "Question: look best deal\n",
      "Topic: Product Specifications\n",
      "\n",
      "Question: kind payment method accept\n",
      "Topic: Product Comparison\n",
      "\n",
      "Question: wonder could ship countri\n",
      "Topic: Product Specifications\n",
      "\n"
     ]
    }
   ],
   "source": [
    "questions = [\n",
    "    \"I'm really interested in your special deals. Do you have any offers?\",\n",
    "    \"I'm looking for a new car. What are your best deals?\",\n",
    "    \"What kind of payment methods do you accept?\",\n",
    "    \"I was wondering if you could ship to my country?\"\n",
    "]\n",
    "\n",
    "# preprocess the question\n",
    "questions = [preprocessing(question) for question in questions]\n",
    "\n",
    "# get the word2vec embeddings for the questions\n",
    "questions_word2vec = get_word2vec_embeddings(wv, pd.DataFrame({'question': questions}))\n",
    "\n",
    "# for each question, predict the topic and print the result\n",
    "for question, topic in zip(questions, model.predict(questions_word2vec)):\n",
    "    print('Question: {}'.format(' '.join(question)))\n",
    "    print('Topic: {}'.format(topic) + '\\n')"
   ]
  },
  {
   "cell_type": "code",
   "execution_count": null,
   "metadata": {},
   "outputs": [],
   "source": [
    "# MLP model\n",
    "model = MLPClassifier(hidden_layer_sizes=(100, 100, 100), max_iter=500, alpha=0.0001, solver='sgd', verbose=10,  random_state=21, tol=0.000000001)\n",
    "\n",
    "# fit the model\n",
    "model.fit(train_word2vec, train['topic'])\n",
    "\n",
    "# predict the test data\n",
    "pred = model.predict(test_word2vec)\n",
    "\n",
    "# calculate the accuracy\n",
    "accuracy_score(test['topic'], pred)"
   ]
  },
  {
   "cell_type": "code",
   "execution_count": 67,
   "metadata": {},
   "outputs": [
    {
     "data": {
      "text/plain": [
       "(0.33575, 0.306)"
      ]
     },
     "execution_count": 67,
     "metadata": {},
     "output_type": "execute_result"
    }
   ],
   "source": [
    "# train accuracy vs. test accuracy\n",
    "model.score(train_word2vec, train['topic']), model.score(test_word2vec, test['topic'])"
   ]
  },
  {
   "cell_type": "code",
   "execution_count": 68,
   "metadata": {},
   "outputs": [],
   "source": [
    "scores_table = scores_table.append({'model': 'Word2Vec -> MLP', 'train_score': model.score(train_word2vec, train['topic']), 'test_score': model.score(test_word2vec, test['topic'])}, ignore_index=True)"
   ]
  },
  {
   "cell_type": "code",
   "execution_count": 69,
   "metadata": {},
   "outputs": [
    {
     "name": "stdout",
     "output_type": "stream",
     "text": [
      "Question: realli interest special deal offer\n",
      "Topic: Product Comparison\n",
      "\n",
      "Question: look best deal\n",
      "Topic: Product Comparison\n",
      "\n",
      "Question: kind payment method accept\n",
      "Topic: Product Comparison\n",
      "\n",
      "Question: wonder could ship countri\n",
      "Topic: Product Comparison\n",
      "\n"
     ]
    }
   ],
   "source": [
    "questions = [\n",
    "    \"I'm really interested in your special deals. Do you have any offers?\",\n",
    "    \"I'm looking for a new car. What are your best deals?\",\n",
    "    \"What kind of payment methods do you accept?\",\n",
    "    \"I was wondering if you could ship to my country?\"\n",
    "]\n",
    "\n",
    "# preprocess the question\n",
    "questions = [preprocessing(question) for question in questions]\n",
    "\n",
    "# get the word2vec embeddings for the questions\n",
    "questions_word2vec = get_word2vec_embeddings(wv, pd.DataFrame({'question': questions}))\n",
    "\n",
    "# for each question, predict the topic and print the result\n",
    "for question, topic in zip(questions, model.predict(questions_word2vec)):\n",
    "    print('Question: {}'.format(' '.join(question)))\n",
    "    print('Topic: {}'.format(topic) + '\\n')"
   ]
  },
  {
   "cell_type": "markdown",
   "metadata": {},
   "source": [
    "### Part 2.3) Using Doc2Vec"
   ]
  },
  {
   "cell_type": "code",
   "execution_count": 70,
   "metadata": {},
   "outputs": [],
   "source": [
    "# Lets recreate the input feature using Doc2Vec\n",
    "from gensim.models.doc2vec import Doc2Vec, TaggedDocument"
   ]
  },
  {
   "cell_type": "code",
   "execution_count": 71,
   "metadata": {},
   "outputs": [
    {
     "data": {
      "text/plain": [
       "{'Shipping': 0,\n",
       " 'Sales/Promotions': 1,\n",
       " 'Omnichannel': 2,\n",
       " 'Returns & Refunds': 3,\n",
       " 'Product Comparison': 4,\n",
       " 'Product Specifications': 5,\n",
       " 'Product Availability': 6}"
      ]
     },
     "execution_count": 71,
     "metadata": {},
     "output_type": "execute_result"
    }
   ],
   "source": [
    "tags_index = {tag: i for i, tag in enumerate(train['topic'].unique())}\n",
    "\n",
    "tags_index"
   ]
  },
  {
   "cell_type": "code",
   "execution_count": 72,
   "metadata": {},
   "outputs": [],
   "source": [
    "# create a function to get the doc2vec embeddings\n",
    "def get_doc2vec_embeddings(vectors, data):\n",
    "    embeddings = [vectors.infer_vector(question) for question in data['question']]\n",
    "    return embeddings"
   ]
  },
  {
   "cell_type": "code",
   "execution_count": 73,
   "metadata": {},
   "outputs": [],
   "source": [
    "# Tag the questions\n",
    "train_tagged = train.apply(\n",
    "    lambda r: TaggedDocument(words=r['question'], tags=[tags_index[r['topic']]]), axis=1)\n",
    "test_tagged = test.apply(\n",
    "    lambda r: TaggedDocument(words=r['question'], tags=[tags_index[r['topic']]]), axis=1)"
   ]
  },
  {
   "cell_type": "code",
   "execution_count": 74,
   "metadata": {},
   "outputs": [],
   "source": [
    "# tqdm\n",
    "from tqdm import tqdm"
   ]
  },
  {
   "cell_type": "code",
   "execution_count": 75,
   "metadata": {},
   "outputs": [
    {
     "name": "stderr",
     "output_type": "stream",
     "text": [
      "100%|██████████| 4000/4000 [00:00<00:00, 1333960.09it/s]\n"
     ]
    }
   ],
   "source": [
    "# train the doc2vec model\n",
    "d2v_model = Doc2Vec(dm=1, vector_size=300, negative=5, min_count=1, alpha=0.065, min_alpha=0.065)\n",
    "d2v_model.build_vocab([x for x in tqdm(train_tagged.values)])"
   ]
  },
  {
   "cell_type": "code",
   "execution_count": 76,
   "metadata": {},
   "outputs": [],
   "source": [
    "# utils\n",
    "from sklearn import utils"
   ]
  },
  {
   "cell_type": "code",
   "execution_count": 77,
   "metadata": {},
   "outputs": [
    {
     "name": "stderr",
     "output_type": "stream",
     "text": [
      "100%|██████████| 4000/4000 [00:00<00:00, 4001243.98it/s]\n",
      "100%|██████████| 4000/4000 [00:00<00:00, 4000289.94it/s]\n",
      "100%|██████████| 4000/4000 [00:00<00:00, 4000289.94it/s]\n",
      "100%|██████████| 4000/4000 [00:00<00:00, 4002198.47it/s]\n",
      "100%|██████████| 4000/4000 [00:00<00:00, 3999336.35it/s]\n",
      "100%|██████████| 4000/4000 [00:00<00:00, 4002198.47it/s]\n",
      "100%|██████████| 4000/4000 [00:00<00:00, 4000289.94it/s]\n",
      "100%|██████████| 4000/4000 [00:00<00:00, 3995526.55it/s]\n",
      "100%|██████████| 4000/4000 [00:00<?, ?it/s]\n",
      "100%|██████████| 4000/4000 [00:00<00:00, 3998383.22it/s]\n",
      "100%|██████████| 4000/4000 [00:00<00:00, 4000289.94it/s]\n",
      "100%|██████████| 4000/4000 [00:00<00:00, 3999336.35it/s]\n",
      "100%|██████████| 4000/4000 [00:00<00:00, 4000289.94it/s]\n",
      "100%|██████████| 4000/4000 [00:00<00:00, 3999336.35it/s]\n",
      "100%|██████████| 4000/4000 [00:00<00:00, 3999336.35it/s]\n",
      "100%|██████████| 4000/4000 [00:00<00:00, 3995526.55it/s]\n",
      "100%|██████████| 4000/4000 [00:00<00:00, 4001243.98it/s]\n",
      "100%|██████████| 4000/4000 [00:00<?, ?it/s]\n",
      "100%|██████████| 4000/4000 [00:00<00:00, 4000289.94it/s]\n",
      "100%|██████████| 4000/4000 [00:00<00:00, 3999336.35it/s]\n",
      "100%|██████████| 4000/4000 [00:00<00:00, 4000289.94it/s]\n",
      "100%|██████████| 4000/4000 [00:00<?, ?it/s]\n",
      "100%|██████████| 4000/4000 [00:00<00:00, 4002198.47it/s]\n",
      "100%|██████████| 4000/4000 [00:00<00:00, 3995526.55it/s]\n",
      "100%|██████████| 4000/4000 [00:00<00:00, 3999336.35it/s]\n",
      "100%|██████████| 4000/4000 [00:00<00:00, 3998383.22it/s]\n",
      "100%|██████████| 4000/4000 [00:00<?, ?it/s]\n",
      "100%|██████████| 4000/4000 [00:00<00:00, 4003153.42it/s]\n",
      "100%|██████████| 4000/4000 [00:00<00:00, 3998383.22it/s]\n",
      "100%|██████████| 4000/4000 [00:00<00:00, 3999336.35it/s]\n"
     ]
    }
   ],
   "source": [
    "# train the model\n",
    "for epoch in range(30):\n",
    "    d2v_model.train(utils.shuffle([x for x in tqdm(train_tagged.values)]), total_examples=len(train_tagged.values), epochs=1)\n",
    "    d2v_model.alpha -= 0.002\n",
    "    d2v_model.min_alpha = d2v_model.alpha\n"
   ]
  },
  {
   "cell_type": "code",
   "execution_count": 78,
   "metadata": {},
   "outputs": [],
   "source": [
    "# get the doc2vec embeddings for the training data\n",
    "# train_doc2vec = get_doc2vec_embeddings(d2v_model, train_X)\n",
    "\n",
    "# the above code gets the following error: TypeError: Parameter doc_words of infer_vector() must be a list of strings (not a single string).\n",
    "# To fix this, we need to convert the question to a list of strings\n",
    "train_X2 = train_X.copy()\n",
    "train_X2['question'] = train_X2['question'].apply(lambda x: x.split())\n",
    "\n",
    "# get the doc2vec embeddings for the training data\n",
    "train_doc2vec = get_doc2vec_embeddings(d2v_model, train_X2)"
   ]
  },
  {
   "cell_type": "code",
   "execution_count": 79,
   "metadata": {},
   "outputs": [],
   "source": [
    "test_X2 = test.copy()\n",
    "test_X2['question'] = test_X2['question'].apply(lambda x: x.split())\n",
    "\n",
    "# get the doc2vec embeddings for the test data\n",
    "test_doc2vec = get_doc2vec_embeddings(d2v_model, test_X2)"
   ]
  },
  {
   "cell_type": "code",
   "execution_count": 80,
   "metadata": {},
   "outputs": [
    {
     "data": {
      "text/plain": [
       "0.161"
      ]
     },
     "execution_count": 80,
     "metadata": {},
     "output_type": "execute_result"
    }
   ],
   "source": [
    "# SVC model\n",
    "model = SVC(kernel='linear', C=1, random_state=0)\n",
    "\n",
    "# fit model lets using test_X2 and train_doc2vec\n",
    "model.fit(train_doc2vec, train['topic'])\n",
    "\n",
    "# predict the test data\n",
    "pred = model.predict(test_doc2vec)\n",
    "\n",
    "# calculate the accuracy\n",
    "accuracy_score(test['topic'], pred)"
   ]
  },
  {
   "cell_type": "code",
   "execution_count": 81,
   "metadata": {},
   "outputs": [
    {
     "data": {
      "text/plain": [
       "(0.1695, 0.161)"
      ]
     },
     "execution_count": 81,
     "metadata": {},
     "output_type": "execute_result"
    }
   ],
   "source": [
    "# train accuracy vs. test accuracy\n",
    "model.score(train_doc2vec, train['topic']), model.score(test_doc2vec, test['topic'])"
   ]
  },
  {
   "cell_type": "code",
   "execution_count": 82,
   "metadata": {},
   "outputs": [],
   "source": [
    "scores_table = scores_table.append({'model': 'Doc2Vec -> MLP', 'train_score': model.score(train_word2vec, train['topic']), 'test_score': model.score(test_word2vec, test['topic'])}, ignore_index=True)"
   ]
  },
  {
   "cell_type": "code",
   "execution_count": 83,
   "metadata": {},
   "outputs": [
    {
     "name": "stdout",
     "output_type": "stream",
     "text": [
      "Question: realli interest special deal offer\n",
      "Topic: Product Specifications\n",
      "\n",
      "Question: look best deal\n",
      "Topic: Product Specifications\n",
      "\n",
      "Question: kind payment method accept\n",
      "Topic: Product Specifications\n",
      "\n",
      "Question: wonder could ship countri\n",
      "Topic: Product Specifications\n",
      "\n"
     ]
    }
   ],
   "source": [
    "# Lets use the model to predict the topic of a question\n",
    "questions = [\n",
    "    \"I'm really interested in your special deals. Do you have any offers?\",\n",
    "    \"I'm looking for a new car. What are your best deals?\",\n",
    "    \"What kind of payment methods do you accept?\",\n",
    "    \"I was wondering if you could ship to my country?\"\n",
    "]\n",
    "\n",
    "# preprocess the question\n",
    "questions = [preprocessing(question) for question in questions]\n",
    "\n",
    "# get the doc2vec embeddings for the questions\n",
    "questions_doc2vec = get_doc2vec_embeddings(d2v_model, pd.DataFrame({'question': questions}))\n",
    "\n",
    "# for each question, predict the topic and print the result\n",
    "for question, topic in zip(questions, model.predict(questions_doc2vec)):\n",
    "    print('Question: {}'.format(' '.join(question)))\n",
    "    print('Topic: {}'.format(topic) + '\\n')"
   ]
  },
  {
   "cell_type": "code",
   "execution_count": 84,
   "metadata": {},
   "outputs": [
    {
     "data": {
      "text/plain": [
       "0.211"
      ]
     },
     "execution_count": 84,
     "metadata": {},
     "output_type": "execute_result"
    }
   ],
   "source": [
    "# Random Forest model\n",
    "model = RandomForestClassifier(n_estimators=100, max_depth=2, random_state=0)\n",
    "\n",
    "# fit the model\n",
    "model.fit(train_doc2vec, train['topic'])\n",
    "\n",
    "# predict the test data\n",
    "pred = model.predict(test_doc2vec)\n",
    "\n",
    "# calculate the accuracy\n",
    "accuracy_score(test['topic'], pred)"
   ]
  },
  {
   "cell_type": "code",
   "execution_count": 85,
   "metadata": {},
   "outputs": [
    {
     "data": {
      "text/plain": [
       "(0.26775, 0.211)"
      ]
     },
     "execution_count": 85,
     "metadata": {},
     "output_type": "execute_result"
    }
   ],
   "source": [
    "# train accuracy vs. test accuracy\n",
    "model.score(train_doc2vec, train['topic']), model.score(test_doc2vec, test['topic'])"
   ]
  },
  {
   "cell_type": "code",
   "execution_count": 86,
   "metadata": {},
   "outputs": [],
   "source": [
    "scores_table = scores_table.append({'model': 'Doc2Vec -> Random Forest', 'train_score': model.score(train_word2vec, train['topic']), 'test_score': model.score(test_word2vec, test['topic'])}, ignore_index=True)"
   ]
  },
  {
   "cell_type": "code",
   "execution_count": 87,
   "metadata": {},
   "outputs": [
    {
     "name": "stdout",
     "output_type": "stream",
     "text": [
      "Question: realli interest special deal offer\n",
      "Topic: Product Specifications\n",
      "\n",
      "Question: look best deal\n",
      "Topic: Product Specifications\n",
      "\n",
      "Question: kind payment method accept\n",
      "Topic: Product Specifications\n",
      "\n",
      "Question: wonder could ship countri\n",
      "Topic: Product Specifications\n",
      "\n"
     ]
    }
   ],
   "source": [
    "# Lets use the model to predict the topic of a question\n",
    "questions = [\n",
    "    \"I'm really interested in your special deals. Do you have any offers?\",\n",
    "    \"I'm looking for a new car. What are your best deals?\",\n",
    "    \"What kind of payment methods do you accept?\",\n",
    "    \"I was wondering if you could ship to my country?\"\n",
    "]\n",
    "\n",
    "# preprocess the question\n",
    "questions = [preprocessing(question) for question in questions]\n",
    "\n",
    "# get the doc2vec embeddings for the questions\n",
    "questions_doc2vec = get_doc2vec_embeddings(d2v_model, pd.DataFrame({'question': questions}))\n",
    "\n",
    "# for each question, predict the topic and print the result\n",
    "for question, topic in zip(questions, model.predict(questions_doc2vec)):\n",
    "    print('Question: {}'.format(' '.join(question)))\n",
    "    print('Topic: {}'.format(topic) + '\\n')"
   ]
  },
  {
   "cell_type": "code",
   "execution_count": null,
   "metadata": {},
   "outputs": [],
   "source": [
    "# MLP model\n",
    "model = MLPClassifier(hidden_layer_sizes=(100, 100, 100), max_iter=500, alpha=0.0001, solver='sgd', verbose=10,  random_state=21, tol=0.000000001)\n",
    "\n",
    "# fit the model\n",
    "model.fit(train_doc2vec, train['topic'])\n",
    "\n",
    "# predict the test data\n",
    "pred = model.predict(test_doc2vec)\n",
    "\n",
    "# calculate the accuracy\n",
    "accuracy_score(test['topic'], pred)"
   ]
  },
  {
   "cell_type": "code",
   "execution_count": 89,
   "metadata": {},
   "outputs": [
    {
     "data": {
      "text/plain": [
       "(0.1695, 0.161)"
      ]
     },
     "execution_count": 89,
     "metadata": {},
     "output_type": "execute_result"
    }
   ],
   "source": [
    "# train accuracy vs. test accuracy\n",
    "model.score(train_doc2vec, train['topic']), model.score(test_doc2vec, test['topic'])"
   ]
  },
  {
   "cell_type": "code",
   "execution_count": 90,
   "metadata": {},
   "outputs": [],
   "source": [
    "scores_table = scores_table.append({'model': 'Doc2Vec -> MLP', 'train_score': model.score(train_word2vec, train['topic']), 'test_score': model.score(test_word2vec, test['topic'])}, ignore_index=True)"
   ]
  },
  {
   "cell_type": "code",
   "execution_count": 91,
   "metadata": {},
   "outputs": [
    {
     "name": "stdout",
     "output_type": "stream",
     "text": [
      "Question: realli interest special deal offer\n",
      "Topic: Product Specifications\n",
      "\n",
      "Question: look best deal\n",
      "Topic: Product Specifications\n",
      "\n",
      "Question: kind payment method accept\n",
      "Topic: Product Specifications\n",
      "\n",
      "Question: wonder could ship countri\n",
      "Topic: Product Specifications\n",
      "\n"
     ]
    }
   ],
   "source": [
    "# Lets use the model to predict the topic of a question\n",
    "questions = [\n",
    "    \"I'm really interested in your special deals. Do you have any offers?\",\n",
    "    \"I'm looking for a new car. What are your best deals?\",\n",
    "    \"What kind of payment methods do you accept?\",\n",
    "    \"I was wondering if you could ship to my country?\"\n",
    "]\n",
    "\n",
    "# preprocess the question\n",
    "questions = [preprocessing(question) for question in questions]\n",
    "\n",
    "# get the doc2vec embeddings for the questions\n",
    "questions_doc2vec = get_doc2vec_embeddings(d2v_model, pd.DataFrame({'question': questions}))\n",
    "\n",
    "# for each question, predict the topic and print the result\n",
    "for question, topic in zip(questions, model.predict(questions_doc2vec)):\n",
    "    print('Question: {}'.format(' '.join(question)))\n",
    "    print('Topic: {}'.format(topic) + '\\n')"
   ]
  },
  {
   "cell_type": "markdown",
   "metadata": {},
   "source": [
    "## Discussion and Showing the results"
   ]
  },
  {
   "cell_type": "code",
   "execution_count": 92,
   "metadata": {},
   "outputs": [],
   "source": [
    "from matplotlib import pyplot as plt"
   ]
  },
  {
   "cell_type": "code",
   "execution_count": 98,
   "metadata": {},
   "outputs": [
    {
     "data": {
      "image/png": "[encoded data removed]",
      "text/plain": [
       "<Figure size 720x360 with 1 Axes>"
      ]
     },
     "metadata": {
      "needs_background": "light"
     },
     "output_type": "display_data"
    }
   ],
   "source": [
    "# display the scores table as a bar chart\n",
    "scores_table.plot.bar(x='model', y=['train_score', 'test_score'], rot=0, figsize=(10, 5))\n",
    "plt.xticks(rotation=90)\n",
    "# title and labels\n",
    "plt.title('Model Scores')\n",
    "plt.xlabel('Model')\n",
    "plt.ylabel('Score')\n",
    "plt.show()"
   ]
  },
  {
   "cell_type": "code",
   "execution_count": 94,
   "metadata": {},
   "outputs": [
    {
     "data": {
      "text/html": [
       "<div>\n",
       "<style scoped>\n",
       "    .dataframe tbody tr th:only-of-type {\n",
       "        vertical-align: middle;\n",
       "    }\n",
       "\n",
       "    .dataframe tbody tr th {\n",
       "        vertical-align: top;\n",
       "    }\n",
       "\n",
       "    .dataframe thead th {\n",
       "        text-align: right;\n",
       "    }\n",
       "</style>\n",
       "<table border=\"1\" class=\"dataframe\">\n",
       "  <thead>\n",
       "    <tr style=\"text-align: right;\">\n",
       "      <th></th>\n",
       "      <th>model</th>\n",
       "      <th>train_score</th>\n",
       "      <th>test_score</th>\n",
       "    </tr>\n",
       "  </thead>\n",
       "  <tbody>\n",
       "    <tr>\n",
       "      <th>2</th>\n",
       "      <td>TFIDF NGRAM 1-2 -&gt; MLP</td>\n",
       "      <td>0.99900</td>\n",
       "      <td>0.955</td>\n",
       "    </tr>\n",
       "    <tr>\n",
       "      <th>0</th>\n",
       "      <td>TFIDF NGRAM 1-2 -&gt; SVC</td>\n",
       "      <td>0.98725</td>\n",
       "      <td>0.952</td>\n",
       "    </tr>\n",
       "    <tr>\n",
       "      <th>1</th>\n",
       "      <td>TFIDF NGRAM 1-2 -&gt; Random Forest</td>\n",
       "      <td>0.86300</td>\n",
       "      <td>0.847</td>\n",
       "    </tr>\n",
       "    <tr>\n",
       "      <th>7</th>\n",
       "      <td>Word2Vec -&gt; Random Forest</td>\n",
       "      <td>0.98550</td>\n",
       "      <td>0.802</td>\n",
       "    </tr>\n",
       "    <tr>\n",
       "      <th>6</th>\n",
       "      <td>Word2Vec -&gt; SVC</td>\n",
       "      <td>0.48900</td>\n",
       "      <td>0.473</td>\n",
       "    </tr>\n",
       "    <tr>\n",
       "      <th>8</th>\n",
       "      <td>Word2Vec -&gt; MLP</td>\n",
       "      <td>0.33575</td>\n",
       "      <td>0.306</td>\n",
       "    </tr>\n",
       "    <tr>\n",
       "      <th>10</th>\n",
       "      <td>Doc2Vec -&gt; Random Forest</td>\n",
       "      <td>0.21025</td>\n",
       "      <td>0.198</td>\n",
       "    </tr>\n",
       "    <tr>\n",
       "      <th>3</th>\n",
       "      <td>TFIDF NGRAM 4-5 -&gt; SVC</td>\n",
       "      <td>0.18175</td>\n",
       "      <td>0.184</td>\n",
       "    </tr>\n",
       "    <tr>\n",
       "      <th>4</th>\n",
       "      <td>TFIDF NGRAM 4-5 -&gt; Random Forest</td>\n",
       "      <td>0.18150</td>\n",
       "      <td>0.178</td>\n",
       "    </tr>\n",
       "    <tr>\n",
       "      <th>5</th>\n",
       "      <td>TFIDF NGRAM 4-5 -&gt; MLP</td>\n",
       "      <td>0.17325</td>\n",
       "      <td>0.175</td>\n",
       "    </tr>\n",
       "    <tr>\n",
       "      <th>9</th>\n",
       "      <td>Doc2Vec -&gt; MLP</td>\n",
       "      <td>0.16950</td>\n",
       "      <td>0.161</td>\n",
       "    </tr>\n",
       "    <tr>\n",
       "      <th>11</th>\n",
       "      <td>Doc2Vec -&gt; MLP</td>\n",
       "      <td>0.16950</td>\n",
       "      <td>0.161</td>\n",
       "    </tr>\n",
       "  </tbody>\n",
       "</table>\n",
       "</div>"
      ],
      "text/plain": [
       "                               model  train_score  test_score\n",
       "2             TFIDF NGRAM 1-2 -> MLP      0.99900       0.955\n",
       "0             TFIDF NGRAM 1-2 -> SVC      0.98725       0.952\n",
       "1   TFIDF NGRAM 1-2 -> Random Forest      0.86300       0.847\n",
       "7          Word2Vec -> Random Forest      0.98550       0.802\n",
       "6                    Word2Vec -> SVC      0.48900       0.473\n",
       "8                    Word2Vec -> MLP      0.33575       0.306\n",
       "10          Doc2Vec -> Random Forest      0.21025       0.198\n",
       "3             TFIDF NGRAM 4-5 -> SVC      0.18175       0.184\n",
       "4   TFIDF NGRAM 4-5 -> Random Forest      0.18150       0.178\n",
       "5             TFIDF NGRAM 4-5 -> MLP      0.17325       0.175\n",
       "9                     Doc2Vec -> MLP      0.16950       0.161\n",
       "11                    Doc2Vec -> MLP      0.16950       0.161"
      ]
     },
     "execution_count": 94,
     "metadata": {},
     "output_type": "execute_result"
    }
   ],
   "source": [
    "# display and sort the scores table by test score\n",
    "scores_table.sort_values(by='test_score', ascending=False)"
   ]
  }
 ],
 "metadata": {
  "kernelspec": {
   "display_name": "Python 3.10.7 64-bit",
   "language": "python",
   "name": "python3"
  },
  "language_info": {
   "codemirror_mode": {
    "name": "ipython",
    "version": 3
   },
   "file_extension": ".py",
   "mimetype": "text/x-python",
   "name": "python",
   "nbconvert_exporter": "python",
   "pygments_lexer": "ipython3",
   "version": "3.10.7"
  },
  "orig_nbformat": 4,
  "vscode": {
   "interpreter": {
    "hash": "85c576d62e5a69baba7dcae6282c7bf6fba6f8d537c9cbb11ca984aece3c77a0"
   }
  }
 },
 "nbformat": 4,
 "nbformat_minor": 2
}
