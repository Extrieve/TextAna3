{
 "cells": [
  {
   "cell_type": "markdown",
   "metadata": {},
   "source": [
    "## Preprocessing and understanding the data"
   ]
  },
  {
   "cell_type": "code",
   "execution_count": 43,
   "metadata": {},
   "outputs": [],
   "source": [
    "import pandas as pd\n",
    "import re, string"
   ]
  },
  {
   "cell_type": "code",
   "execution_count": 44,
   "metadata": {},
   "outputs": [
    {
     "data": {
      "text/html": [
       "<div>\n",
       "<style scoped>\n",
       "    .dataframe tbody tr th:only-of-type {\n",
       "        vertical-align: middle;\n",
       "    }\n",
       "\n",
       "    .dataframe tbody tr th {\n",
       "        vertical-align: top;\n",
       "    }\n",
       "\n",
       "    .dataframe thead th {\n",
       "        text-align: right;\n",
       "    }\n",
       "</style>\n",
       "<table border=\"1\" class=\"dataframe\">\n",
       "  <thead>\n",
       "    <tr style=\"text-align: right;\">\n",
       "      <th></th>\n",
       "      <th>question</th>\n",
       "      <th>topic</th>\n",
       "    </tr>\n",
       "  </thead>\n",
       "  <tbody>\n",
       "    <tr>\n",
       "      <th>0</th>\n",
       "      <td>Hi! If I sign up for your email list, can I se...</td>\n",
       "      <td>Sales/Promotions</td>\n",
       "    </tr>\n",
       "    <tr>\n",
       "      <th>1</th>\n",
       "      <td>I'm going to be out of the country for about a...</td>\n",
       "      <td>Shipping</td>\n",
       "    </tr>\n",
       "    <tr>\n",
       "      <th>2</th>\n",
       "      <td>I was wondering if you'd be able to overnight ...</td>\n",
       "      <td>Shipping</td>\n",
       "    </tr>\n",
       "    <tr>\n",
       "      <th>3</th>\n",
       "      <td>The Swingline electronic stapler (472555) look...</td>\n",
       "      <td>Shipping</td>\n",
       "    </tr>\n",
       "    <tr>\n",
       "      <th>4</th>\n",
       "      <td>I think this cosmetic bag would work great for...</td>\n",
       "      <td>Shipping</td>\n",
       "    </tr>\n",
       "  </tbody>\n",
       "</table>\n",
       "</div>"
      ],
      "text/plain": [
       "                                            question             topic\n",
       "0  Hi! If I sign up for your email list, can I se...  Sales/Promotions\n",
       "1  I'm going to be out of the country for about a...          Shipping\n",
       "2  I was wondering if you'd be able to overnight ...          Shipping\n",
       "3  The Swingline electronic stapler (472555) look...          Shipping\n",
       "4  I think this cosmetic bag would work great for...          Shipping"
      ]
     },
     "execution_count": 44,
     "metadata": {},
     "output_type": "execute_result"
    }
   ],
   "source": [
    "data = pd.read_csv('../Data/data.csv')\n",
    "data.head()"
   ]
  },
  {
   "cell_type": "code",
   "execution_count": 45,
   "metadata": {},
   "outputs": [
    {
     "data": {
      "text/plain": [
       "(5000, 2)"
      ]
     },
     "execution_count": 45,
     "metadata": {},
     "output_type": "execute_result"
    }
   ],
   "source": [
    "data.shape"
   ]
  },
  {
   "cell_type": "code",
   "execution_count": 46,
   "metadata": {},
   "outputs": [
    {
     "data": {
      "text/plain": [
       "(5000, 2)"
      ]
     },
     "execution_count": 46,
     "metadata": {},
     "output_type": "execute_result"
    }
   ],
   "source": [
    "# drop rows with missing values\n",
    "data.dropna(inplace=True)\n",
    "\n",
    "data.shape"
   ]
  },
  {
   "cell_type": "code",
   "execution_count": 47,
   "metadata": {},
   "outputs": [],
   "source": [
    "from nltk.stem.snowball import SnowballStemmer\n",
    "from nltk.corpus import stopwords\n",
    "from nltk.tokenize import word_tokenize\n",
    "import nltk"
   ]
  },
  {
   "cell_type": "code",
   "execution_count": 48,
   "metadata": {},
   "outputs": [
    {
     "name": "stderr",
     "output_type": "stream",
     "text": [
      "[nltk_data] Downloading package stopwords to\n",
      "[nltk_data]     C:\\Users\\nicol\\AppData\\Roaming\\nltk_data...\n",
      "[nltk_data]   Package stopwords is already up-to-date!\n"
     ]
    },
    {
     "data": {
      "text/plain": [
       "True"
      ]
     },
     "execution_count": 48,
     "metadata": {},
     "output_type": "execute_result"
    }
   ],
   "source": [
    "nltk.download('stopwords')"
   ]
  },
  {
   "cell_type": "code",
   "execution_count": 49,
   "metadata": {},
   "outputs": [],
   "source": [
    "stemmer = SnowballStemmer(\"english\")\n",
    "stop_words = set(stopwords.words('english'))"
   ]
  },
  {
   "cell_type": "code",
   "execution_count": 50,
   "metadata": {},
   "outputs": [],
   "source": [
    "def preprocessing(text):\n",
    "   tokens = [word for word in nltk.word_tokenize(text) if (len(word) > 3 and len(word.strip('Xx/')) > 2 and len(re.sub('\\d+', '', word.strip('Xx/'))) > 3) ] \n",
    "   tokens = map(str.lower, tokens)\n",
    "   stems = [stemmer.stem(item) for item in tokens if (item not in stop_words)]\n",
    "   return stems"
   ]
  },
  {
   "cell_type": "code",
   "execution_count": 51,
   "metadata": {},
   "outputs": [],
   "source": [
    "# data['question'] = data['question'].apply(preprocessing)"
   ]
  },
  {
   "cell_type": "code",
   "execution_count": 52,
   "metadata": {},
   "outputs": [
    {
     "data": {
      "text/html": [
       "<div>\n",
       "<style scoped>\n",
       "    .dataframe tbody tr th:only-of-type {\n",
       "        vertical-align: middle;\n",
       "    }\n",
       "\n",
       "    .dataframe tbody tr th {\n",
       "        vertical-align: top;\n",
       "    }\n",
       "\n",
       "    .dataframe thead th {\n",
       "        text-align: right;\n",
       "    }\n",
       "</style>\n",
       "<table border=\"1\" class=\"dataframe\">\n",
       "  <thead>\n",
       "    <tr style=\"text-align: right;\">\n",
       "      <th></th>\n",
       "      <th>question</th>\n",
       "      <th>topic</th>\n",
       "    </tr>\n",
       "  </thead>\n",
       "  <tbody>\n",
       "    <tr>\n",
       "      <th>0</th>\n",
       "      <td>Hi! If I sign up for your email list, can I se...</td>\n",
       "      <td>Sales/Promotions</td>\n",
       "    </tr>\n",
       "    <tr>\n",
       "      <th>1</th>\n",
       "      <td>I'm going to be out of the country for about a...</td>\n",
       "      <td>Shipping</td>\n",
       "    </tr>\n",
       "    <tr>\n",
       "      <th>2</th>\n",
       "      <td>I was wondering if you'd be able to overnight ...</td>\n",
       "      <td>Shipping</td>\n",
       "    </tr>\n",
       "    <tr>\n",
       "      <th>3</th>\n",
       "      <td>The Swingline electronic stapler (472555) look...</td>\n",
       "      <td>Shipping</td>\n",
       "    </tr>\n",
       "    <tr>\n",
       "      <th>4</th>\n",
       "      <td>I think this cosmetic bag would work great for...</td>\n",
       "      <td>Shipping</td>\n",
       "    </tr>\n",
       "  </tbody>\n",
       "</table>\n",
       "</div>"
      ],
      "text/plain": [
       "                                            question             topic\n",
       "0  Hi! If I sign up for your email list, can I se...  Sales/Promotions\n",
       "1  I'm going to be out of the country for about a...          Shipping\n",
       "2  I was wondering if you'd be able to overnight ...          Shipping\n",
       "3  The Swingline electronic stapler (472555) look...          Shipping\n",
       "4  I think this cosmetic bag would work great for...          Shipping"
      ]
     },
     "execution_count": 52,
     "metadata": {},
     "output_type": "execute_result"
    }
   ],
   "source": [
    "data.head()"
   ]
  },
  {
   "cell_type": "code",
   "execution_count": 53,
   "metadata": {},
   "outputs": [],
   "source": [
    "import numpy as np\n",
    "from sklearn.model_selection import train_test_split"
   ]
  },
  {
   "cell_type": "code",
   "execution_count": 54,
   "metadata": {},
   "outputs": [
    {
     "data": {
      "text/plain": [
       "array(['Sales/Promotions', 'Shipping', 'Product Availability',\n",
       "       'Product Specifications', 'Omnichannel', 'Product Comparison',\n",
       "       'Returns & Refunds'], dtype=object)"
      ]
     },
     "execution_count": 54,
     "metadata": {},
     "output_type": "execute_result"
    }
   ],
   "source": [
    "# lets grab all unique values from topic and then use them as our target\n",
    "target = data['topic'].unique()\n",
    "target"
   ]
  },
  {
   "cell_type": "code",
   "execution_count": 55,
   "metadata": {},
   "outputs": [],
   "source": [
    "# split the data into train\n",
    "train, test = train_test_split(data, test_size=0.2, random_state=42)\n",
    "\n",
    "train_X = train.drop('topic', axis=1)"
   ]
  },
  {
   "cell_type": "code",
   "execution_count": 56,
   "metadata": {},
   "outputs": [
    {
     "data": {
      "text/plain": [
       "((4000, 2), (1000, 2))"
      ]
     },
     "execution_count": 56,
     "metadata": {},
     "output_type": "execute_result"
    }
   ],
   "source": [
    "train.shape, test.shape"
   ]
  },
  {
   "cell_type": "code",
   "execution_count": 57,
   "metadata": {},
   "outputs": [],
   "source": [
    "# Lets vectorize the data\n",
    "from sklearn.feature_extraction.text import TfidfVectorizer"
   ]
  },
  {
   "cell_type": "code",
   "execution_count": 61,
   "metadata": {},
   "outputs": [],
   "source": [
    "# create the transform\n",
    "vectorizer = TfidfVectorizer(tokenizer=preprocessing, ngram_range=(1, 2), stop_words=None, min_df=0.001, max_df=0.75, max_features=2500)\n",
    "\n",
    "train_vectors = vectorizer.fit_transform(train_X['question'])"
   ]
  },
  {
   "cell_type": "code",
   "execution_count": 59,
   "metadata": {},
   "outputs": [],
   "source": [
    "test_vector = vectorizer.transform(test['question'])"
   ]
  },
  {
   "cell_type": "code",
   "execution_count": 63,
   "metadata": {},
   "outputs": [
    {
     "name": "stderr",
     "output_type": "stream",
     "text": [
      "c:\\Users\\nicol\\AppData\\Local\\Programs\\Python\\Python310\\lib\\site-packages\\sklearn\\utils\\deprecation.py:87: FutureWarning: Function get_feature_names is deprecated; get_feature_names is deprecated in 1.0 and will be removed in 1.2. Please use get_feature_names_out instead.\n",
      "  warnings.warn(msg, category=FutureWarning)\n"
     ]
    }
   ],
   "source": [
    "train_df = pd.DataFrame(train_vectors.toarray(), columns=vectorizer.get_feature_names())\n",
    "train_df = pd.concat([train_df, train['topic']], axis=1)"
   ]
  },
  {
   "cell_type": "markdown",
   "metadata": {},
   "source": [
    "## select (1) one multi-class classifier (e.g., Naive Bayes, Logistic, Decision Tree, SVM) whose code is provided in class handouts"
   ]
  },
  {
   "cell_type": "code",
   "execution_count": 64,
   "metadata": {},
   "outputs": [],
   "source": [
    "# Lets use svm to train the model\n",
    "from sklearn.svm import SVC\n",
    "from sklearn.metrics import accuracy_score"
   ]
  },
  {
   "cell_type": "code",
   "execution_count": 65,
   "metadata": {},
   "outputs": [
    {
     "data": {
      "text/plain": [
       "SVC(C=1, gamma='auto', kernel='linear', probability=True)"
      ]
     },
     "execution_count": 65,
     "metadata": {},
     "output_type": "execute_result"
    }
   ],
   "source": [
    "# create the model, this is a multi-class classification problem\n",
    "model = SVC(kernel='linear', C=1, gamma='auto', probability=True)\n",
    "\n",
    "# fit the model\n",
    "model.fit(train_vectors, train['topic'])"
   ]
  },
  {
   "cell_type": "code",
   "execution_count": 66,
   "metadata": {},
   "outputs": [
    {
     "data": {
      "text/plain": [
       "0.952"
      ]
     },
     "execution_count": 66,
     "metadata": {},
     "output_type": "execute_result"
    }
   ],
   "source": [
    "# predict the test data\n",
    "pred = model.predict(test_vector)\n",
    "\n",
    "# calculate the accuracy\n",
    "accuracy_score(test['topic'], pred)"
   ]
  },
  {
   "cell_type": "code",
   "execution_count": 70,
   "metadata": {},
   "outputs": [
    {
     "data": {
      "text/plain": [
       "array(['Sales/Promotions'], dtype=object)"
      ]
     },
     "execution_count": 70,
     "metadata": {},
     "output_type": "execute_result"
    }
   ],
   "source": [
    "# Lets use the model to predict the topic of a question\n",
    "question = \"I'm really interested in your special deals. Do you have any offers?\"\n",
    "\n",
    "# preprocess the question\n",
    "question = preprocessing(question)\n",
    "\n",
    "# vectorize the question\n",
    "question_vector = vectorizer.transform([' '.join(question)])\n",
    "\n",
    "# predict the topic\n",
    "model.predict(question_vector)"
   ]
  },
  {
   "cell_type": "markdown",
   "metadata": {},
   "source": [
    "## (2) one ensemble classifier whose code is also provided (e.g., Random Forest, XGBoost)"
   ]
  },
  {
   "cell_type": "code",
   "execution_count": 71,
   "metadata": {},
   "outputs": [],
   "source": [
    "# Lets use an ensemble classifier to improve the accuracy\n",
    "from sklearn.ensemble import RandomForestClassifier"
   ]
  },
  {
   "cell_type": "code",
   "execution_count": 72,
   "metadata": {},
   "outputs": [
    {
     "data": {
      "text/plain": [
       "0.847"
      ]
     },
     "execution_count": 72,
     "metadata": {},
     "output_type": "execute_result"
    }
   ],
   "source": [
    "# create the model\n",
    "model = RandomForestClassifier(n_estimators=100, max_depth=10, random_state=0)\n",
    "\n",
    "# fit the model\n",
    "model.fit(train_vectors, train['topic'])\n",
    "\n",
    "# predict the test data\n",
    "pred = model.predict(test_vector)\n",
    "\n",
    "# calculate the accuracy\n",
    "accuracy_score(test['topic'], pred)"
   ]
  },
  {
   "cell_type": "code",
   "execution_count": 73,
   "metadata": {},
   "outputs": [
    {
     "data": {
      "text/plain": [
       "array(['Product Specifications'], dtype=object)"
      ]
     },
     "execution_count": 73,
     "metadata": {},
     "output_type": "execute_result"
    }
   ],
   "source": [
    "# Lets use the model to predict the topic of a question\n",
    "question = \"I'm really interested in your special deals. Do you have any offers?\"\n",
    "\n",
    "# preprocess the question\n",
    "question = preprocessing(question)\n",
    "\n",
    "# vectorize the question\n",
    "question_vector = vectorizer.transform([' '.join(question)])\n",
    "\n",
    "# predict the topic\n",
    "model.predict(question_vector)"
   ]
  },
  {
   "cell_type": "markdown",
   "metadata": {},
   "source": [
    "## (3) one other model of your choice whose code is NOT provided in class handouts (this will require some independent research on your part)."
   ]
  },
  {
   "cell_type": "code",
   "execution_count": 74,
   "metadata": {},
   "outputs": [],
   "source": [
    "# Lets use MLP to train the model\n",
    "from sklearn.neural_network import MLPClassifier"
   ]
  },
  {
   "cell_type": "code",
   "execution_count": 75,
   "metadata": {},
   "outputs": [
    {
     "name": "stdout",
     "output_type": "stream",
     "text": [
      "Iteration 1, loss = 1.93341939\n",
      "Iteration 2, loss = 1.93116736\n",
      "Iteration 3, loss = 1.92905598\n",
      "Iteration 4, loss = 1.92700277\n",
      "Iteration 5, loss = 1.92535041\n",
      "Iteration 6, loss = 1.92386400\n",
      "Iteration 7, loss = 1.92258336\n",
      "Iteration 8, loss = 1.92146448\n",
      "Iteration 9, loss = 1.92047054\n",
      "Iteration 10, loss = 1.91960774\n",
      "Iteration 11, loss = 1.91878748\n",
      "Iteration 12, loss = 1.91812209\n",
      "Iteration 13, loss = 1.91738677\n",
      "Iteration 14, loss = 1.91674659\n",
      "Iteration 15, loss = 1.91619460\n",
      "Iteration 16, loss = 1.91559599\n",
      "Iteration 17, loss = 1.91506802\n",
      "Iteration 18, loss = 1.91451537\n",
      "Iteration 19, loss = 1.91399562\n",
      "Iteration 20, loss = 1.91348242\n",
      "Iteration 21, loss = 1.91298342\n",
      "Iteration 22, loss = 1.91247628\n",
      "Iteration 23, loss = 1.91196029\n",
      "Iteration 24, loss = 1.91145128\n",
      "Iteration 25, loss = 1.91095379\n",
      "Iteration 26, loss = 1.91044309\n",
      "Iteration 27, loss = 1.90992209\n",
      "Iteration 28, loss = 1.90940895\n",
      "Iteration 29, loss = 1.90889486\n",
      "Iteration 30, loss = 1.90839753\n",
      "Iteration 31, loss = 1.90785283\n",
      "Iteration 32, loss = 1.90735825\n",
      "Iteration 33, loss = 1.90682784\n",
      "Iteration 34, loss = 1.90623488\n",
      "Iteration 35, loss = 1.90568097\n",
      "Iteration 36, loss = 1.90510241\n",
      "Iteration 37, loss = 1.90452208\n",
      "Iteration 38, loss = 1.90395302\n",
      "Iteration 39, loss = 1.90334114\n",
      "Iteration 40, loss = 1.90271348\n",
      "Iteration 41, loss = 1.90208743\n",
      "Iteration 42, loss = 1.90145898\n",
      "Iteration 43, loss = 1.90079709\n",
      "Iteration 44, loss = 1.90013114\n",
      "Iteration 45, loss = 1.89944902\n",
      "Iteration 46, loss = 1.89874698\n",
      "Iteration 47, loss = 1.89801312\n",
      "Iteration 48, loss = 1.89730372\n",
      "Iteration 49, loss = 1.89654143\n",
      "Iteration 50, loss = 1.89573301\n",
      "Iteration 51, loss = 1.89492887\n",
      "Iteration 52, loss = 1.89413625\n",
      "Iteration 53, loss = 1.89329032\n",
      "Iteration 54, loss = 1.89243416\n",
      "Iteration 55, loss = 1.89155438\n",
      "Iteration 56, loss = 1.89067290\n",
      "Iteration 57, loss = 1.88974126\n",
      "Iteration 58, loss = 1.88875912\n",
      "Iteration 59, loss = 1.88780212\n",
      "Iteration 60, loss = 1.88677305\n",
      "Iteration 61, loss = 1.88572190\n",
      "Iteration 62, loss = 1.88468094\n",
      "Iteration 63, loss = 1.88353102\n",
      "Iteration 64, loss = 1.88241607\n",
      "Iteration 65, loss = 1.88120861\n",
      "Iteration 66, loss = 1.88003992\n",
      "Iteration 67, loss = 1.87877121\n",
      "Iteration 68, loss = 1.87746031\n",
      "Iteration 69, loss = 1.87606961\n",
      "Iteration 70, loss = 1.87466718\n",
      "Iteration 71, loss = 1.87313312\n",
      "Iteration 72, loss = 1.87154101\n",
      "Iteration 73, loss = 1.86993808\n",
      "Iteration 74, loss = 1.86831721\n",
      "Iteration 75, loss = 1.86664520\n",
      "Iteration 76, loss = 1.86497996\n",
      "Iteration 77, loss = 1.86317069\n",
      "Iteration 78, loss = 1.86125551\n",
      "Iteration 79, loss = 1.85932510\n",
      "Iteration 80, loss = 1.85724870\n",
      "Iteration 81, loss = 1.85516886\n",
      "Iteration 82, loss = 1.85303892\n",
      "Iteration 83, loss = 1.85087092\n",
      "Iteration 84, loss = 1.84864133\n",
      "Iteration 85, loss = 1.84635620\n",
      "Iteration 86, loss = 1.84397775\n",
      "Iteration 87, loss = 1.84158526\n",
      "Iteration 88, loss = 1.83902943\n",
      "Iteration 89, loss = 1.83638275\n",
      "Iteration 90, loss = 1.83364156\n",
      "Iteration 91, loss = 1.83089213\n",
      "Iteration 92, loss = 1.82790606\n",
      "Iteration 93, loss = 1.82485764\n",
      "Iteration 94, loss = 1.82169736\n",
      "Iteration 95, loss = 1.81838857\n",
      "Iteration 96, loss = 1.81500483\n",
      "Iteration 97, loss = 1.81139402\n",
      "Iteration 98, loss = 1.80777419\n",
      "Iteration 99, loss = 1.80394854\n",
      "Iteration 100, loss = 1.79996093\n",
      "Iteration 101, loss = 1.79584323\n",
      "Iteration 102, loss = 1.79154994\n",
      "Iteration 103, loss = 1.78710407\n",
      "Iteration 104, loss = 1.78250039\n",
      "Iteration 105, loss = 1.77763220\n",
      "Iteration 106, loss = 1.77260007\n",
      "Iteration 107, loss = 1.76735865\n",
      "Iteration 108, loss = 1.76198800\n",
      "Iteration 109, loss = 1.75629380\n",
      "Iteration 110, loss = 1.75041107\n",
      "Iteration 111, loss = 1.74424553\n",
      "Iteration 112, loss = 1.73792290\n",
      "Iteration 113, loss = 1.73130837\n",
      "Iteration 114, loss = 1.72445330\n",
      "Iteration 115, loss = 1.71744757\n",
      "Iteration 116, loss = 1.71016998\n",
      "Iteration 117, loss = 1.70269780\n",
      "Iteration 118, loss = 1.69502685\n",
      "Iteration 119, loss = 1.68709700\n",
      "Iteration 120, loss = 1.67876647\n",
      "Iteration 121, loss = 1.67033781\n",
      "Iteration 122, loss = 1.66151782\n",
      "Iteration 123, loss = 1.65245744\n",
      "Iteration 124, loss = 1.64309792\n",
      "Iteration 125, loss = 1.63352681\n",
      "Iteration 126, loss = 1.62363122\n",
      "Iteration 127, loss = 1.61339045\n",
      "Iteration 128, loss = 1.60312338\n",
      "Iteration 129, loss = 1.59231929\n",
      "Iteration 130, loss = 1.58147053\n",
      "Iteration 131, loss = 1.57024151\n",
      "Iteration 132, loss = 1.55889573\n",
      "Iteration 133, loss = 1.54709561\n",
      "Iteration 134, loss = 1.53498326\n",
      "Iteration 135, loss = 1.52285200\n",
      "Iteration 136, loss = 1.51056553\n",
      "Iteration 137, loss = 1.49825728\n",
      "Iteration 138, loss = 1.48569413\n",
      "Iteration 139, loss = 1.47328810\n",
      "Iteration 140, loss = 1.46035288\n",
      "Iteration 141, loss = 1.44752375\n",
      "Iteration 142, loss = 1.43445612\n",
      "Iteration 143, loss = 1.42114535\n",
      "Iteration 144, loss = 1.40782059\n",
      "Iteration 145, loss = 1.39436696\n",
      "Iteration 146, loss = 1.38096459\n",
      "Iteration 147, loss = 1.36756450\n",
      "Iteration 148, loss = 1.35414522\n",
      "Iteration 149, loss = 1.34057680\n",
      "Iteration 150, loss = 1.32710400\n",
      "Iteration 151, loss = 1.31330938\n",
      "Iteration 152, loss = 1.29953131\n",
      "Iteration 153, loss = 1.28558417\n",
      "Iteration 154, loss = 1.27169923\n",
      "Iteration 155, loss = 1.25759622\n",
      "Iteration 156, loss = 1.24346957\n",
      "Iteration 157, loss = 1.22914462\n",
      "Iteration 158, loss = 1.21471694\n",
      "Iteration 159, loss = 1.20031776\n",
      "Iteration 160, loss = 1.18558222\n",
      "Iteration 161, loss = 1.17089760\n",
      "Iteration 162, loss = 1.15594616\n",
      "Iteration 163, loss = 1.14087502\n",
      "Iteration 164, loss = 1.12593630\n",
      "Iteration 165, loss = 1.11083308\n",
      "Iteration 166, loss = 1.09546913\n",
      "Iteration 167, loss = 1.08015948\n",
      "Iteration 168, loss = 1.06469119\n",
      "Iteration 169, loss = 1.04938570\n",
      "Iteration 170, loss = 1.03382431\n",
      "Iteration 171, loss = 1.01847595\n",
      "Iteration 172, loss = 1.00314489\n",
      "Iteration 173, loss = 0.98774111\n",
      "Iteration 174, loss = 0.97250239\n",
      "Iteration 175, loss = 0.95733345\n",
      "Iteration 176, loss = 0.94222483\n",
      "Iteration 177, loss = 0.92688612\n",
      "Iteration 178, loss = 0.91198988\n",
      "Iteration 179, loss = 0.89721776\n",
      "Iteration 180, loss = 0.88259504\n",
      "Iteration 181, loss = 0.86810467\n",
      "Iteration 182, loss = 0.85348255\n",
      "Iteration 183, loss = 0.83923483\n",
      "Iteration 184, loss = 0.82508732\n",
      "Iteration 185, loss = 0.81116132\n",
      "Iteration 186, loss = 0.79747439\n",
      "Iteration 187, loss = 0.78382374\n",
      "Iteration 188, loss = 0.77051902\n",
      "Iteration 189, loss = 0.75724803\n",
      "Iteration 190, loss = 0.74414691\n",
      "Iteration 191, loss = 0.73127595\n",
      "Iteration 192, loss = 0.71870401\n",
      "Iteration 193, loss = 0.70602562\n",
      "Iteration 194, loss = 0.69360482\n",
      "Iteration 195, loss = 0.68140711\n",
      "Iteration 196, loss = 0.66932232\n",
      "Iteration 197, loss = 0.65743685\n",
      "Iteration 198, loss = 0.64562841\n",
      "Iteration 199, loss = 0.63409819\n",
      "Iteration 200, loss = 0.62278274\n",
      "Iteration 201, loss = 0.61169190\n",
      "Iteration 202, loss = 0.60067862\n",
      "Iteration 203, loss = 0.58974167\n",
      "Iteration 204, loss = 0.57901170\n",
      "Iteration 205, loss = 0.56848720\n",
      "Iteration 206, loss = 0.55817883\n",
      "Iteration 207, loss = 0.54800875\n",
      "Iteration 208, loss = 0.53792557\n",
      "Iteration 209, loss = 0.52794857\n",
      "Iteration 210, loss = 0.51823514\n",
      "Iteration 211, loss = 0.50866348\n",
      "Iteration 212, loss = 0.49944198\n",
      "Iteration 213, loss = 0.49009141\n",
      "Iteration 214, loss = 0.48080566\n",
      "Iteration 215, loss = 0.47196538\n",
      "Iteration 216, loss = 0.46316987\n",
      "Iteration 217, loss = 0.45446975\n",
      "Iteration 218, loss = 0.44597966\n",
      "Iteration 219, loss = 0.43768635\n",
      "Iteration 220, loss = 0.42950167\n",
      "Iteration 221, loss = 0.42164600\n",
      "Iteration 222, loss = 0.41382541\n",
      "Iteration 223, loss = 0.40623362\n",
      "Iteration 224, loss = 0.39884495\n",
      "Iteration 225, loss = 0.39154788\n",
      "Iteration 226, loss = 0.38461264\n",
      "Iteration 227, loss = 0.37752991\n",
      "Iteration 228, loss = 0.37068793\n",
      "Iteration 229, loss = 0.36408670\n",
      "Iteration 230, loss = 0.35752056\n",
      "Iteration 231, loss = 0.35135321\n",
      "Iteration 232, loss = 0.34497789\n",
      "Iteration 233, loss = 0.33906767\n",
      "Iteration 234, loss = 0.33328342\n",
      "Iteration 235, loss = 0.32731436\n",
      "Iteration 236, loss = 0.32194023\n",
      "Iteration 237, loss = 0.31657678\n",
      "Iteration 238, loss = 0.31113978\n",
      "Iteration 239, loss = 0.30593814\n",
      "Iteration 240, loss = 0.30087363\n",
      "Iteration 241, loss = 0.29584937\n",
      "Iteration 242, loss = 0.29099398\n",
      "Iteration 243, loss = 0.28619887\n",
      "Iteration 244, loss = 0.28161243\n",
      "Iteration 245, loss = 0.27711324\n",
      "Iteration 246, loss = 0.27278953\n",
      "Iteration 247, loss = 0.26857710\n",
      "Iteration 248, loss = 0.26414380\n",
      "Iteration 249, loss = 0.26039206\n",
      "Iteration 250, loss = 0.25627317\n",
      "Iteration 251, loss = 0.25219184\n",
      "Iteration 252, loss = 0.24855930\n",
      "Iteration 253, loss = 0.24488740\n",
      "Iteration 254, loss = 0.24101372\n",
      "Iteration 255, loss = 0.23742680\n",
      "Iteration 256, loss = 0.23425443\n",
      "Iteration 257, loss = 0.23077462\n",
      "Iteration 258, loss = 0.22742301\n",
      "Iteration 259, loss = 0.22410098\n",
      "Iteration 260, loss = 0.22081067\n",
      "Iteration 261, loss = 0.21796789\n",
      "Iteration 262, loss = 0.21491282\n",
      "Iteration 263, loss = 0.21192317\n",
      "Iteration 264, loss = 0.20889536\n",
      "Iteration 265, loss = 0.20617255\n",
      "Iteration 266, loss = 0.20347513\n",
      "Iteration 267, loss = 0.20051574\n",
      "Iteration 268, loss = 0.19790161\n",
      "Iteration 269, loss = 0.19528612\n",
      "Iteration 270, loss = 0.19276514\n",
      "Iteration 271, loss = 0.19024185\n",
      "Iteration 272, loss = 0.18782275\n",
      "Iteration 273, loss = 0.18549767\n",
      "Iteration 274, loss = 0.18309984\n",
      "Iteration 275, loss = 0.18063526\n",
      "Iteration 276, loss = 0.17837122\n",
      "Iteration 277, loss = 0.17624199\n",
      "Iteration 278, loss = 0.17409137\n",
      "Iteration 279, loss = 0.17197742\n",
      "Iteration 280, loss = 0.16985982\n",
      "Iteration 281, loss = 0.16792084\n",
      "Iteration 282, loss = 0.16576178\n",
      "Iteration 283, loss = 0.16395275\n",
      "Iteration 284, loss = 0.16193979\n",
      "Iteration 285, loss = 0.16015359\n",
      "Iteration 286, loss = 0.15806070\n",
      "Iteration 287, loss = 0.15626633\n",
      "Iteration 288, loss = 0.15452623\n",
      "Iteration 289, loss = 0.15284286\n",
      "Iteration 290, loss = 0.15099064\n",
      "Iteration 291, loss = 0.14935503\n",
      "Iteration 292, loss = 0.14772357\n",
      "Iteration 293, loss = 0.14606671\n",
      "Iteration 294, loss = 0.14449971\n",
      "Iteration 295, loss = 0.14290926\n",
      "Iteration 296, loss = 0.14133204\n",
      "Iteration 297, loss = 0.13999280\n",
      "Iteration 298, loss = 0.13832171\n",
      "Iteration 299, loss = 0.13692724\n",
      "Iteration 300, loss = 0.13539194\n",
      "Iteration 301, loss = 0.13408087\n",
      "Iteration 302, loss = 0.13277652\n",
      "Iteration 303, loss = 0.13118257\n",
      "Iteration 304, loss = 0.12985202\n",
      "Iteration 305, loss = 0.12885563\n",
      "Iteration 306, loss = 0.12711495\n",
      "Iteration 307, loss = 0.12586631\n",
      "Iteration 308, loss = 0.12455577\n",
      "Iteration 309, loss = 0.12339048\n",
      "Iteration 310, loss = 0.12205250\n",
      "Iteration 311, loss = 0.12096496\n",
      "Iteration 312, loss = 0.11977646\n",
      "Iteration 313, loss = 0.11846569\n",
      "Iteration 314, loss = 0.11744466\n",
      "Iteration 315, loss = 0.11636304\n",
      "Iteration 316, loss = 0.11504491\n",
      "Iteration 317, loss = 0.11403219\n",
      "Iteration 318, loss = 0.11290403\n",
      "Iteration 319, loss = 0.11179464\n",
      "Iteration 320, loss = 0.11078708\n",
      "Iteration 321, loss = 0.10971426\n",
      "Iteration 322, loss = 0.10864483\n",
      "Iteration 323, loss = 0.10788904\n",
      "Iteration 324, loss = 0.10677434\n",
      "Iteration 325, loss = 0.10584735\n",
      "Iteration 326, loss = 0.10470479\n",
      "Iteration 327, loss = 0.10396141\n",
      "Iteration 328, loss = 0.10288389\n",
      "Iteration 329, loss = 0.10188465\n",
      "Iteration 330, loss = 0.10096519\n",
      "Iteration 331, loss = 0.09999726\n",
      "Iteration 332, loss = 0.09918435\n",
      "Iteration 333, loss = 0.09828778\n",
      "Iteration 334, loss = 0.09745226\n",
      "Iteration 335, loss = 0.09648391\n",
      "Iteration 336, loss = 0.09577697\n",
      "Iteration 337, loss = 0.09492039\n",
      "Iteration 338, loss = 0.09395722\n",
      "Iteration 339, loss = 0.09318507\n",
      "Iteration 340, loss = 0.09237866\n",
      "Iteration 341, loss = 0.09160847\n",
      "Iteration 342, loss = 0.09074498\n",
      "Iteration 343, loss = 0.09008827\n",
      "Iteration 344, loss = 0.08932853\n",
      "Iteration 345, loss = 0.08849791\n",
      "Iteration 346, loss = 0.08781936\n",
      "Iteration 347, loss = 0.08713875\n",
      "Iteration 348, loss = 0.08624736\n",
      "Iteration 349, loss = 0.08549479\n",
      "Iteration 350, loss = 0.08482758\n",
      "Iteration 351, loss = 0.08418665\n",
      "Iteration 352, loss = 0.08344528\n",
      "Iteration 353, loss = 0.08286146\n",
      "Iteration 354, loss = 0.08218334\n",
      "Iteration 355, loss = 0.08145928\n",
      "Iteration 356, loss = 0.08092838\n",
      "Iteration 357, loss = 0.08018711\n",
      "Iteration 358, loss = 0.07944679\n",
      "Iteration 359, loss = 0.07884159\n",
      "Iteration 360, loss = 0.07817175\n",
      "Iteration 361, loss = 0.07762333\n",
      "Iteration 362, loss = 0.07709807\n",
      "Iteration 363, loss = 0.07639022\n",
      "Iteration 364, loss = 0.07573356\n",
      "Iteration 365, loss = 0.07513921\n",
      "Iteration 366, loss = 0.07455614\n",
      "Iteration 367, loss = 0.07397120\n",
      "Iteration 368, loss = 0.07340627\n",
      "Iteration 369, loss = 0.07283337\n",
      "Iteration 370, loss = 0.07237807\n",
      "Iteration 371, loss = 0.07170853\n",
      "Iteration 372, loss = 0.07110373\n",
      "Iteration 373, loss = 0.07062655\n",
      "Iteration 374, loss = 0.07009339\n",
      "Iteration 375, loss = 0.06950185\n",
      "Iteration 376, loss = 0.06899096\n",
      "Iteration 377, loss = 0.06844849\n",
      "Iteration 378, loss = 0.06792331\n",
      "Iteration 379, loss = 0.06743428\n",
      "Iteration 380, loss = 0.06710292\n",
      "Iteration 381, loss = 0.06643073\n",
      "Iteration 382, loss = 0.06593074\n",
      "Iteration 383, loss = 0.06537840\n",
      "Iteration 384, loss = 0.06488893\n",
      "Iteration 385, loss = 0.06448576\n",
      "Iteration 386, loss = 0.06407449\n",
      "Iteration 387, loss = 0.06350668\n",
      "Iteration 388, loss = 0.06311842\n",
      "Iteration 389, loss = 0.06263263\n",
      "Iteration 390, loss = 0.06208889\n",
      "Iteration 391, loss = 0.06169765\n",
      "Iteration 392, loss = 0.06112410\n",
      "Iteration 393, loss = 0.06077172\n",
      "Iteration 394, loss = 0.06033296\n",
      "Iteration 395, loss = 0.05983996\n",
      "Iteration 396, loss = 0.05950646\n",
      "Iteration 397, loss = 0.05911062\n",
      "Iteration 398, loss = 0.05866367\n",
      "Iteration 399, loss = 0.05832067\n",
      "Iteration 400, loss = 0.05782622\n",
      "Iteration 401, loss = 0.05738350\n",
      "Iteration 402, loss = 0.05692030\n",
      "Iteration 403, loss = 0.05660087\n",
      "Iteration 404, loss = 0.05629719\n",
      "Iteration 405, loss = 0.05579623\n",
      "Iteration 406, loss = 0.05538618\n",
      "Iteration 407, loss = 0.05507594\n",
      "Iteration 408, loss = 0.05468381\n",
      "Iteration 409, loss = 0.05419089\n",
      "Iteration 410, loss = 0.05383525\n",
      "Iteration 411, loss = 0.05348389\n",
      "Iteration 412, loss = 0.05309373\n",
      "Iteration 413, loss = 0.05272773\n",
      "Iteration 414, loss = 0.05241958\n",
      "Iteration 415, loss = 0.05196381\n",
      "Iteration 416, loss = 0.05167649\n",
      "Iteration 417, loss = 0.05127826\n",
      "Iteration 418, loss = 0.05091334\n",
      "Iteration 419, loss = 0.05063048\n",
      "Iteration 420, loss = 0.05028856\n",
      "Iteration 421, loss = 0.04997271\n",
      "Iteration 422, loss = 0.04959088\n",
      "Iteration 423, loss = 0.04929457\n",
      "Iteration 424, loss = 0.04901612\n",
      "Iteration 425, loss = 0.04865617\n",
      "Iteration 426, loss = 0.04828726\n",
      "Iteration 427, loss = 0.04796916\n",
      "Iteration 428, loss = 0.04764281\n",
      "Iteration 429, loss = 0.04733808\n",
      "Iteration 430, loss = 0.04706724\n",
      "Iteration 431, loss = 0.04670465\n",
      "Iteration 432, loss = 0.04643900\n",
      "Iteration 433, loss = 0.04612646\n",
      "Iteration 434, loss = 0.04583040\n",
      "Iteration 435, loss = 0.04544217\n",
      "Iteration 436, loss = 0.04516346\n",
      "Iteration 437, loss = 0.04497927\n",
      "Iteration 438, loss = 0.04481409\n",
      "Iteration 439, loss = 0.04434285\n",
      "Iteration 440, loss = 0.04406913\n",
      "Iteration 441, loss = 0.04382373\n",
      "Iteration 442, loss = 0.04356466\n",
      "Iteration 443, loss = 0.04319011\n",
      "Iteration 444, loss = 0.04295485\n",
      "Iteration 445, loss = 0.04271074\n",
      "Iteration 446, loss = 0.04247062\n",
      "Iteration 447, loss = 0.04208467\n",
      "Iteration 448, loss = 0.04185535\n",
      "Iteration 449, loss = 0.04162029\n",
      "Iteration 450, loss = 0.04137499\n",
      "Iteration 451, loss = 0.04105835\n",
      "Iteration 452, loss = 0.04081277\n",
      "Iteration 453, loss = 0.04053067\n",
      "Iteration 454, loss = 0.04029853\n",
      "Iteration 455, loss = 0.04004386\n",
      "Iteration 456, loss = 0.03977707\n",
      "Iteration 457, loss = 0.03958934\n",
      "Iteration 458, loss = 0.03938933\n",
      "Iteration 459, loss = 0.03907741\n",
      "Iteration 460, loss = 0.03881922\n",
      "Iteration 461, loss = 0.03859843\n",
      "Iteration 462, loss = 0.03837742\n",
      "Iteration 463, loss = 0.03815298\n",
      "Iteration 464, loss = 0.03790590\n",
      "Iteration 465, loss = 0.03767165\n",
      "Iteration 466, loss = 0.03750948\n",
      "Iteration 467, loss = 0.03734218\n",
      "Iteration 468, loss = 0.03705614\n",
      "Iteration 469, loss = 0.03682205\n",
      "Iteration 470, loss = 0.03653149\n",
      "Iteration 471, loss = 0.03637659\n",
      "Iteration 472, loss = 0.03615810\n",
      "Iteration 473, loss = 0.03595580\n",
      "Iteration 474, loss = 0.03571190\n",
      "Iteration 475, loss = 0.03551187\n",
      "Iteration 476, loss = 0.03531142\n",
      "Iteration 477, loss = 0.03514575\n",
      "Iteration 478, loss = 0.03491755\n",
      "Iteration 479, loss = 0.03468407\n",
      "Iteration 480, loss = 0.03451445\n",
      "Iteration 481, loss = 0.03430823\n",
      "Iteration 482, loss = 0.03413847\n",
      "Iteration 483, loss = 0.03394753\n",
      "Iteration 484, loss = 0.03374062\n",
      "Iteration 485, loss = 0.03356649\n",
      "Iteration 486, loss = 0.03333552\n",
      "Iteration 487, loss = 0.03323804\n",
      "Iteration 488, loss = 0.03296417\n",
      "Iteration 489, loss = 0.03276662\n",
      "Iteration 490, loss = 0.03266205\n",
      "Iteration 491, loss = 0.03250168\n",
      "Iteration 492, loss = 0.03225541\n",
      "Iteration 493, loss = 0.03204495\n",
      "Iteration 494, loss = 0.03187490\n",
      "Iteration 495, loss = 0.03169651\n",
      "Iteration 496, loss = 0.03156946\n",
      "Iteration 497, loss = 0.03140242\n",
      "Iteration 498, loss = 0.03118537\n",
      "Iteration 499, loss = 0.03098623\n",
      "Iteration 500, loss = 0.03085786\n"
     ]
    },
    {
     "name": "stderr",
     "output_type": "stream",
     "text": [
      "c:\\Users\\nicol\\AppData\\Local\\Programs\\Python\\Python310\\lib\\site-packages\\sklearn\\neural_network\\_multilayer_perceptron.py:692: ConvergenceWarning: Stochastic Optimizer: Maximum iterations (500) reached and the optimization hasn't converged yet.\n",
      "  warnings.warn(\n"
     ]
    },
    {
     "data": {
      "text/plain": [
       "0.955"
      ]
     },
     "execution_count": 75,
     "metadata": {},
     "output_type": "execute_result"
    }
   ],
   "source": [
    "# create the model, this is a multi-class classification problem\n",
    "model = MLPClassifier(hidden_layer_sizes=(100, 100, 100), max_iter=500, alpha=0.0001, solver='sgd', verbose=10,  random_state=21, tol=0.000000001)\n",
    "\n",
    "# fit the model\n",
    "model.fit(train_vectors, train['topic'])\n",
    "\n",
    "# predict the test data\n",
    "pred = model.predict(test_vector)\n",
    "\n",
    "# calculate the accuracy\n",
    "accuracy_score(test['topic'], pred)"
   ]
  },
  {
   "cell_type": "code",
   "execution_count": 76,
   "metadata": {},
   "outputs": [
    {
     "data": {
      "text/plain": [
       "array(['Sales/Promotions'], dtype='<U22')"
      ]
     },
     "execution_count": 76,
     "metadata": {},
     "output_type": "execute_result"
    }
   ],
   "source": [
    "# Lets use the model to predict the topic of a question\n",
    "question = \"I'm really interested in your special deals. Do you have any offers?\"\n",
    "\n",
    "# preprocess the question\n",
    "question = preprocessing(question)\n",
    "\n",
    "# vectorize the question\n",
    "question_vector = vectorizer.transform([' '.join(question)])\n",
    "\n",
    "# predict the topic\n",
    "model.predict(question_vector)"
   ]
  },
  {
   "cell_type": "markdown",
   "metadata": {},
   "source": [
    "## For each classifier, use four kinds of input feature vectors: (1) TF-IDF vector of tokenized words, (2) TF-IDF vector of n-grams (of range 4-5), (3) word vectors (Glove, Word2Vec, or FastText), and (4) document vectors (Doc2Vec). Train each model using training data, report classification metrics using test data, and summarize the results of all model in a nicely formatted table. Comment on which model will be your preferred choice for text classification for this data and why."
   ]
  }
 ],
 "metadata": {
  "kernelspec": {
   "display_name": "Python 3.10.7 64-bit",
   "language": "python",
   "name": "python3"
  },
  "language_info": {
   "codemirror_mode": {
    "name": "ipython",
    "version": 3
   },
   "file_extension": ".py",
   "mimetype": "text/x-python",
   "name": "python",
   "nbconvert_exporter": "python",
   "pygments_lexer": "ipython3",
   "version": "3.10.7"
  },
  "orig_nbformat": 4,
  "vscode": {
   "interpreter": {
    "hash": "85c576d62e5a69baba7dcae6282c7bf6fba6f8d537c9cbb11ca984aece3c77a0"
   }
  }
 },
 "nbformat": 4,
 "nbformat_minor": 2
}
