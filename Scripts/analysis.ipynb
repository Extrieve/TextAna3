{
 "cells": [
  {
   "cell_type": "markdown",
   "metadata": {},
   "source": [
    "## Preprocessing and understanding the data"
   ]
  },
  {
   "cell_type": "code",
   "execution_count": 124,
   "metadata": {},
   "outputs": [],
   "source": [
    "import pandas as pd\n",
    "import re, string"
   ]
  },
  {
   "cell_type": "code",
   "execution_count": 125,
   "metadata": {},
   "outputs": [
    {
     "data": {
      "text/html": [
       "<div>\n",
       "<style scoped>\n",
       "    .dataframe tbody tr th:only-of-type {\n",
       "        vertical-align: middle;\n",
       "    }\n",
       "\n",
       "    .dataframe tbody tr th {\n",
       "        vertical-align: top;\n",
       "    }\n",
       "\n",
       "    .dataframe thead th {\n",
       "        text-align: right;\n",
       "    }\n",
       "</style>\n",
       "<table border=\"1\" class=\"dataframe\">\n",
       "  <thead>\n",
       "    <tr style=\"text-align: right;\">\n",
       "      <th></th>\n",
       "      <th>question</th>\n",
       "      <th>topic</th>\n",
       "    </tr>\n",
       "  </thead>\n",
       "  <tbody>\n",
       "    <tr>\n",
       "      <th>0</th>\n",
       "      <td>Hi! If I sign up for your email list, can I se...</td>\n",
       "      <td>Sales/Promotions</td>\n",
       "    </tr>\n",
       "    <tr>\n",
       "      <th>1</th>\n",
       "      <td>I'm going to be out of the country for about a...</td>\n",
       "      <td>Shipping</td>\n",
       "    </tr>\n",
       "    <tr>\n",
       "      <th>2</th>\n",
       "      <td>I was wondering if you'd be able to overnight ...</td>\n",
       "      <td>Shipping</td>\n",
       "    </tr>\n",
       "    <tr>\n",
       "      <th>3</th>\n",
       "      <td>The Swingline electronic stapler (472555) look...</td>\n",
       "      <td>Shipping</td>\n",
       "    </tr>\n",
       "    <tr>\n",
       "      <th>4</th>\n",
       "      <td>I think this cosmetic bag would work great for...</td>\n",
       "      <td>Shipping</td>\n",
       "    </tr>\n",
       "  </tbody>\n",
       "</table>\n",
       "</div>"
      ],
      "text/plain": [
       "                                            question             topic\n",
       "0  Hi! If I sign up for your email list, can I se...  Sales/Promotions\n",
       "1  I'm going to be out of the country for about a...          Shipping\n",
       "2  I was wondering if you'd be able to overnight ...          Shipping\n",
       "3  The Swingline electronic stapler (472555) look...          Shipping\n",
       "4  I think this cosmetic bag would work great for...          Shipping"
      ]
     },
     "execution_count": 125,
     "metadata": {},
     "output_type": "execute_result"
    }
   ],
   "source": [
    "data = pd.read_csv('../Data/data.csv')\n",
    "data.head()"
   ]
  },
  {
   "cell_type": "code",
   "execution_count": 126,
   "metadata": {},
   "outputs": [
    {
     "data": {
      "text/plain": [
       "(5000, 2)"
      ]
     },
     "execution_count": 126,
     "metadata": {},
     "output_type": "execute_result"
    }
   ],
   "source": [
    "data.shape"
   ]
  },
  {
   "cell_type": "code",
   "execution_count": 127,
   "metadata": {},
   "outputs": [
    {
     "data": {
      "text/plain": [
       "(5000, 2)"
      ]
     },
     "execution_count": 127,
     "metadata": {},
     "output_type": "execute_result"
    }
   ],
   "source": [
    "# drop rows with missing values\n",
    "data.dropna(inplace=True)\n",
    "\n",
    "data.shape"
   ]
  },
  {
   "cell_type": "code",
   "execution_count": 128,
   "metadata": {},
   "outputs": [],
   "source": [
    "from nltk.stem.snowball import SnowballStemmer\n",
    "from nltk.corpus import stopwords\n",
    "from nltk.tokenize import word_tokenize\n",
    "import nltk"
   ]
  },
  {
   "cell_type": "code",
   "execution_count": 129,
   "metadata": {},
   "outputs": [
    {
     "name": "stderr",
     "output_type": "stream",
     "text": [
      "[nltk_data] Downloading package stopwords to\n",
      "[nltk_data]     C:\\Users\\nicol\\AppData\\Roaming\\nltk_data...\n",
      "[nltk_data]   Package stopwords is already up-to-date!\n"
     ]
    },
    {
     "data": {
      "text/plain": [
       "True"
      ]
     },
     "execution_count": 129,
     "metadata": {},
     "output_type": "execute_result"
    }
   ],
   "source": [
    "nltk.download('stopwords')"
   ]
  },
  {
   "cell_type": "code",
   "execution_count": 130,
   "metadata": {},
   "outputs": [],
   "source": [
    "stemmer = SnowballStemmer(\"english\")\n",
    "stop_words = set(stopwords.words('english'))"
   ]
  },
  {
   "cell_type": "code",
   "execution_count": 131,
   "metadata": {},
   "outputs": [],
   "source": [
    "def preprocessing(text):\n",
    "   tokens = [word for word in nltk.word_tokenize(text) if (len(word) > 3 and len(word.strip('Xx/')) > 2 and len(re.sub('\\d+', '', word.strip('Xx/'))) > 3) ] \n",
    "   tokens = map(str.lower, tokens)\n",
    "   stems = [stemmer.stem(item) for item in tokens if (item not in stop_words)]\n",
    "   return stems"
   ]
  },
  {
   "cell_type": "code",
   "execution_count": 132,
   "metadata": {},
   "outputs": [
    {
     "data": {
      "text/html": [
       "<div>\n",
       "<style scoped>\n",
       "    .dataframe tbody tr th:only-of-type {\n",
       "        vertical-align: middle;\n",
       "    }\n",
       "\n",
       "    .dataframe tbody tr th {\n",
       "        vertical-align: top;\n",
       "    }\n",
       "\n",
       "    .dataframe thead th {\n",
       "        text-align: right;\n",
       "    }\n",
       "</style>\n",
       "<table border=\"1\" class=\"dataframe\">\n",
       "  <thead>\n",
       "    <tr style=\"text-align: right;\">\n",
       "      <th></th>\n",
       "      <th>question</th>\n",
       "      <th>topic</th>\n",
       "    </tr>\n",
       "  </thead>\n",
       "  <tbody>\n",
       "    <tr>\n",
       "      <th>0</th>\n",
       "      <td>Hi! If I sign up for your email list, can I se...</td>\n",
       "      <td>Sales/Promotions</td>\n",
       "    </tr>\n",
       "    <tr>\n",
       "      <th>1</th>\n",
       "      <td>I'm going to be out of the country for about a...</td>\n",
       "      <td>Shipping</td>\n",
       "    </tr>\n",
       "    <tr>\n",
       "      <th>2</th>\n",
       "      <td>I was wondering if you'd be able to overnight ...</td>\n",
       "      <td>Shipping</td>\n",
       "    </tr>\n",
       "    <tr>\n",
       "      <th>3</th>\n",
       "      <td>The Swingline electronic stapler (472555) look...</td>\n",
       "      <td>Shipping</td>\n",
       "    </tr>\n",
       "    <tr>\n",
       "      <th>4</th>\n",
       "      <td>I think this cosmetic bag would work great for...</td>\n",
       "      <td>Shipping</td>\n",
       "    </tr>\n",
       "  </tbody>\n",
       "</table>\n",
       "</div>"
      ],
      "text/plain": [
       "                                            question             topic\n",
       "0  Hi! If I sign up for your email list, can I se...  Sales/Promotions\n",
       "1  I'm going to be out of the country for about a...          Shipping\n",
       "2  I was wondering if you'd be able to overnight ...          Shipping\n",
       "3  The Swingline electronic stapler (472555) look...          Shipping\n",
       "4  I think this cosmetic bag would work great for...          Shipping"
      ]
     },
     "execution_count": 132,
     "metadata": {},
     "output_type": "execute_result"
    }
   ],
   "source": [
    "data.head()"
   ]
  },
  {
   "cell_type": "code",
   "execution_count": 133,
   "metadata": {},
   "outputs": [],
   "source": [
    "import numpy as np\n",
    "from sklearn.model_selection import train_test_split"
   ]
  },
  {
   "cell_type": "code",
   "execution_count": 134,
   "metadata": {},
   "outputs": [
    {
     "data": {
      "text/plain": [
       "array(['Sales/Promotions', 'Shipping', 'Product Availability',\n",
       "       'Product Specifications', 'Omnichannel', 'Product Comparison',\n",
       "       'Returns & Refunds'], dtype=object)"
      ]
     },
     "execution_count": 134,
     "metadata": {},
     "output_type": "execute_result"
    }
   ],
   "source": [
    "# lets grab all unique values from topic and then use them as our target\n",
    "target = data['topic'].unique()\n",
    "target"
   ]
  },
  {
   "cell_type": "code",
   "execution_count": 135,
   "metadata": {},
   "outputs": [],
   "source": [
    "# split the data into train\n",
    "train, test = train_test_split(data, test_size=0.2, random_state=42)\n",
    "\n",
    "train_X = train.drop('topic', axis=1)"
   ]
  },
  {
   "cell_type": "code",
   "execution_count": 136,
   "metadata": {},
   "outputs": [
    {
     "data": {
      "text/plain": [
       "((4000, 2), (1000, 2))"
      ]
     },
     "execution_count": 136,
     "metadata": {},
     "output_type": "execute_result"
    }
   ],
   "source": [
    "train.shape, test.shape"
   ]
  },
  {
   "cell_type": "code",
   "execution_count": 137,
   "metadata": {},
   "outputs": [],
   "source": [
    "# Lets vectorize the data\n",
    "from sklearn.feature_extraction.text import TfidfVectorizer"
   ]
  },
  {
   "cell_type": "code",
   "execution_count": 138,
   "metadata": {},
   "outputs": [],
   "source": [
    "# create the transform\n",
    "vectorizer = TfidfVectorizer(tokenizer=preprocessing, ngram_range=(1, 2), stop_words=None, min_df=0.001, max_df=0.75, max_features=2500)\n",
    "\n",
    "train_vectors = vectorizer.fit_transform(train_X['question'])"
   ]
  },
  {
   "cell_type": "code",
   "execution_count": 139,
   "metadata": {},
   "outputs": [],
   "source": [
    "test_vector = vectorizer.transform(test['question'])"
   ]
  },
  {
   "cell_type": "code",
   "execution_count": 140,
   "metadata": {},
   "outputs": [
    {
     "name": "stderr",
     "output_type": "stream",
     "text": [
      "c:\\Users\\nicol\\AppData\\Local\\Programs\\Python\\Python310\\lib\\site-packages\\sklearn\\utils\\deprecation.py:87: FutureWarning: Function get_feature_names is deprecated; get_feature_names is deprecated in 1.0 and will be removed in 1.2. Please use get_feature_names_out instead.\n",
      "  warnings.warn(msg, category=FutureWarning)\n"
     ]
    }
   ],
   "source": [
    "train_df = pd.DataFrame(train_vectors.toarray(), columns=vectorizer.get_feature_names())\n",
    "train_df = pd.concat([train_df, train['topic']], axis=1)"
   ]
  },
  {
   "cell_type": "markdown",
   "metadata": {},
   "source": [
    "## select (1) one multi-class classifier (e.g., Naive Bayes, Logistic, Decision Tree, SVM) whose code is provided in class handouts"
   ]
  },
  {
   "cell_type": "code",
   "execution_count": 141,
   "metadata": {},
   "outputs": [],
   "source": [
    "# Lets use svm to train the model\n",
    "from sklearn.svm import SVC\n",
    "from sklearn.metrics import accuracy_score"
   ]
  },
  {
   "cell_type": "code",
   "execution_count": 142,
   "metadata": {},
   "outputs": [
    {
     "data": {
      "text/plain": [
       "SVC(C=1, gamma='auto', kernel='linear', probability=True)"
      ]
     },
     "execution_count": 142,
     "metadata": {},
     "output_type": "execute_result"
    }
   ],
   "source": [
    "# create the model, this is a multi-class classification problem\n",
    "model = SVC(kernel='linear', C=1, gamma='auto', probability=True)\n",
    "\n",
    "# fit the model\n",
    "model.fit(train_vectors, train['topic'])"
   ]
  },
  {
   "cell_type": "code",
   "execution_count": 143,
   "metadata": {},
   "outputs": [
    {
     "data": {
      "text/plain": [
       "0.952"
      ]
     },
     "execution_count": 143,
     "metadata": {},
     "output_type": "execute_result"
    }
   ],
   "source": [
    "# predict the test data\n",
    "pred = model.predict(test_vector)\n",
    "\n",
    "# calculate the accuracy\n",
    "accuracy_score(test['topic'], pred)"
   ]
  },
  {
   "cell_type": "code",
   "execution_count": 144,
   "metadata": {},
   "outputs": [
    {
     "data": {
      "text/plain": [
       "(0.98725, 0.952)"
      ]
     },
     "execution_count": 144,
     "metadata": {},
     "output_type": "execute_result"
    }
   ],
   "source": [
    "# train score vs. test score\n",
    "model.score(train_vectors, train['topic']), model.score(test_vector, test['topic'])"
   ]
  },
  {
   "cell_type": "code",
   "execution_count": 145,
   "metadata": {},
   "outputs": [
    {
     "data": {
      "text/plain": [
       "array(['Sales/Promotions'], dtype=object)"
      ]
     },
     "execution_count": 145,
     "metadata": {},
     "output_type": "execute_result"
    }
   ],
   "source": [
    "# Lets use the model to predict the topic of a question\n",
    "question = \"I'm really interested in your special deals. Do you have any offers?\"\n",
    "\n",
    "# preprocess the question\n",
    "question = preprocessing(question)\n",
    "\n",
    "# vectorize the question\n",
    "question_vector = vectorizer.transform([' '.join(question)])\n",
    "\n",
    "# predict the topic\n",
    "model.predict(question_vector)"
   ]
  },
  {
   "cell_type": "markdown",
   "metadata": {},
   "source": [
    "## (2) one ensemble classifier whose code is also provided (e.g., Random Forest, XGBoost)"
   ]
  },
  {
   "cell_type": "code",
   "execution_count": 146,
   "metadata": {},
   "outputs": [],
   "source": [
    "# Lets use an ensemble classifier to improve the accuracy\n",
    "from sklearn.ensemble import RandomForestClassifier"
   ]
  },
  {
   "cell_type": "code",
   "execution_count": 147,
   "metadata": {},
   "outputs": [
    {
     "data": {
      "text/plain": [
       "0.847"
      ]
     },
     "execution_count": 147,
     "metadata": {},
     "output_type": "execute_result"
    }
   ],
   "source": [
    "# create the model\n",
    "model = RandomForestClassifier(n_estimators=100, max_depth=10, random_state=0)\n",
    "\n",
    "# fit the model\n",
    "model.fit(train_vectors, train['topic'])\n",
    "\n",
    "# predict the test data\n",
    "pred = model.predict(test_vector)\n",
    "\n",
    "# calculate the accuracy\n",
    "accuracy_score(test['topic'], pred)"
   ]
  },
  {
   "cell_type": "code",
   "execution_count": 148,
   "metadata": {},
   "outputs": [
    {
     "data": {
      "text/plain": [
       "(0.863, 0.847)"
      ]
     },
     "execution_count": 148,
     "metadata": {},
     "output_type": "execute_result"
    }
   ],
   "source": [
    "# train score vs. test score\n",
    "model.score(train_vectors, train['topic']), model.score(test_vector, test['topic'])"
   ]
  },
  {
   "cell_type": "code",
   "execution_count": 149,
   "metadata": {},
   "outputs": [
    {
     "data": {
      "text/plain": [
       "array(['Product Specifications'], dtype=object)"
      ]
     },
     "execution_count": 149,
     "metadata": {},
     "output_type": "execute_result"
    }
   ],
   "source": [
    "# Lets use the model to predict the topic of a question\n",
    "question = \"I'm really interested in your special deals. Do you have any offers?\"\n",
    "\n",
    "# preprocess the question\n",
    "question = preprocessing(question)\n",
    "\n",
    "# vectorize the question\n",
    "question_vector = vectorizer.transform([' '.join(question)])\n",
    "\n",
    "# predict the topic\n",
    "model.predict(question_vector)"
   ]
  },
  {
   "cell_type": "markdown",
   "metadata": {},
   "source": [
    "## (3) one other model of your choice whose code is NOT provided in class handouts (this will require some independent research on your part)."
   ]
  },
  {
   "cell_type": "code",
   "execution_count": 150,
   "metadata": {},
   "outputs": [],
   "source": [
    "# Lets use MLP to train the model\n",
    "from sklearn.neural_network import MLPClassifier"
   ]
  },
  {
   "cell_type": "code",
   "execution_count": 151,
   "metadata": {},
   "outputs": [
    {
     "name": "stdout",
     "output_type": "stream",
     "text": [
      "Iteration 1, loss = 1.93341939\n",
      "Iteration 2, loss = 1.93116736\n",
      "Iteration 3, loss = 1.92905598\n",
      "Iteration 4, loss = 1.92700277\n",
      "Iteration 5, loss = 1.92535041\n",
      "Iteration 6, loss = 1.92386400\n",
      "Iteration 7, loss = 1.92258336\n",
      "Iteration 8, loss = 1.92146448\n",
      "Iteration 9, loss = 1.92047054\n",
      "Iteration 10, loss = 1.91960774\n",
      "Iteration 11, loss = 1.91878748\n",
      "Iteration 12, loss = 1.91812209\n",
      "Iteration 13, loss = 1.91738677\n",
      "Iteration 14, loss = 1.91674659\n",
      "Iteration 15, loss = 1.91619460\n",
      "Iteration 16, loss = 1.91559599\n",
      "Iteration 17, loss = 1.91506802\n",
      "Iteration 18, loss = 1.91451537\n",
      "Iteration 19, loss = 1.91399562\n",
      "Iteration 20, loss = 1.91348242\n",
      "Iteration 21, loss = 1.91298342\n",
      "Iteration 22, loss = 1.91247628\n",
      "Iteration 23, loss = 1.91196029\n",
      "Iteration 24, loss = 1.91145128\n",
      "Iteration 25, loss = 1.91095379\n",
      "Iteration 26, loss = 1.91044309\n",
      "Iteration 27, loss = 1.90992209\n",
      "Iteration 28, loss = 1.90940895\n",
      "Iteration 29, loss = 1.90889486\n",
      "Iteration 30, loss = 1.90839753\n",
      "Iteration 31, loss = 1.90785283\n",
      "Iteration 32, loss = 1.90735825\n",
      "Iteration 33, loss = 1.90682784\n",
      "Iteration 34, loss = 1.90623488\n",
      "Iteration 35, loss = 1.90568097\n",
      "Iteration 36, loss = 1.90510241\n",
      "Iteration 37, loss = 1.90452208\n",
      "Iteration 38, loss = 1.90395302\n",
      "Iteration 39, loss = 1.90334114\n",
      "Iteration 40, loss = 1.90271348\n",
      "Iteration 41, loss = 1.90208743\n",
      "Iteration 42, loss = 1.90145898\n",
      "Iteration 43, loss = 1.90079709\n",
      "Iteration 44, loss = 1.90013114\n",
      "Iteration 45, loss = 1.89944902\n",
      "Iteration 46, loss = 1.89874698\n",
      "Iteration 47, loss = 1.89801312\n",
      "Iteration 48, loss = 1.89730372\n",
      "Iteration 49, loss = 1.89654143\n",
      "Iteration 50, loss = 1.89573301\n",
      "Iteration 51, loss = 1.89492887\n",
      "Iteration 52, loss = 1.89413625\n",
      "Iteration 53, loss = 1.89329032\n",
      "Iteration 54, loss = 1.89243416\n",
      "Iteration 55, loss = 1.89155438\n",
      "Iteration 56, loss = 1.89067290\n",
      "Iteration 57, loss = 1.88974126\n",
      "Iteration 58, loss = 1.88875912\n",
      "Iteration 59, loss = 1.88780212\n",
      "Iteration 60, loss = 1.88677305\n",
      "Iteration 61, loss = 1.88572190\n",
      "Iteration 62, loss = 1.88468094\n",
      "Iteration 63, loss = 1.88353102\n",
      "Iteration 64, loss = 1.88241607\n",
      "Iteration 65, loss = 1.88120861\n",
      "Iteration 66, loss = 1.88003992\n",
      "Iteration 67, loss = 1.87877121\n",
      "Iteration 68, loss = 1.87746031\n",
      "Iteration 69, loss = 1.87606961\n",
      "Iteration 70, loss = 1.87466718\n",
      "Iteration 71, loss = 1.87313312\n",
      "Iteration 72, loss = 1.87154101\n",
      "Iteration 73, loss = 1.86993808\n",
      "Iteration 74, loss = 1.86831721\n",
      "Iteration 75, loss = 1.86664520\n",
      "Iteration 76, loss = 1.86497996\n",
      "Iteration 77, loss = 1.86317069\n",
      "Iteration 78, loss = 1.86125551\n",
      "Iteration 79, loss = 1.85932510\n",
      "Iteration 80, loss = 1.85724870\n",
      "Iteration 81, loss = 1.85516886\n",
      "Iteration 82, loss = 1.85303892\n",
      "Iteration 83, loss = 1.85087092\n",
      "Iteration 84, loss = 1.84864133\n",
      "Iteration 85, loss = 1.84635620\n",
      "Iteration 86, loss = 1.84397775\n",
      "Iteration 87, loss = 1.84158526\n",
      "Iteration 88, loss = 1.83902943\n",
      "Iteration 89, loss = 1.83638275\n",
      "Iteration 90, loss = 1.83364156\n",
      "Iteration 91, loss = 1.83089213\n",
      "Iteration 92, loss = 1.82790606\n",
      "Iteration 93, loss = 1.82485764\n",
      "Iteration 94, loss = 1.82169736\n",
      "Iteration 95, loss = 1.81838857\n",
      "Iteration 96, loss = 1.81500483\n",
      "Iteration 97, loss = 1.81139402\n",
      "Iteration 98, loss = 1.80777419\n",
      "Iteration 99, loss = 1.80394854\n",
      "Iteration 100, loss = 1.79996093\n",
      "Iteration 101, loss = 1.79584323\n",
      "Iteration 102, loss = 1.79154994\n",
      "Iteration 103, loss = 1.78710407\n",
      "Iteration 104, loss = 1.78250039\n",
      "Iteration 105, loss = 1.77763220\n",
      "Iteration 106, loss = 1.77260007\n",
      "Iteration 107, loss = 1.76735865\n",
      "Iteration 108, loss = 1.76198800\n",
      "Iteration 109, loss = 1.75629380\n",
      "Iteration 110, loss = 1.75041107\n",
      "Iteration 111, loss = 1.74424553\n",
      "Iteration 112, loss = 1.73792290\n",
      "Iteration 113, loss = 1.73130837\n",
      "Iteration 114, loss = 1.72445330\n",
      "Iteration 115, loss = 1.71744757\n",
      "Iteration 116, loss = 1.71016998\n",
      "Iteration 117, loss = 1.70269780\n",
      "Iteration 118, loss = 1.69502685\n",
      "Iteration 119, loss = 1.68709700\n",
      "Iteration 120, loss = 1.67876647\n",
      "Iteration 121, loss = 1.67033781\n",
      "Iteration 122, loss = 1.66151782\n",
      "Iteration 123, loss = 1.65245744\n",
      "Iteration 124, loss = 1.64309792\n",
      "Iteration 125, loss = 1.63352681\n",
      "Iteration 126, loss = 1.62363122\n",
      "Iteration 127, loss = 1.61339045\n",
      "Iteration 128, loss = 1.60312338\n",
      "Iteration 129, loss = 1.59231929\n",
      "Iteration 130, loss = 1.58147053\n",
      "Iteration 131, loss = 1.57024151\n",
      "Iteration 132, loss = 1.55889573\n",
      "Iteration 133, loss = 1.54709561\n",
      "Iteration 134, loss = 1.53498326\n",
      "Iteration 135, loss = 1.52285200\n",
      "Iteration 136, loss = 1.51056553\n",
      "Iteration 137, loss = 1.49825728\n",
      "Iteration 138, loss = 1.48569413\n",
      "Iteration 139, loss = 1.47328810\n",
      "Iteration 140, loss = 1.46035288\n",
      "Iteration 141, loss = 1.44752375\n",
      "Iteration 142, loss = 1.43445612\n",
      "Iteration 143, loss = 1.42114535\n",
      "Iteration 144, loss = 1.40782059\n",
      "Iteration 145, loss = 1.39436696\n",
      "Iteration 146, loss = 1.38096459\n",
      "Iteration 147, loss = 1.36756450\n",
      "Iteration 148, loss = 1.35414522\n",
      "Iteration 149, loss = 1.34057680\n",
      "Iteration 150, loss = 1.32710400\n",
      "Iteration 151, loss = 1.31330938\n",
      "Iteration 152, loss = 1.29953131\n",
      "Iteration 153, loss = 1.28558417\n",
      "Iteration 154, loss = 1.27169923\n",
      "Iteration 155, loss = 1.25759622\n",
      "Iteration 156, loss = 1.24346957\n",
      "Iteration 157, loss = 1.22914462\n",
      "Iteration 158, loss = 1.21471694\n",
      "Iteration 159, loss = 1.20031776\n",
      "Iteration 160, loss = 1.18558222\n",
      "Iteration 161, loss = 1.17089760\n",
      "Iteration 162, loss = 1.15594616\n",
      "Iteration 163, loss = 1.14087502\n",
      "Iteration 164, loss = 1.12593630\n",
      "Iteration 165, loss = 1.11083308\n",
      "Iteration 166, loss = 1.09546913\n",
      "Iteration 167, loss = 1.08015948\n",
      "Iteration 168, loss = 1.06469119\n",
      "Iteration 169, loss = 1.04938570\n",
      "Iteration 170, loss = 1.03382431\n",
      "Iteration 171, loss = 1.01847595\n",
      "Iteration 172, loss = 1.00314489\n",
      "Iteration 173, loss = 0.98774111\n",
      "Iteration 174, loss = 0.97250239\n",
      "Iteration 175, loss = 0.95733345\n",
      "Iteration 176, loss = 0.94222483\n",
      "Iteration 177, loss = 0.92688612\n",
      "Iteration 178, loss = 0.91198988\n",
      "Iteration 179, loss = 0.89721776\n",
      "Iteration 180, loss = 0.88259504\n",
      "Iteration 181, loss = 0.86810467\n",
      "Iteration 182, loss = 0.85348255\n",
      "Iteration 183, loss = 0.83923483\n",
      "Iteration 184, loss = 0.82508732\n",
      "Iteration 185, loss = 0.81116132\n",
      "Iteration 186, loss = 0.79747439\n",
      "Iteration 187, loss = 0.78382374\n",
      "Iteration 188, loss = 0.77051902\n",
      "Iteration 189, loss = 0.75724803\n",
      "Iteration 190, loss = 0.74414691\n",
      "Iteration 191, loss = 0.73127595\n",
      "Iteration 192, loss = 0.71870401\n",
      "Iteration 193, loss = 0.70602562\n",
      "Iteration 194, loss = 0.69360482\n",
      "Iteration 195, loss = 0.68140711\n",
      "Iteration 196, loss = 0.66932232\n",
      "Iteration 197, loss = 0.65743685\n",
      "Iteration 198, loss = 0.64562841\n",
      "Iteration 199, loss = 0.63409819\n",
      "Iteration 200, loss = 0.62278274\n",
      "Iteration 201, loss = 0.61169190\n",
      "Iteration 202, loss = 0.60067862\n",
      "Iteration 203, loss = 0.58974167\n",
      "Iteration 204, loss = 0.57901170\n",
      "Iteration 205, loss = 0.56848720\n",
      "Iteration 206, loss = 0.55817883\n",
      "Iteration 207, loss = 0.54800875\n",
      "Iteration 208, loss = 0.53792557\n",
      "Iteration 209, loss = 0.52794857\n",
      "Iteration 210, loss = 0.51823514\n",
      "Iteration 211, loss = 0.50866348\n",
      "Iteration 212, loss = 0.49944198\n",
      "Iteration 213, loss = 0.49009141\n",
      "Iteration 214, loss = 0.48080566\n",
      "Iteration 215, loss = 0.47196538\n",
      "Iteration 216, loss = 0.46316987\n",
      "Iteration 217, loss = 0.45446975\n",
      "Iteration 218, loss = 0.44597966\n",
      "Iteration 219, loss = 0.43768635\n",
      "Iteration 220, loss = 0.42950167\n",
      "Iteration 221, loss = 0.42164600\n",
      "Iteration 222, loss = 0.41382541\n",
      "Iteration 223, loss = 0.40623362\n",
      "Iteration 224, loss = 0.39884495\n",
      "Iteration 225, loss = 0.39154788\n",
      "Iteration 226, loss = 0.38461264\n",
      "Iteration 227, loss = 0.37752991\n",
      "Iteration 228, loss = 0.37068793\n",
      "Iteration 229, loss = 0.36408670\n",
      "Iteration 230, loss = 0.35752056\n",
      "Iteration 231, loss = 0.35135321\n",
      "Iteration 232, loss = 0.34497789\n",
      "Iteration 233, loss = 0.33906767\n",
      "Iteration 234, loss = 0.33328342\n",
      "Iteration 235, loss = 0.32731436\n",
      "Iteration 236, loss = 0.32194023\n",
      "Iteration 237, loss = 0.31657678\n",
      "Iteration 238, loss = 0.31113978\n",
      "Iteration 239, loss = 0.30593814\n",
      "Iteration 240, loss = 0.30087363\n",
      "Iteration 241, loss = 0.29584937\n",
      "Iteration 242, loss = 0.29099398\n",
      "Iteration 243, loss = 0.28619887\n",
      "Iteration 244, loss = 0.28161243\n",
      "Iteration 245, loss = 0.27711324\n",
      "Iteration 246, loss = 0.27278953\n",
      "Iteration 247, loss = 0.26857710\n",
      "Iteration 248, loss = 0.26414380\n",
      "Iteration 249, loss = 0.26039206\n",
      "Iteration 250, loss = 0.25627317\n",
      "Iteration 251, loss = 0.25219184\n",
      "Iteration 252, loss = 0.24855930\n",
      "Iteration 253, loss = 0.24488740\n",
      "Iteration 254, loss = 0.24101372\n",
      "Iteration 255, loss = 0.23742680\n",
      "Iteration 256, loss = 0.23425443\n",
      "Iteration 257, loss = 0.23077462\n",
      "Iteration 258, loss = 0.22742301\n",
      "Iteration 259, loss = 0.22410098\n",
      "Iteration 260, loss = 0.22081067\n",
      "Iteration 261, loss = 0.21796789\n",
      "Iteration 262, loss = 0.21491282\n",
      "Iteration 263, loss = 0.21192317\n",
      "Iteration 264, loss = 0.20889536\n",
      "Iteration 265, loss = 0.20617255\n",
      "Iteration 266, loss = 0.20347513\n",
      "Iteration 267, loss = 0.20051574\n",
      "Iteration 268, loss = 0.19790161\n",
      "Iteration 269, loss = 0.19528612\n",
      "Iteration 270, loss = 0.19276514\n",
      "Iteration 271, loss = 0.19024185\n",
      "Iteration 272, loss = 0.18782275\n",
      "Iteration 273, loss = 0.18549767\n",
      "Iteration 274, loss = 0.18309984\n",
      "Iteration 275, loss = 0.18063526\n",
      "Iteration 276, loss = 0.17837122\n",
      "Iteration 277, loss = 0.17624199\n",
      "Iteration 278, loss = 0.17409137\n",
      "Iteration 279, loss = 0.17197742\n",
      "Iteration 280, loss = 0.16985982\n",
      "Iteration 281, loss = 0.16792084\n",
      "Iteration 282, loss = 0.16576178\n",
      "Iteration 283, loss = 0.16395275\n",
      "Iteration 284, loss = 0.16193979\n",
      "Iteration 285, loss = 0.16015359\n",
      "Iteration 286, loss = 0.15806070\n",
      "Iteration 287, loss = 0.15626633\n",
      "Iteration 288, loss = 0.15452623\n",
      "Iteration 289, loss = 0.15284286\n",
      "Iteration 290, loss = 0.15099064\n",
      "Iteration 291, loss = 0.14935503\n",
      "Iteration 292, loss = 0.14772357\n",
      "Iteration 293, loss = 0.14606671\n",
      "Iteration 294, loss = 0.14449971\n",
      "Iteration 295, loss = 0.14290926\n",
      "Iteration 296, loss = 0.14133204\n",
      "Iteration 297, loss = 0.13999280\n",
      "Iteration 298, loss = 0.13832171\n",
      "Iteration 299, loss = 0.13692724\n",
      "Iteration 300, loss = 0.13539194\n",
      "Iteration 301, loss = 0.13408087\n",
      "Iteration 302, loss = 0.13277652\n",
      "Iteration 303, loss = 0.13118257\n",
      "Iteration 304, loss = 0.12985202\n",
      "Iteration 305, loss = 0.12885563\n",
      "Iteration 306, loss = 0.12711495\n",
      "Iteration 307, loss = 0.12586631\n",
      "Iteration 308, loss = 0.12455577\n",
      "Iteration 309, loss = 0.12339048\n",
      "Iteration 310, loss = 0.12205250\n",
      "Iteration 311, loss = 0.12096496\n",
      "Iteration 312, loss = 0.11977646\n",
      "Iteration 313, loss = 0.11846569\n",
      "Iteration 314, loss = 0.11744466\n",
      "Iteration 315, loss = 0.11636304\n",
      "Iteration 316, loss = 0.11504491\n",
      "Iteration 317, loss = 0.11403219\n",
      "Iteration 318, loss = 0.11290403\n",
      "Iteration 319, loss = 0.11179464\n",
      "Iteration 320, loss = 0.11078708\n",
      "Iteration 321, loss = 0.10971426\n",
      "Iteration 322, loss = 0.10864483\n",
      "Iteration 323, loss = 0.10788904\n",
      "Iteration 324, loss = 0.10677434\n",
      "Iteration 325, loss = 0.10584735\n",
      "Iteration 326, loss = 0.10470479\n",
      "Iteration 327, loss = 0.10396141\n",
      "Iteration 328, loss = 0.10288389\n",
      "Iteration 329, loss = 0.10188465\n",
      "Iteration 330, loss = 0.10096519\n",
      "Iteration 331, loss = 0.09999726\n",
      "Iteration 332, loss = 0.09918435\n",
      "Iteration 333, loss = 0.09828778\n",
      "Iteration 334, loss = 0.09745226\n",
      "Iteration 335, loss = 0.09648391\n",
      "Iteration 336, loss = 0.09577697\n",
      "Iteration 337, loss = 0.09492039\n",
      "Iteration 338, loss = 0.09395722\n",
      "Iteration 339, loss = 0.09318507\n",
      "Iteration 340, loss = 0.09237866\n",
      "Iteration 341, loss = 0.09160847\n",
      "Iteration 342, loss = 0.09074498\n",
      "Iteration 343, loss = 0.09008827\n",
      "Iteration 344, loss = 0.08932853\n",
      "Iteration 345, loss = 0.08849791\n",
      "Iteration 346, loss = 0.08781936\n",
      "Iteration 347, loss = 0.08713875\n",
      "Iteration 348, loss = 0.08624736\n",
      "Iteration 349, loss = 0.08549479\n",
      "Iteration 350, loss = 0.08482758\n",
      "Iteration 351, loss = 0.08418665\n",
      "Iteration 352, loss = 0.08344528\n",
      "Iteration 353, loss = 0.08286146\n",
      "Iteration 354, loss = 0.08218334\n",
      "Iteration 355, loss = 0.08145928\n",
      "Iteration 356, loss = 0.08092838\n",
      "Iteration 357, loss = 0.08018711\n",
      "Iteration 358, loss = 0.07944679\n",
      "Iteration 359, loss = 0.07884159\n",
      "Iteration 360, loss = 0.07817175\n",
      "Iteration 361, loss = 0.07762333\n",
      "Iteration 362, loss = 0.07709807\n",
      "Iteration 363, loss = 0.07639022\n",
      "Iteration 364, loss = 0.07573356\n",
      "Iteration 365, loss = 0.07513921\n",
      "Iteration 366, loss = 0.07455614\n",
      "Iteration 367, loss = 0.07397120\n",
      "Iteration 368, loss = 0.07340627\n",
      "Iteration 369, loss = 0.07283337\n",
      "Iteration 370, loss = 0.07237807\n",
      "Iteration 371, loss = 0.07170853\n",
      "Iteration 372, loss = 0.07110373\n",
      "Iteration 373, loss = 0.07062655\n",
      "Iteration 374, loss = 0.07009339\n",
      "Iteration 375, loss = 0.06950185\n",
      "Iteration 376, loss = 0.06899096\n",
      "Iteration 377, loss = 0.06844849\n",
      "Iteration 378, loss = 0.06792331\n",
      "Iteration 379, loss = 0.06743428\n",
      "Iteration 380, loss = 0.06710292\n",
      "Iteration 381, loss = 0.06643073\n",
      "Iteration 382, loss = 0.06593074\n",
      "Iteration 383, loss = 0.06537840\n",
      "Iteration 384, loss = 0.06488893\n",
      "Iteration 385, loss = 0.06448576\n",
      "Iteration 386, loss = 0.06407449\n",
      "Iteration 387, loss = 0.06350668\n",
      "Iteration 388, loss = 0.06311842\n",
      "Iteration 389, loss = 0.06263263\n",
      "Iteration 390, loss = 0.06208889\n",
      "Iteration 391, loss = 0.06169765\n",
      "Iteration 392, loss = 0.06112410\n",
      "Iteration 393, loss = 0.06077172\n",
      "Iteration 394, loss = 0.06033296\n",
      "Iteration 395, loss = 0.05983996\n",
      "Iteration 396, loss = 0.05950646\n",
      "Iteration 397, loss = 0.05911062\n",
      "Iteration 398, loss = 0.05866367\n",
      "Iteration 399, loss = 0.05832067\n",
      "Iteration 400, loss = 0.05782622\n",
      "Iteration 401, loss = 0.05738350\n",
      "Iteration 402, loss = 0.05692030\n",
      "Iteration 403, loss = 0.05660087\n",
      "Iteration 404, loss = 0.05629719\n",
      "Iteration 405, loss = 0.05579623\n",
      "Iteration 406, loss = 0.05538618\n",
      "Iteration 407, loss = 0.05507594\n",
      "Iteration 408, loss = 0.05468381\n",
      "Iteration 409, loss = 0.05419089\n",
      "Iteration 410, loss = 0.05383525\n",
      "Iteration 411, loss = 0.05348389\n",
      "Iteration 412, loss = 0.05309373\n",
      "Iteration 413, loss = 0.05272773\n",
      "Iteration 414, loss = 0.05241958\n",
      "Iteration 415, loss = 0.05196381\n",
      "Iteration 416, loss = 0.05167649\n",
      "Iteration 417, loss = 0.05127826\n",
      "Iteration 418, loss = 0.05091334\n",
      "Iteration 419, loss = 0.05063048\n",
      "Iteration 420, loss = 0.05028856\n",
      "Iteration 421, loss = 0.04997271\n",
      "Iteration 422, loss = 0.04959088\n",
      "Iteration 423, loss = 0.04929457\n",
      "Iteration 424, loss = 0.04901612\n",
      "Iteration 425, loss = 0.04865617\n",
      "Iteration 426, loss = 0.04828726\n",
      "Iteration 427, loss = 0.04796916\n",
      "Iteration 428, loss = 0.04764281\n",
      "Iteration 429, loss = 0.04733808\n",
      "Iteration 430, loss = 0.04706724\n",
      "Iteration 431, loss = 0.04670465\n",
      "Iteration 432, loss = 0.04643900\n",
      "Iteration 433, loss = 0.04612646\n",
      "Iteration 434, loss = 0.04583040\n",
      "Iteration 435, loss = 0.04544217\n",
      "Iteration 436, loss = 0.04516346\n",
      "Iteration 437, loss = 0.04497927\n",
      "Iteration 438, loss = 0.04481409\n",
      "Iteration 439, loss = 0.04434285\n",
      "Iteration 440, loss = 0.04406913\n",
      "Iteration 441, loss = 0.04382373\n",
      "Iteration 442, loss = 0.04356466\n",
      "Iteration 443, loss = 0.04319011\n",
      "Iteration 444, loss = 0.04295485\n",
      "Iteration 445, loss = 0.04271074\n",
      "Iteration 446, loss = 0.04247062\n",
      "Iteration 447, loss = 0.04208467\n",
      "Iteration 448, loss = 0.04185535\n",
      "Iteration 449, loss = 0.04162029\n",
      "Iteration 450, loss = 0.04137499\n",
      "Iteration 451, loss = 0.04105835\n",
      "Iteration 452, loss = 0.04081277\n",
      "Iteration 453, loss = 0.04053067\n",
      "Iteration 454, loss = 0.04029853\n",
      "Iteration 455, loss = 0.04004386\n",
      "Iteration 456, loss = 0.03977707\n",
      "Iteration 457, loss = 0.03958934\n",
      "Iteration 458, loss = 0.03938933\n",
      "Iteration 459, loss = 0.03907741\n",
      "Iteration 460, loss = 0.03881922\n",
      "Iteration 461, loss = 0.03859843\n",
      "Iteration 462, loss = 0.03837742\n",
      "Iteration 463, loss = 0.03815298\n",
      "Iteration 464, loss = 0.03790590\n",
      "Iteration 465, loss = 0.03767165\n",
      "Iteration 466, loss = 0.03750948\n",
      "Iteration 467, loss = 0.03734218\n",
      "Iteration 468, loss = 0.03705614\n",
      "Iteration 469, loss = 0.03682205\n",
      "Iteration 470, loss = 0.03653149\n",
      "Iteration 471, loss = 0.03637659\n",
      "Iteration 472, loss = 0.03615810\n",
      "Iteration 473, loss = 0.03595580\n",
      "Iteration 474, loss = 0.03571190\n",
      "Iteration 475, loss = 0.03551187\n",
      "Iteration 476, loss = 0.03531142\n",
      "Iteration 477, loss = 0.03514575\n",
      "Iteration 478, loss = 0.03491755\n",
      "Iteration 479, loss = 0.03468407\n",
      "Iteration 480, loss = 0.03451445\n",
      "Iteration 481, loss = 0.03430823\n",
      "Iteration 482, loss = 0.03413847\n",
      "Iteration 483, loss = 0.03394753\n",
      "Iteration 484, loss = 0.03374062\n",
      "Iteration 485, loss = 0.03356649\n",
      "Iteration 486, loss = 0.03333552\n",
      "Iteration 487, loss = 0.03323804\n",
      "Iteration 488, loss = 0.03296417\n",
      "Iteration 489, loss = 0.03276662\n",
      "Iteration 490, loss = 0.03266205\n",
      "Iteration 491, loss = 0.03250168\n",
      "Iteration 492, loss = 0.03225541\n",
      "Iteration 493, loss = 0.03204495\n",
      "Iteration 494, loss = 0.03187490\n",
      "Iteration 495, loss = 0.03169651\n",
      "Iteration 496, loss = 0.03156946\n",
      "Iteration 497, loss = 0.03140242\n",
      "Iteration 498, loss = 0.03118537\n",
      "Iteration 499, loss = 0.03098623\n",
      "Iteration 500, loss = 0.03085786\n"
     ]
    },
    {
     "name": "stderr",
     "output_type": "stream",
     "text": [
      "c:\\Users\\nicol\\AppData\\Local\\Programs\\Python\\Python310\\lib\\site-packages\\sklearn\\neural_network\\_multilayer_perceptron.py:692: ConvergenceWarning: Stochastic Optimizer: Maximum iterations (500) reached and the optimization hasn't converged yet.\n",
      "  warnings.warn(\n"
     ]
    },
    {
     "data": {
      "text/plain": [
       "0.955"
      ]
     },
     "execution_count": 151,
     "metadata": {},
     "output_type": "execute_result"
    }
   ],
   "source": [
    "# create the model, this is a multi-class classification problem\n",
    "model = MLPClassifier(hidden_layer_sizes=(100, 100, 100), max_iter=500, alpha=0.0001, solver='sgd', verbose=10,  random_state=21, tol=0.000000001)\n",
    "\n",
    "# fit the model\n",
    "model.fit(train_vectors, train['topic'])\n",
    "\n",
    "# predict the test data\n",
    "pred = model.predict(test_vector)\n",
    "\n",
    "# calculate the accuracy\n",
    "accuracy_score(test['topic'], pred)"
   ]
  },
  {
   "cell_type": "code",
   "execution_count": 152,
   "metadata": {},
   "outputs": [
    {
     "data": {
      "text/plain": [
       "(0.99675, 0.955)"
      ]
     },
     "execution_count": 152,
     "metadata": {},
     "output_type": "execute_result"
    }
   ],
   "source": [
    "# train score vs. test score\n",
    "model.score(train_vectors, train['topic']), model.score(test_vector, test['topic'])"
   ]
  },
  {
   "cell_type": "code",
   "execution_count": 153,
   "metadata": {},
   "outputs": [
    {
     "data": {
      "text/plain": [
       "array(['Sales/Promotions'], dtype='<U22')"
      ]
     },
     "execution_count": 153,
     "metadata": {},
     "output_type": "execute_result"
    }
   ],
   "source": [
    "# Lets use the model to predict the topic of a question\n",
    "question = \"I'm really interested in your special deals. Do you have any offers?\"\n",
    "\n",
    "# preprocess the question\n",
    "question = preprocessing(question)\n",
    "\n",
    "# vectorize the question\n",
    "question_vector = vectorizer.transform([' '.join(question)])\n",
    "\n",
    "# predict the topic\n",
    "model.predict(question_vector)"
   ]
  },
  {
   "cell_type": "markdown",
   "metadata": {},
   "source": [
    "## For each classifier, use four kinds of input feature vectors: (1) TF-IDF vector of tokenized words, (2) TF-IDF vector of n-grams (of range 4-5), (3) word vectors (Glove, Word2Vec, or FastText), and (4) document vectors (Doc2Vec). Train each model using training data, report classification metrics using test data, and summarize the results of all model in a nicely formatted table. Comment on which model will be your preferred choice for text classification for this data and why."
   ]
  },
  {
   "cell_type": "markdown",
   "metadata": {},
   "source": [
    "### Part 2.1) NGram Range 4-5"
   ]
  },
  {
   "cell_type": "code",
   "execution_count": 168,
   "metadata": {},
   "outputs": [],
   "source": [
    "# Lets recreate our input feature with TF-IDF with n-grams (4, 5)\n",
    "vectorizer_2 = TfidfVectorizer(tokenizer=preprocessing, ngram_range=(4, 5), stop_words=None, min_df=0.001, max_df=0.75, max_features=2500)\n",
    "\n",
    "train_vectors_2 = vectorizer_2.fit_transform(train_X['question'])"
   ]
  },
  {
   "cell_type": "code",
   "execution_count": 169,
   "metadata": {},
   "outputs": [
    {
     "name": "stderr",
     "output_type": "stream",
     "text": [
      "c:\\Users\\nicol\\AppData\\Local\\Programs\\Python\\Python310\\lib\\site-packages\\sklearn\\utils\\deprecation.py:87: FutureWarning: Function get_feature_names is deprecated; get_feature_names is deprecated in 1.0 and will be removed in 1.2. Please use get_feature_names_out instead.\n",
      "  warnings.warn(msg, category=FutureWarning)\n"
     ]
    }
   ],
   "source": [
    "# Repeat the same steps as above\n",
    "train_df_2 = pd.DataFrame(train_vectors_2.toarray(), columns=vectorizer.get_feature_names())\n",
    "\n",
    "train_df_2 = pd.concat([train_df_2, train['topic']], axis=1)\n",
    "\n",
    "test_vector_2 = vectorizer_2.transform(test['question'])"
   ]
  },
  {
   "cell_type": "code",
   "execution_count": 170,
   "metadata": {},
   "outputs": [
    {
     "data": {
      "text/plain": [
       "0.629"
      ]
     },
     "execution_count": 170,
     "metadata": {},
     "output_type": "execute_result"
    }
   ],
   "source": [
    "# Create SVC model\n",
    "model = SVC(kernel='linear', C=1, gamma='auto', probability=True)\n",
    "\n",
    "# fit the model\n",
    "model.fit(train_vectors_2, train['topic'])\n",
    "\n",
    "# predict the test data\n",
    "pred = model.predict(test_vector_2)\n",
    "\n",
    "# calculate the accuracy\n",
    "accuracy_score(test['topic'], pred)"
   ]
  },
  {
   "cell_type": "code",
   "execution_count": 172,
   "metadata": {},
   "outputs": [
    {
     "data": {
      "text/plain": [
       "(0.67175, 0.629)"
      ]
     },
     "execution_count": 172,
     "metadata": {},
     "output_type": "execute_result"
    }
   ],
   "source": [
    "# train score vs. test score\n",
    "model.score(train_vectors_2, train['topic']), model.score(test_vector_2, test['topic'])"
   ]
  },
  {
   "cell_type": "code",
   "execution_count": 173,
   "metadata": {},
   "outputs": [
    {
     "data": {
      "text/plain": [
       "array(['Product Specifications'], dtype=object)"
      ]
     },
     "execution_count": 173,
     "metadata": {},
     "output_type": "execute_result"
    }
   ],
   "source": [
    "# Lets use the model to predict the topic of a question\n",
    "question = \"I'm really interested in your special deals. Do you have any offers?\"\n",
    "\n",
    "# preprocess the question\n",
    "question = preprocessing(question)\n",
    "\n",
    "# vectorize the question\n",
    "question_vector = vectorizer_2.transform([' '.join(question)])\n",
    "\n",
    "# predict the topic\n",
    "model.predict(question_vector)"
   ]
  },
  {
   "cell_type": "code",
   "execution_count": 174,
   "metadata": {},
   "outputs": [
    {
     "data": {
      "text/plain": [
       "0.36"
      ]
     },
     "execution_count": 174,
     "metadata": {},
     "output_type": "execute_result"
    }
   ],
   "source": [
    "# Lets train a Random Forest model\n",
    "model = RandomForestClassifier(n_estimators=100, max_depth=10, random_state=0)\n",
    "\n",
    "# fit the model\n",
    "model.fit(train_vectors_2, train['topic'])\n",
    "\n",
    "# predict the test data\n",
    "pred = model.predict(test_vector_2)\n",
    "\n",
    "# calculate the accuracy\n",
    "accuracy_score(test['topic'], pred)"
   ]
  },
  {
   "cell_type": "code",
   "execution_count": 175,
   "metadata": {},
   "outputs": [
    {
     "data": {
      "text/plain": [
       "(0.3635, 0.36)"
      ]
     },
     "execution_count": 175,
     "metadata": {},
     "output_type": "execute_result"
    }
   ],
   "source": [
    "# train score vs. test score\n",
    "model.score(train_vectors_2, train['topic']), model.score(test_vector_2, test['topic'])"
   ]
  },
  {
   "cell_type": "code",
   "execution_count": 176,
   "metadata": {},
   "outputs": [
    {
     "name": "stdout",
     "output_type": "stream",
     "text": [
      "Iteration 1, loss = 1.93511248\n",
      "Iteration 2, loss = 1.93279064\n",
      "Iteration 3, loss = 1.93069424\n",
      "Iteration 4, loss = 1.92868508\n",
      "Iteration 5, loss = 1.92715366\n",
      "Iteration 6, loss = 1.92580711\n",
      "Iteration 7, loss = 1.92468004\n",
      "Iteration 8, loss = 1.92372471\n",
      "Iteration 9, loss = 1.92288273\n",
      "Iteration 10, loss = 1.92218936\n",
      "Iteration 11, loss = 1.92156053\n",
      "Iteration 12, loss = 1.92110013\n",
      "Iteration 13, loss = 1.92056968\n",
      "Iteration 14, loss = 1.92015155\n",
      "Iteration 15, loss = 1.91984303\n",
      "Iteration 16, loss = 1.91950814\n",
      "Iteration 17, loss = 1.91925256\n",
      "Iteration 18, loss = 1.91897481\n",
      "Iteration 19, loss = 1.91873183\n",
      "Iteration 20, loss = 1.91851507\n",
      "Iteration 21, loss = 1.91833041\n",
      "Iteration 22, loss = 1.91814810\n",
      "Iteration 23, loss = 1.91795320\n",
      "Iteration 24, loss = 1.91777600\n",
      "Iteration 25, loss = 1.91761776\n",
      "Iteration 26, loss = 1.91745708\n",
      "Iteration 27, loss = 1.91728752\n",
      "Iteration 28, loss = 1.91713154\n",
      "Iteration 29, loss = 1.91697267\n",
      "Iteration 30, loss = 1.91683672\n",
      "Iteration 31, loss = 1.91666078\n",
      "Iteration 32, loss = 1.91654283\n",
      "Iteration 33, loss = 1.91640111\n",
      "Iteration 34, loss = 1.91620806\n",
      "Iteration 35, loss = 1.91607272\n",
      "Iteration 36, loss = 1.91592325\n",
      "Iteration 37, loss = 1.91577833\n",
      "Iteration 38, loss = 1.91563059\n",
      "Iteration 39, loss = 1.91545200\n",
      "Iteration 40, loss = 1.91526737\n",
      "Iteration 41, loss = 1.91512457\n",
      "Iteration 42, loss = 1.91499559\n",
      "Iteration 43, loss = 1.91484967\n",
      "Iteration 44, loss = 1.91471525\n",
      "Iteration 45, loss = 1.91458081\n",
      "Iteration 46, loss = 1.91443819\n",
      "Iteration 47, loss = 1.91428881\n",
      "Iteration 48, loss = 1.91417038\n",
      "Iteration 49, loss = 1.91402906\n",
      "Iteration 50, loss = 1.91385942\n",
      "Iteration 51, loss = 1.91370367\n",
      "Iteration 52, loss = 1.91357960\n",
      "Iteration 53, loss = 1.91341702\n",
      "Iteration 54, loss = 1.91326472\n",
      "Iteration 55, loss = 1.91311211\n",
      "Iteration 56, loss = 1.91298667\n",
      "Iteration 57, loss = 1.91281822\n",
      "Iteration 58, loss = 1.91263811\n",
      "Iteration 59, loss = 1.91250153\n",
      "Iteration 60, loss = 1.91232145\n",
      "Iteration 61, loss = 1.91214850\n",
      "Iteration 62, loss = 1.91201178\n",
      "Iteration 63, loss = 1.91181211\n",
      "Iteration 64, loss = 1.91166309\n",
      "Iteration 65, loss = 1.91146825\n",
      "Iteration 66, loss = 1.91133945\n",
      "Iteration 67, loss = 1.91116114\n",
      "Iteration 68, loss = 1.91098907\n",
      "Iteration 69, loss = 1.91079543\n",
      "Iteration 70, loss = 1.91064268\n",
      "Iteration 71, loss = 1.91046126\n",
      "Iteration 72, loss = 1.91028352\n",
      "Iteration 73, loss = 1.91009138\n",
      "Iteration 74, loss = 1.90991267\n",
      "Iteration 75, loss = 1.90972245\n",
      "Iteration 76, loss = 1.90958070\n",
      "Iteration 77, loss = 1.90938927\n",
      "Iteration 78, loss = 1.90916250\n",
      "Iteration 79, loss = 1.90900508\n",
      "Iteration 80, loss = 1.90879287\n",
      "Iteration 81, loss = 1.90863383\n",
      "Iteration 82, loss = 1.90843932\n",
      "Iteration 83, loss = 1.90825132\n",
      "Iteration 84, loss = 1.90804618\n",
      "Iteration 85, loss = 1.90786072\n",
      "Iteration 86, loss = 1.90765433\n",
      "Iteration 87, loss = 1.90748987\n",
      "Iteration 88, loss = 1.90726890\n",
      "Iteration 89, loss = 1.90705243\n",
      "Iteration 90, loss = 1.90684042\n",
      "Iteration 91, loss = 1.90666408\n",
      "Iteration 92, loss = 1.90642392\n",
      "Iteration 93, loss = 1.90620703\n",
      "Iteration 94, loss = 1.90599162\n",
      "Iteration 95, loss = 1.90576504\n",
      "Iteration 96, loss = 1.90555015\n",
      "Iteration 97, loss = 1.90527995\n",
      "Iteration 98, loss = 1.90507562\n",
      "Iteration 99, loss = 1.90484459\n",
      "Iteration 100, loss = 1.90458635\n",
      "Iteration 101, loss = 1.90434664\n",
      "Iteration 102, loss = 1.90409154\n",
      "Iteration 103, loss = 1.90383695\n",
      "Iteration 104, loss = 1.90359252\n",
      "Iteration 105, loss = 1.90333249\n",
      "Iteration 106, loss = 1.90305319\n",
      "Iteration 107, loss = 1.90277783\n",
      "Iteration 108, loss = 1.90253015\n",
      "Iteration 109, loss = 1.90223749\n",
      "Iteration 110, loss = 1.90196298\n",
      "Iteration 111, loss = 1.90165105\n",
      "Iteration 112, loss = 1.90139319\n",
      "Iteration 113, loss = 1.90108952\n",
      "Iteration 114, loss = 1.90076864\n",
      "Iteration 115, loss = 1.90046523\n",
      "Iteration 116, loss = 1.90013702\n",
      "Iteration 117, loss = 1.89981504\n",
      "Iteration 118, loss = 1.89951065\n",
      "Iteration 119, loss = 1.89918792\n",
      "Iteration 120, loss = 1.89881243\n",
      "Iteration 121, loss = 1.89848251\n",
      "Iteration 122, loss = 1.89813638\n",
      "Iteration 123, loss = 1.89777141\n",
      "Iteration 124, loss = 1.89741791\n",
      "Iteration 125, loss = 1.89708333\n",
      "Iteration 126, loss = 1.89671240\n",
      "Iteration 127, loss = 1.89632248\n",
      "Iteration 128, loss = 1.89598999\n",
      "Iteration 129, loss = 1.89558499\n",
      "Iteration 130, loss = 1.89520512\n",
      "Iteration 131, loss = 1.89480013\n",
      "Iteration 132, loss = 1.89443428\n",
      "Iteration 133, loss = 1.89399975\n",
      "Iteration 134, loss = 1.89358803\n",
      "Iteration 135, loss = 1.89318625\n",
      "Iteration 136, loss = 1.89273693\n",
      "Iteration 137, loss = 1.89231505\n",
      "Iteration 138, loss = 1.89184810\n",
      "Iteration 139, loss = 1.89144002\n",
      "Iteration 140, loss = 1.89095727\n",
      "Iteration 141, loss = 1.89049250\n",
      "Iteration 142, loss = 1.89002265\n",
      "Iteration 143, loss = 1.88956360\n",
      "Iteration 144, loss = 1.88906586\n",
      "Iteration 145, loss = 1.88853698\n",
      "Iteration 146, loss = 1.88802676\n",
      "Iteration 147, loss = 1.88748089\n",
      "Iteration 148, loss = 1.88696278\n",
      "Iteration 149, loss = 1.88641741\n",
      "Iteration 150, loss = 1.88589994\n",
      "Iteration 151, loss = 1.88530494\n",
      "Iteration 152, loss = 1.88471843\n",
      "Iteration 153, loss = 1.88411781\n",
      "Iteration 154, loss = 1.88354977\n",
      "Iteration 155, loss = 1.88289153\n",
      "Iteration 156, loss = 1.88229841\n",
      "Iteration 157, loss = 1.88163979\n",
      "Iteration 158, loss = 1.88097133\n",
      "Iteration 159, loss = 1.88033473\n",
      "Iteration 160, loss = 1.87962205\n",
      "Iteration 161, loss = 1.87894834\n",
      "Iteration 162, loss = 1.87817458\n",
      "Iteration 163, loss = 1.87735255\n",
      "Iteration 164, loss = 1.87656967\n",
      "Iteration 165, loss = 1.87579017\n",
      "Iteration 166, loss = 1.87492867\n",
      "Iteration 167, loss = 1.87408922\n",
      "Iteration 168, loss = 1.87323296\n",
      "Iteration 169, loss = 1.87239159\n",
      "Iteration 170, loss = 1.87149945\n",
      "Iteration 171, loss = 1.87063145\n",
      "Iteration 172, loss = 1.86971851\n",
      "Iteration 173, loss = 1.86880051\n",
      "Iteration 174, loss = 1.86785579\n",
      "Iteration 175, loss = 1.86694948\n",
      "Iteration 176, loss = 1.86587976\n",
      "Iteration 177, loss = 1.86482822\n",
      "Iteration 178, loss = 1.86377031\n",
      "Iteration 179, loss = 1.86269541\n",
      "Iteration 180, loss = 1.86158684\n",
      "Iteration 181, loss = 1.86042112\n",
      "Iteration 182, loss = 1.85921849\n",
      "Iteration 183, loss = 1.85797436\n",
      "Iteration 184, loss = 1.85670621\n",
      "Iteration 185, loss = 1.85541746\n",
      "Iteration 186, loss = 1.85402301\n",
      "Iteration 187, loss = 1.85263119\n",
      "Iteration 188, loss = 1.85130058\n",
      "Iteration 189, loss = 1.84992922\n",
      "Iteration 190, loss = 1.84852076\n",
      "Iteration 191, loss = 1.84706735\n",
      "Iteration 192, loss = 1.84562151\n",
      "Iteration 193, loss = 1.84407339\n",
      "Iteration 194, loss = 1.84253915\n",
      "Iteration 195, loss = 1.84093856\n",
      "Iteration 196, loss = 1.83930682\n",
      "Iteration 197, loss = 1.83762411\n",
      "Iteration 198, loss = 1.83585154\n",
      "Iteration 199, loss = 1.83412767\n",
      "Iteration 200, loss = 1.83234672\n",
      "Iteration 201, loss = 1.83051275\n",
      "Iteration 202, loss = 1.82857678\n",
      "Iteration 203, loss = 1.82662793\n",
      "Iteration 204, loss = 1.82463045\n",
      "Iteration 205, loss = 1.82257520\n",
      "Iteration 206, loss = 1.82052006\n",
      "Iteration 207, loss = 1.81837903\n",
      "Iteration 208, loss = 1.81617689\n",
      "Iteration 209, loss = 1.81392415\n",
      "Iteration 210, loss = 1.81162435\n",
      "Iteration 211, loss = 1.80930901\n",
      "Iteration 212, loss = 1.80692054\n",
      "Iteration 213, loss = 1.80445873\n",
      "Iteration 214, loss = 1.80192773\n",
      "Iteration 215, loss = 1.79939506\n",
      "Iteration 216, loss = 1.79676260\n",
      "Iteration 217, loss = 1.79403287\n",
      "Iteration 218, loss = 1.79124268\n",
      "Iteration 219, loss = 1.78847772\n",
      "Iteration 220, loss = 1.78558048\n",
      "Iteration 221, loss = 1.78262265\n",
      "Iteration 222, loss = 1.77965212\n",
      "Iteration 223, loss = 1.77658478\n",
      "Iteration 224, loss = 1.77347664\n",
      "Iteration 225, loss = 1.77027013\n",
      "Iteration 226, loss = 1.76695086\n",
      "Iteration 227, loss = 1.76359897\n",
      "Iteration 228, loss = 1.76015399\n",
      "Iteration 229, loss = 1.75680481\n",
      "Iteration 230, loss = 1.75311039\n",
      "Iteration 231, loss = 1.74956663\n",
      "Iteration 232, loss = 1.74581091\n",
      "Iteration 233, loss = 1.74204865\n",
      "Iteration 234, loss = 1.73818980\n",
      "Iteration 235, loss = 1.73426276\n",
      "Iteration 236, loss = 1.73028293\n",
      "Iteration 237, loss = 1.72628763\n",
      "Iteration 238, loss = 1.72234708\n",
      "Iteration 239, loss = 1.71815347\n",
      "Iteration 240, loss = 1.71375912\n",
      "Iteration 241, loss = 1.70946444\n",
      "Iteration 242, loss = 1.70511981\n",
      "Iteration 243, loss = 1.70080526\n",
      "Iteration 244, loss = 1.69614639\n",
      "Iteration 245, loss = 1.69186077\n",
      "Iteration 246, loss = 1.68714780\n",
      "Iteration 247, loss = 1.68247373\n",
      "Iteration 248, loss = 1.67776950\n",
      "Iteration 249, loss = 1.67322912\n",
      "Iteration 250, loss = 1.66841783\n",
      "Iteration 251, loss = 1.66344096\n",
      "Iteration 252, loss = 1.65862566\n",
      "Iteration 253, loss = 1.65376760\n",
      "Iteration 254, loss = 1.64876111\n",
      "Iteration 255, loss = 1.64378587\n",
      "Iteration 256, loss = 1.63887559\n",
      "Iteration 257, loss = 1.63384544\n",
      "Iteration 258, loss = 1.62884418\n",
      "Iteration 259, loss = 1.62367865\n",
      "Iteration 260, loss = 1.61860686\n",
      "Iteration 261, loss = 1.61350789\n",
      "Iteration 262, loss = 1.60851769\n",
      "Iteration 263, loss = 1.60339540\n",
      "Iteration 264, loss = 1.59832224\n",
      "Iteration 265, loss = 1.59318977\n",
      "Iteration 266, loss = 1.58794317\n",
      "Iteration 267, loss = 1.58281244\n",
      "Iteration 268, loss = 1.57775092\n",
      "Iteration 269, loss = 1.57252589\n",
      "Iteration 270, loss = 1.56734876\n",
      "Iteration 271, loss = 1.56230177\n",
      "Iteration 272, loss = 1.55739024\n",
      "Iteration 273, loss = 1.55201515\n",
      "Iteration 274, loss = 1.54703234\n",
      "Iteration 275, loss = 1.54192693\n",
      "Iteration 276, loss = 1.53682526\n",
      "Iteration 277, loss = 1.53170072\n",
      "Iteration 278, loss = 1.52657643\n",
      "Iteration 279, loss = 1.52154733\n",
      "Iteration 280, loss = 1.51648987\n",
      "Iteration 281, loss = 1.51144849\n",
      "Iteration 282, loss = 1.50652727\n",
      "Iteration 283, loss = 1.50161683\n",
      "Iteration 284, loss = 1.49655433\n",
      "Iteration 285, loss = 1.49139821\n",
      "Iteration 286, loss = 1.48612556\n",
      "Iteration 287, loss = 1.48124387\n",
      "Iteration 288, loss = 1.47574550\n",
      "Iteration 289, loss = 1.47075959\n",
      "Iteration 290, loss = 1.46548330\n",
      "Iteration 291, loss = 1.46076124\n",
      "Iteration 292, loss = 1.45586487\n",
      "Iteration 293, loss = 1.45096970\n",
      "Iteration 294, loss = 1.44619064\n",
      "Iteration 295, loss = 1.44158828\n",
      "Iteration 296, loss = 1.43690495\n",
      "Iteration 297, loss = 1.43232272\n",
      "Iteration 298, loss = 1.42781128\n",
      "Iteration 299, loss = 1.42325749\n",
      "Iteration 300, loss = 1.41881736\n",
      "Iteration 301, loss = 1.41436149\n",
      "Iteration 302, loss = 1.41007960\n",
      "Iteration 303, loss = 1.40567239\n",
      "Iteration 304, loss = 1.40141427\n",
      "Iteration 305, loss = 1.39707710\n",
      "Iteration 306, loss = 1.39281699\n",
      "Iteration 307, loss = 1.38884296\n",
      "Iteration 308, loss = 1.38456557\n",
      "Iteration 309, loss = 1.38037779\n",
      "Iteration 310, loss = 1.37660727\n",
      "Iteration 311, loss = 1.37260907\n",
      "Iteration 312, loss = 1.36833961\n",
      "Iteration 313, loss = 1.36426620\n",
      "Iteration 314, loss = 1.36049623\n",
      "Iteration 315, loss = 1.35672323\n",
      "Iteration 316, loss = 1.35273402\n",
      "Iteration 317, loss = 1.34888036\n",
      "Iteration 318, loss = 1.34534269\n",
      "Iteration 319, loss = 1.34143625\n",
      "Iteration 320, loss = 1.33790461\n",
      "Iteration 321, loss = 1.33423736\n",
      "Iteration 322, loss = 1.33062654\n",
      "Iteration 323, loss = 1.32697497\n",
      "Iteration 324, loss = 1.32348156\n",
      "Iteration 325, loss = 1.32010998\n",
      "Iteration 326, loss = 1.31696624\n",
      "Iteration 327, loss = 1.31345595\n",
      "Iteration 328, loss = 1.30961966\n",
      "Iteration 329, loss = 1.30642595\n",
      "Iteration 330, loss = 1.30310783\n",
      "Iteration 331, loss = 1.29999616\n",
      "Iteration 332, loss = 1.29641779\n",
      "Iteration 333, loss = 1.29346049\n",
      "Iteration 334, loss = 1.29014382\n",
      "Iteration 335, loss = 1.28705221\n",
      "Iteration 336, loss = 1.28427450\n",
      "Iteration 337, loss = 1.28096276\n",
      "Iteration 338, loss = 1.27788309\n",
      "Iteration 339, loss = 1.27467761\n",
      "Iteration 340, loss = 1.27192618\n",
      "Iteration 341, loss = 1.26890264\n",
      "Iteration 342, loss = 1.26575586\n",
      "Iteration 343, loss = 1.26297402\n",
      "Iteration 344, loss = 1.25986723\n",
      "Iteration 345, loss = 1.25722984\n",
      "Iteration 346, loss = 1.25419064\n",
      "Iteration 347, loss = 1.25127705\n",
      "Iteration 348, loss = 1.24824940\n",
      "Iteration 349, loss = 1.24529566\n",
      "Iteration 350, loss = 1.24243845\n",
      "Iteration 351, loss = 1.23994296\n",
      "Iteration 352, loss = 1.23706799\n",
      "Iteration 353, loss = 1.23450225\n",
      "Iteration 354, loss = 1.23169648\n",
      "Iteration 355, loss = 1.22863322\n",
      "Iteration 356, loss = 1.22611005\n",
      "Iteration 357, loss = 1.22352180\n",
      "Iteration 358, loss = 1.22059586\n",
      "Iteration 359, loss = 1.21773451\n",
      "Iteration 360, loss = 1.21555868\n",
      "Iteration 361, loss = 1.21284803\n",
      "Iteration 362, loss = 1.20974860\n",
      "Iteration 363, loss = 1.20708790\n",
      "Iteration 364, loss = 1.20475297\n",
      "Iteration 365, loss = 1.20230269\n",
      "Iteration 366, loss = 1.19960366\n",
      "Iteration 367, loss = 1.19688705\n",
      "Iteration 368, loss = 1.19403900\n",
      "Iteration 369, loss = 1.19166009\n",
      "Iteration 370, loss = 1.18954188\n",
      "Iteration 371, loss = 1.18679079\n",
      "Iteration 372, loss = 1.18450383\n",
      "Iteration 373, loss = 1.18153082\n",
      "Iteration 374, loss = 1.17895672\n",
      "Iteration 375, loss = 1.17636336\n",
      "Iteration 376, loss = 1.17385119\n",
      "Iteration 377, loss = 1.17174636\n",
      "Iteration 378, loss = 1.16894007\n",
      "Iteration 379, loss = 1.16663891\n",
      "Iteration 380, loss = 1.16448184\n",
      "Iteration 381, loss = 1.16159287\n",
      "Iteration 382, loss = 1.15885164\n",
      "Iteration 383, loss = 1.15664876\n",
      "Iteration 384, loss = 1.15395252\n",
      "Iteration 385, loss = 1.15161274\n",
      "Iteration 386, loss = 1.14920214\n",
      "Iteration 387, loss = 1.14684402\n",
      "Iteration 388, loss = 1.14416114\n",
      "Iteration 389, loss = 1.14172665\n",
      "Iteration 390, loss = 1.13937310\n",
      "Iteration 391, loss = 1.13763078\n",
      "Iteration 392, loss = 1.13472558\n",
      "Iteration 393, loss = 1.13222190\n",
      "Iteration 394, loss = 1.12988235\n",
      "Iteration 395, loss = 1.12702530\n",
      "Iteration 396, loss = 1.12486489\n",
      "Iteration 397, loss = 1.12256716\n",
      "Iteration 398, loss = 1.12074533\n",
      "Iteration 399, loss = 1.11793889\n",
      "Iteration 400, loss = 1.11549361\n",
      "Iteration 401, loss = 1.11309967\n",
      "Iteration 402, loss = 1.11059064\n",
      "Iteration 403, loss = 1.10867611\n",
      "Iteration 404, loss = 1.10560971\n",
      "Iteration 405, loss = 1.10327175\n",
      "Iteration 406, loss = 1.10047167\n",
      "Iteration 407, loss = 1.09880862\n",
      "Iteration 408, loss = 1.09593177\n",
      "Iteration 409, loss = 1.09333984\n",
      "Iteration 410, loss = 1.09106946\n",
      "Iteration 411, loss = 1.08890767\n",
      "Iteration 412, loss = 1.08650861\n",
      "Iteration 413, loss = 1.08433034\n",
      "Iteration 414, loss = 1.08182980\n",
      "Iteration 415, loss = 1.07964807\n",
      "Iteration 416, loss = 1.07713203\n",
      "Iteration 417, loss = 1.07539962\n",
      "Iteration 418, loss = 1.07309720\n",
      "Iteration 419, loss = 1.07060313\n",
      "Iteration 420, loss = 1.06775455\n",
      "Iteration 421, loss = 1.06596595\n",
      "Iteration 422, loss = 1.06340089\n",
      "Iteration 423, loss = 1.06160648\n",
      "Iteration 424, loss = 1.05910666\n",
      "Iteration 425, loss = 1.05659774\n",
      "Iteration 426, loss = 1.05384732\n",
      "Iteration 427, loss = 1.05268875\n",
      "Iteration 428, loss = 1.04977244\n",
      "Iteration 429, loss = 1.04739062\n",
      "Iteration 430, loss = 1.04524983\n",
      "Iteration 431, loss = 1.04275724\n",
      "Iteration 432, loss = 1.04094045\n",
      "Iteration 433, loss = 1.03867887\n",
      "Iteration 434, loss = 1.03636973\n",
      "Iteration 435, loss = 1.03427309\n",
      "Iteration 436, loss = 1.03231597\n",
      "Iteration 437, loss = 1.03047665\n",
      "Iteration 438, loss = 1.02755056\n",
      "Iteration 439, loss = 1.02589114\n",
      "Iteration 440, loss = 1.02385771\n",
      "Iteration 441, loss = 1.02132974\n",
      "Iteration 442, loss = 1.02016288\n",
      "Iteration 443, loss = 1.01717583\n",
      "Iteration 444, loss = 1.01493591\n",
      "Iteration 445, loss = 1.01356496\n",
      "Iteration 446, loss = 1.01242620\n",
      "Iteration 447, loss = 1.00929554\n",
      "Iteration 448, loss = 1.00755551\n",
      "Iteration 449, loss = 1.00581313\n",
      "Iteration 450, loss = 1.00420150\n",
      "Iteration 451, loss = 1.00104170\n",
      "Iteration 452, loss = 0.99954210\n",
      "Iteration 453, loss = 0.99715175\n",
      "Iteration 454, loss = 0.99612837\n",
      "Iteration 455, loss = 0.99372023\n",
      "Iteration 456, loss = 0.99137636\n",
      "Iteration 457, loss = 0.98936134\n",
      "Iteration 458, loss = 0.98858568\n",
      "Iteration 459, loss = 0.98593734\n",
      "Iteration 460, loss = 0.98357668\n",
      "Iteration 461, loss = 0.98213469\n",
      "Iteration 462, loss = 0.97992485\n",
      "Iteration 463, loss = 0.97827505\n",
      "Iteration 464, loss = 0.97673473\n",
      "Iteration 465, loss = 0.97448777\n",
      "Iteration 466, loss = 0.97285683\n",
      "Iteration 467, loss = 0.97126210\n",
      "Iteration 468, loss = 0.96989044\n",
      "Iteration 469, loss = 0.96787688\n",
      "Iteration 470, loss = 0.96768919\n",
      "Iteration 471, loss = 0.96432902\n",
      "Iteration 472, loss = 0.96346514\n",
      "Iteration 473, loss = 0.96130756\n",
      "Iteration 474, loss = 0.95955063\n",
      "Iteration 475, loss = 0.95793331\n",
      "Iteration 476, loss = 0.95658172\n",
      "Iteration 477, loss = 0.95499947\n",
      "Iteration 478, loss = 0.95306022\n",
      "Iteration 479, loss = 0.95197428\n",
      "Iteration 480, loss = 0.95013084\n",
      "Iteration 481, loss = 0.94908695\n",
      "Iteration 482, loss = 0.94694729\n",
      "Iteration 483, loss = 0.94555788\n",
      "Iteration 484, loss = 0.94442401\n",
      "Iteration 485, loss = 0.94231289\n",
      "Iteration 486, loss = 0.94108641\n",
      "Iteration 487, loss = 0.93915839\n",
      "Iteration 488, loss = 0.93937006\n",
      "Iteration 489, loss = 0.93719505\n",
      "Iteration 490, loss = 0.93511166\n",
      "Iteration 491, loss = 0.93448115\n",
      "Iteration 492, loss = 0.93237016\n",
      "Iteration 493, loss = 0.93059135\n",
      "Iteration 494, loss = 0.93021899\n",
      "Iteration 495, loss = 0.92859642\n",
      "Iteration 496, loss = 0.92734911\n",
      "Iteration 497, loss = 0.92602327\n",
      "Iteration 498, loss = 0.92476896\n",
      "Iteration 499, loss = 0.92391306\n",
      "Iteration 500, loss = 0.92269147\n"
     ]
    },
    {
     "name": "stderr",
     "output_type": "stream",
     "text": [
      "c:\\Users\\nicol\\AppData\\Local\\Programs\\Python\\Python310\\lib\\site-packages\\sklearn\\neural_network\\_multilayer_perceptron.py:692: ConvergenceWarning: Stochastic Optimizer: Maximum iterations (500) reached and the optimization hasn't converged yet.\n",
      "  warnings.warn(\n"
     ]
    },
    {
     "data": {
      "text/plain": [
       "0.636"
      ]
     },
     "execution_count": 176,
     "metadata": {},
     "output_type": "execute_result"
    }
   ],
   "source": [
    "# Lets do another model using MLP\n",
    "model = MLPClassifier(hidden_layer_sizes=(100, 100, 100), max_iter=500, alpha=0.0001, solver='sgd', verbose=10,  random_state=21, tol=0.000000001)\n",
    "\n",
    "# fit the model\n",
    "model.fit(train_vectors_2, train['topic'])\n",
    "\n",
    "# predict the test data\n",
    "pred = model.predict(test_vector_2)\n",
    "\n",
    "# calculate the accuracy\n",
    "accuracy_score(test['topic'], pred)"
   ]
  },
  {
   "cell_type": "code",
   "execution_count": 177,
   "metadata": {},
   "outputs": [
    {
     "data": {
      "text/plain": [
       "(0.6715, 0.636)"
      ]
     },
     "execution_count": 177,
     "metadata": {},
     "output_type": "execute_result"
    }
   ],
   "source": [
    "# train accuracy vs. test accuracy\n",
    "model.score(train_vectors_2, train['topic']), model.score(test_vector_2, test['topic'])"
   ]
  },
  {
   "cell_type": "markdown",
   "metadata": {},
   "source": [
    "### Part 2.2) Using Word2Vec Word Vectors"
   ]
  },
  {
   "cell_type": "code",
   "execution_count": 185,
   "metadata": {},
   "outputs": [
    {
     "name": "stderr",
     "output_type": "stream",
     "text": [
      "C:\\Users\\nicol\\AppData\\Local\\Temp\\ipykernel_36032\\3007884176.py:6: DeprecationWarning: Call to deprecated `init_sims` (Use fill_norms() instead. See https://github.com/RaRe-Technologies/gensim/wiki/Migrating-from-Gensim-3.x-to-4).\n",
      "  wv.init_sims(replace=True)\n"
     ]
    }
   ],
   "source": [
    "# Lets recreate our input feature using Word2Vec\n",
    "from gensim.models import Word2Vec\n",
    "\n",
    "# load pre-trained word2vec model\n",
    "wv = KeyedVectors.load_word2vec_format('../Data/GoogleNews-vectors-negative300.bin', binary=True)\n",
    "wv.init_sims(replace=True)"
   ]
  },
  {
   "cell_type": "code",
   "execution_count": 187,
   "metadata": {},
   "outputs": [],
   "source": [
    "# create a function to get the average word2vec\n",
    "def get_average_word2vec(tokens_list, vector, generate_missing=False, k=300):\n",
    "    if len(tokens_list)<1:\n",
    "        return np.zeros(k)\n",
    "    if generate_missing:\n",
    "        vectorized = [vector[word] if word in vector else np.random.rand(k) for word in tokens_list]\n",
    "    else:\n",
    "        vectorized = [vector[word] if word in vector else np.zeros(k) for word in tokens_list]\n",
    "    length = len(vectorized)\n",
    "    summed = np.sum(vectorized, axis=0)\n",
    "    averaged = np.divide(summed, length)\n",
    "    return averaged\n",
    "\n",
    "# create a function to get the word2vec for each question\n",
    "def get_word2vec_embeddings(vectors, data, generate_missing=False):\n",
    "    embeddings = data['question'].apply(lambda x: get_average_word2vec(x, vectors, \n",
    "                                                                       generate_missing=generate_missing))\n",
    "    return list(embeddings)\n",
    "\n"
   ]
  },
  {
   "cell_type": "code",
   "execution_count": 188,
   "metadata": {},
   "outputs": [],
   "source": [
    "# get the word2vec embeddings for the training data\n",
    "train_word2vec = get_word2vec_embeddings(wv, train_X)\n",
    "\n",
    "# get the word2vec embeddings for the test data\n",
    "test_word2vec = get_word2vec_embeddings(wv, test)"
   ]
  },
  {
   "cell_type": "code",
   "execution_count": 189,
   "metadata": {},
   "outputs": [
    {
     "data": {
      "text/plain": [
       "0.473"
      ]
     },
     "execution_count": 189,
     "metadata": {},
     "output_type": "execute_result"
    }
   ],
   "source": [
    "# Train SVC model\n",
    "model = SVC(kernel='linear', C=1, gamma='auto', probability=True)\n",
    "\n",
    "# fit the model\n",
    "model.fit(train_word2vec, train['topic'])\n",
    "\n",
    "# predict the test data\n",
    "pred = model.predict(test_word2vec)\n",
    "\n",
    "# calculate the accuracy\n",
    "accuracy_score(test['topic'], pred)"
   ]
  },
  {
   "cell_type": "code",
   "execution_count": 190,
   "metadata": {},
   "outputs": [
    {
     "data": {
      "text/plain": [
       "(0.489, 0.473)"
      ]
     },
     "execution_count": 190,
     "metadata": {},
     "output_type": "execute_result"
    }
   ],
   "source": [
    "# train score vs. test score\n",
    "model.score(train_word2vec, train['topic']), model.score(test_word2vec, test['topic'])"
   ]
  },
  {
   "cell_type": "code",
   "execution_count": null,
   "metadata": {},
   "outputs": [],
   "source": [
    "# Lets use the model to predict the topic of a question\n",
    "questions = [\n",
    "    \"I'm really interested in your special deals. Do you have any offers?\",\n",
    "    \"I'm looking for a new car. What are your best deals?\",\n",
    "    \"What kind of payment methods do you accept?\",\n",
    "    \"I was wondering if you could ship to my country?\"\n",
    "]\n",
    "\n",
    "# preprocess the question\n",
    "questions = [preprocessing(question) for question in questions]\n",
    "\n",
    "# get the word2vec embeddings for the questions\n",
    "questions_word2vec = get_word2vec_embeddings(wv, pd.DataFrame({'question': questions}))\n",
    "\n",
    "# for each question, predict the topic and print the result\n",
    "for question, topic in zip(questions, model.predict(questions_word2vec)):\n",
    "    print('Question: {}'.format(' '.join(question)))\n",
    "    print('Topic: {}'.format(topic) + '\\n')"
   ]
  },
  {
   "cell_type": "code",
   "execution_count": 193,
   "metadata": {},
   "outputs": [
    {
     "name": "stdout",
     "output_type": "stream",
     "text": [
      "Question: realli interest special deal offer\n",
      "Topic: Product Comparison\n",
      "\n",
      "Question: look best deal\n",
      "Topic: Shipping\n",
      "\n",
      "Question: kind payment method accept\n",
      "Topic: Shipping\n",
      "\n",
      "Question: wonder could ship countri\n",
      "Topic: Shipping\n",
      "\n"
     ]
    }
   ],
   "source": [
    "# Lets use the model to predict the topic of a question\n",
    "questions = [\n",
    "    \"I'm really interested in your special deals. Do you have any offers?\",\n",
    "    \"I'm looking for a new car. What are your best deals?\",\n",
    "    \"What kind of payment methods do you accept?\",\n",
    "    \"I was wondering if you could ship to my country?\"\n",
    "]\n",
    "\n",
    "# preprocess the question\n",
    "questions = [preprocessing(question) for question in questions]\n",
    "\n",
    "# get the word2vec embeddings for the questions\n",
    "questions_word2vec = get_word2vec_embeddings(wv, pd.DataFrame({'question': questions}))\n",
    "\n",
    "# for each question, predict the topic and print the result\n",
    "for question, topic in zip(questions, model.predict(questions_word2vec)):\n",
    "    print('Question: {}'.format(' '.join(question)))\n",
    "    print('Topic: {}'.format(topic) + '\\n')"
   ]
  },
  {
   "cell_type": "code",
   "execution_count": 194,
   "metadata": {},
   "outputs": [
    {
     "name": "stdout",
     "output_type": "stream",
     "text": [
      "Iteration 1, loss = 1.95914257\n",
      "Iteration 2, loss = 1.95411485\n",
      "Iteration 3, loss = 1.94912414\n",
      "Iteration 4, loss = 1.94512461\n",
      "Iteration 5, loss = 1.94181083\n",
      "Iteration 6, loss = 1.93891692\n",
      "Iteration 7, loss = 1.93643471\n",
      "Iteration 8, loss = 1.93441969\n",
      "Iteration 9, loss = 1.93255443\n",
      "Iteration 10, loss = 1.93098476\n",
      "Iteration 11, loss = 1.92959066\n",
      "Iteration 12, loss = 1.92839830\n",
      "Iteration 13, loss = 1.92738874\n",
      "Iteration 14, loss = 1.92647979\n",
      "Iteration 15, loss = 1.92573862\n",
      "Iteration 16, loss = 1.92503401\n",
      "Iteration 17, loss = 1.92446304\n",
      "Iteration 18, loss = 1.92398342\n",
      "Iteration 19, loss = 1.92351445\n",
      "Iteration 20, loss = 1.92317142\n",
      "Iteration 21, loss = 1.92277888\n",
      "Iteration 22, loss = 1.92254651\n",
      "Iteration 23, loss = 1.92225749\n",
      "Iteration 24, loss = 1.92205391\n",
      "Iteration 25, loss = 1.92186854\n",
      "Iteration 26, loss = 1.92167379\n",
      "Iteration 27, loss = 1.92155402\n",
      "Iteration 28, loss = 1.92143109\n",
      "Iteration 29, loss = 1.92127000\n",
      "Iteration 30, loss = 1.92118367\n",
      "Iteration 31, loss = 1.92108594\n",
      "Iteration 32, loss = 1.92100338\n",
      "Iteration 33, loss = 1.92094120\n",
      "Iteration 34, loss = 1.92086860\n",
      "Iteration 35, loss = 1.92079994\n",
      "Iteration 36, loss = 1.92076735\n",
      "Iteration 37, loss = 1.92070926\n",
      "Iteration 38, loss = 1.92066642\n",
      "Iteration 39, loss = 1.92063479\n",
      "Iteration 40, loss = 1.92057637\n",
      "Iteration 41, loss = 1.92054096\n",
      "Iteration 42, loss = 1.92052363\n",
      "Iteration 43, loss = 1.92048614\n",
      "Iteration 44, loss = 1.92046197\n",
      "Iteration 45, loss = 1.92042362\n",
      "Iteration 46, loss = 1.92041235\n",
      "Iteration 47, loss = 1.92037798\n",
      "Iteration 48, loss = 1.92035974\n",
      "Iteration 49, loss = 1.92032623\n",
      "Iteration 50, loss = 1.92030897\n",
      "Iteration 51, loss = 1.92029763\n",
      "Iteration 52, loss = 1.92027319\n",
      "Iteration 53, loss = 1.92024596\n",
      "Iteration 54, loss = 1.92023836\n",
      "Iteration 55, loss = 1.92021305\n",
      "Iteration 56, loss = 1.92018673\n",
      "Iteration 57, loss = 1.92019138\n",
      "Iteration 58, loss = 1.92015411\n",
      "Iteration 59, loss = 1.92014753\n",
      "Iteration 60, loss = 1.92012609\n",
      "Iteration 61, loss = 1.92010829\n",
      "Iteration 62, loss = 1.92010438\n",
      "Iteration 63, loss = 1.92008025\n",
      "Iteration 64, loss = 1.92006881\n",
      "Iteration 65, loss = 1.92004327\n",
      "Iteration 66, loss = 1.92003006\n",
      "Iteration 67, loss = 1.92001662\n",
      "Iteration 68, loss = 1.92000143\n",
      "Iteration 69, loss = 1.91997384\n",
      "Iteration 70, loss = 1.91997226\n",
      "Iteration 71, loss = 1.91993895\n",
      "Iteration 72, loss = 1.91995570\n",
      "Iteration 73, loss = 1.91995827\n",
      "Iteration 74, loss = 1.91990529\n",
      "Iteration 75, loss = 1.91988851\n",
      "Iteration 76, loss = 1.91986518\n",
      "Iteration 77, loss = 1.91986991\n",
      "Iteration 78, loss = 1.91986084\n",
      "Iteration 79, loss = 1.91983159\n",
      "Iteration 80, loss = 1.91981555\n",
      "Iteration 81, loss = 1.91980064\n",
      "Iteration 82, loss = 1.91978254\n",
      "Iteration 83, loss = 1.91974470\n",
      "Iteration 84, loss = 1.91973540\n",
      "Iteration 85, loss = 1.91972835\n",
      "Iteration 86, loss = 1.91970934\n",
      "Iteration 87, loss = 1.91970193\n",
      "Iteration 88, loss = 1.91967031\n",
      "Iteration 89, loss = 1.91965432\n",
      "Iteration 90, loss = 1.91965006\n",
      "Iteration 91, loss = 1.91960517\n",
      "Iteration 92, loss = 1.91960946\n",
      "Iteration 93, loss = 1.91959199\n",
      "Iteration 94, loss = 1.91957858\n",
      "Iteration 95, loss = 1.91956555\n",
      "Iteration 96, loss = 1.91953117\n",
      "Iteration 97, loss = 1.91953373\n",
      "Iteration 98, loss = 1.91950195\n",
      "Iteration 99, loss = 1.91948467\n",
      "Iteration 100, loss = 1.91947101\n",
      "Iteration 101, loss = 1.91945078\n",
      "Iteration 102, loss = 1.91943142\n",
      "Iteration 103, loss = 1.91943772\n",
      "Iteration 104, loss = 1.91940562\n",
      "Iteration 105, loss = 1.91936778\n",
      "Iteration 106, loss = 1.91934034\n",
      "Iteration 107, loss = 1.91932491\n",
      "Iteration 108, loss = 1.91928607\n",
      "Iteration 109, loss = 1.91929299\n",
      "Iteration 110, loss = 1.91923784\n",
      "Iteration 111, loss = 1.91923811\n",
      "Iteration 112, loss = 1.91919738\n",
      "Iteration 113, loss = 1.91919999\n",
      "Iteration 114, loss = 1.91918106\n",
      "Iteration 115, loss = 1.91913798\n",
      "Iteration 116, loss = 1.91914799\n",
      "Iteration 117, loss = 1.91913081\n",
      "Iteration 118, loss = 1.91909003\n",
      "Iteration 119, loss = 1.91908534\n",
      "Iteration 120, loss = 1.91906388\n",
      "Iteration 121, loss = 1.91903197\n",
      "Iteration 122, loss = 1.91902753\n",
      "Iteration 123, loss = 1.91899700\n",
      "Iteration 124, loss = 1.91897881\n",
      "Iteration 125, loss = 1.91899096\n",
      "Iteration 126, loss = 1.91895460\n",
      "Iteration 127, loss = 1.91894136\n",
      "Iteration 128, loss = 1.91891522\n",
      "Iteration 129, loss = 1.91888492\n",
      "Iteration 130, loss = 1.91886960\n",
      "Iteration 131, loss = 1.91884739\n",
      "Iteration 132, loss = 1.91882564\n",
      "Iteration 133, loss = 1.91880327\n",
      "Iteration 134, loss = 1.91878418\n",
      "Iteration 135, loss = 1.91876808\n",
      "Iteration 136, loss = 1.91873758\n",
      "Iteration 137, loss = 1.91872876\n",
      "Iteration 138, loss = 1.91870822\n",
      "Iteration 139, loss = 1.91868514\n",
      "Iteration 140, loss = 1.91867812\n",
      "Iteration 141, loss = 1.91865455\n",
      "Iteration 142, loss = 1.91862094\n",
      "Iteration 143, loss = 1.91860120\n",
      "Iteration 144, loss = 1.91858003\n",
      "Iteration 145, loss = 1.91857547\n",
      "Iteration 146, loss = 1.91854562\n",
      "Iteration 147, loss = 1.91853452\n",
      "Iteration 148, loss = 1.91852432\n",
      "Iteration 149, loss = 1.91849325\n",
      "Iteration 150, loss = 1.91846937\n",
      "Iteration 151, loss = 1.91843167\n",
      "Iteration 152, loss = 1.91841315\n",
      "Iteration 153, loss = 1.91840979\n",
      "Iteration 154, loss = 1.91837227\n",
      "Iteration 155, loss = 1.91835349\n",
      "Iteration 156, loss = 1.91833240\n",
      "Iteration 157, loss = 1.91831104\n",
      "Iteration 158, loss = 1.91831463\n",
      "Iteration 159, loss = 1.91825140\n",
      "Iteration 160, loss = 1.91823976\n",
      "Iteration 161, loss = 1.91823545\n",
      "Iteration 162, loss = 1.91820883\n",
      "Iteration 163, loss = 1.91820003\n",
      "Iteration 164, loss = 1.91814777\n",
      "Iteration 165, loss = 1.91813735\n",
      "Iteration 166, loss = 1.91810503\n",
      "Iteration 167, loss = 1.91808860\n",
      "Iteration 168, loss = 1.91806071\n",
      "Iteration 169, loss = 1.91802839\n",
      "Iteration 170, loss = 1.91803761\n",
      "Iteration 171, loss = 1.91798285\n",
      "Iteration 172, loss = 1.91798277\n",
      "Iteration 173, loss = 1.91794236\n",
      "Iteration 174, loss = 1.91792434\n",
      "Iteration 175, loss = 1.91788105\n",
      "Iteration 176, loss = 1.91784637\n",
      "Iteration 177, loss = 1.91782586\n",
      "Iteration 178, loss = 1.91782059\n",
      "Iteration 179, loss = 1.91777340\n",
      "Iteration 180, loss = 1.91777031\n",
      "Iteration 181, loss = 1.91774882\n",
      "Iteration 182, loss = 1.91770915\n",
      "Iteration 183, loss = 1.91769711\n",
      "Iteration 184, loss = 1.91766780\n",
      "Iteration 185, loss = 1.91763443\n",
      "Iteration 186, loss = 1.91761193\n",
      "Iteration 187, loss = 1.91759569\n",
      "Iteration 188, loss = 1.91755365\n",
      "Iteration 189, loss = 1.91752787\n",
      "Iteration 190, loss = 1.91750406\n",
      "Iteration 191, loss = 1.91746538\n",
      "Iteration 192, loss = 1.91744710\n",
      "Iteration 193, loss = 1.91742716\n",
      "Iteration 194, loss = 1.91739771\n",
      "Iteration 195, loss = 1.91738358\n",
      "Iteration 196, loss = 1.91733477\n",
      "Iteration 197, loss = 1.91731666\n",
      "Iteration 198, loss = 1.91729563\n",
      "Iteration 199, loss = 1.91726415\n",
      "Iteration 200, loss = 1.91724483\n",
      "Iteration 201, loss = 1.91720525\n",
      "Iteration 202, loss = 1.91716858\n",
      "Iteration 203, loss = 1.91714667\n",
      "Iteration 204, loss = 1.91714374\n",
      "Iteration 205, loss = 1.91709404\n",
      "Iteration 206, loss = 1.91705131\n",
      "Iteration 207, loss = 1.91703377\n",
      "Iteration 208, loss = 1.91702258\n",
      "Iteration 209, loss = 1.91697599\n",
      "Iteration 210, loss = 1.91693988\n",
      "Iteration 211, loss = 1.91692207\n",
      "Iteration 212, loss = 1.91688695\n",
      "Iteration 213, loss = 1.91685550\n",
      "Iteration 214, loss = 1.91682222\n",
      "Iteration 215, loss = 1.91679788\n",
      "Iteration 216, loss = 1.91676075\n",
      "Iteration 217, loss = 1.91674543\n",
      "Iteration 218, loss = 1.91670023\n",
      "Iteration 219, loss = 1.91668351\n",
      "Iteration 220, loss = 1.91664122\n",
      "Iteration 221, loss = 1.91661280\n",
      "Iteration 222, loss = 1.91656113\n",
      "Iteration 223, loss = 1.91653804\n",
      "Iteration 224, loss = 1.91652695\n",
      "Iteration 225, loss = 1.91646660\n",
      "Iteration 226, loss = 1.91646706\n",
      "Iteration 227, loss = 1.91640573\n",
      "Iteration 228, loss = 1.91636360\n",
      "Iteration 229, loss = 1.91633801\n",
      "Iteration 230, loss = 1.91629844\n",
      "Iteration 231, loss = 1.91626983\n",
      "Iteration 232, loss = 1.91622524\n",
      "Iteration 233, loss = 1.91620471\n",
      "Iteration 234, loss = 1.91617222\n",
      "Iteration 235, loss = 1.91612792\n",
      "Iteration 236, loss = 1.91610034\n",
      "Iteration 237, loss = 1.91604533\n",
      "Iteration 238, loss = 1.91603690\n",
      "Iteration 239, loss = 1.91599021\n",
      "Iteration 240, loss = 1.91597095\n",
      "Iteration 241, loss = 1.91593628\n",
      "Iteration 242, loss = 1.91587515\n",
      "Iteration 243, loss = 1.91582944\n",
      "Iteration 244, loss = 1.91580612\n",
      "Iteration 245, loss = 1.91576102\n",
      "Iteration 246, loss = 1.91571823\n",
      "Iteration 247, loss = 1.91568003\n",
      "Iteration 248, loss = 1.91565694\n",
      "Iteration 249, loss = 1.91561298\n",
      "Iteration 250, loss = 1.91556419\n",
      "Iteration 251, loss = 1.91553223\n",
      "Iteration 252, loss = 1.91548938\n",
      "Iteration 253, loss = 1.91544287\n",
      "Iteration 254, loss = 1.91540385\n",
      "Iteration 255, loss = 1.91536763\n",
      "Iteration 256, loss = 1.91531732\n",
      "Iteration 257, loss = 1.91529103\n",
      "Iteration 258, loss = 1.91524564\n",
      "Iteration 259, loss = 1.91519169\n",
      "Iteration 260, loss = 1.91518354\n",
      "Iteration 261, loss = 1.91511198\n",
      "Iteration 262, loss = 1.91509982\n",
      "Iteration 263, loss = 1.91502460\n",
      "Iteration 264, loss = 1.91499615\n",
      "Iteration 265, loss = 1.91494010\n",
      "Iteration 266, loss = 1.91488071\n",
      "Iteration 267, loss = 1.91485867\n",
      "Iteration 268, loss = 1.91479193\n",
      "Iteration 269, loss = 1.91473913\n",
      "Iteration 270, loss = 1.91469165\n",
      "Iteration 271, loss = 1.91465914\n",
      "Iteration 272, loss = 1.91460623\n",
      "Iteration 273, loss = 1.91457823\n",
      "Iteration 274, loss = 1.91450121\n",
      "Iteration 275, loss = 1.91446935\n",
      "Iteration 276, loss = 1.91440893\n",
      "Iteration 277, loss = 1.91437169\n",
      "Iteration 278, loss = 1.91431570\n",
      "Iteration 279, loss = 1.91426617\n",
      "Iteration 280, loss = 1.91423261\n",
      "Iteration 281, loss = 1.91418820\n",
      "Iteration 282, loss = 1.91410963\n",
      "Iteration 283, loss = 1.91406003\n",
      "Iteration 284, loss = 1.91402952\n",
      "Iteration 285, loss = 1.91396468\n",
      "Iteration 286, loss = 1.91389496\n",
      "Iteration 287, loss = 1.91384490\n",
      "Iteration 288, loss = 1.91378029\n",
      "Iteration 289, loss = 1.91372676\n",
      "Iteration 290, loss = 1.91367820\n",
      "Iteration 291, loss = 1.91359811\n",
      "Iteration 292, loss = 1.91356919\n",
      "Iteration 293, loss = 1.91348021\n",
      "Iteration 294, loss = 1.91341284\n",
      "Iteration 295, loss = 1.91334668\n",
      "Iteration 296, loss = 1.91331274\n",
      "Iteration 297, loss = 1.91323795\n",
      "Iteration 298, loss = 1.91316886\n",
      "Iteration 299, loss = 1.91311340\n",
      "Iteration 300, loss = 1.91303393\n",
      "Iteration 301, loss = 1.91299172\n",
      "Iteration 302, loss = 1.91293751\n",
      "Iteration 303, loss = 1.91286107\n",
      "Iteration 304, loss = 1.91279661\n",
      "Iteration 305, loss = 1.91272031\n",
      "Iteration 306, loss = 1.91265549\n",
      "Iteration 307, loss = 1.91260013\n",
      "Iteration 308, loss = 1.91252061\n",
      "Iteration 309, loss = 1.91245603\n",
      "Iteration 310, loss = 1.91238181\n",
      "Iteration 311, loss = 1.91231812\n",
      "Iteration 312, loss = 1.91225196\n",
      "Iteration 313, loss = 1.91216719\n",
      "Iteration 314, loss = 1.91211891\n",
      "Iteration 315, loss = 1.91204564\n",
      "Iteration 316, loss = 1.91195888\n",
      "Iteration 317, loss = 1.91188809\n",
      "Iteration 318, loss = 1.91183575\n",
      "Iteration 319, loss = 1.91175632\n",
      "Iteration 320, loss = 1.91166822\n",
      "Iteration 321, loss = 1.91157642\n",
      "Iteration 322, loss = 1.91150169\n",
      "Iteration 323, loss = 1.91142248\n",
      "Iteration 324, loss = 1.91135020\n",
      "Iteration 325, loss = 1.91128672\n",
      "Iteration 326, loss = 1.91118531\n",
      "Iteration 327, loss = 1.91109627\n",
      "Iteration 328, loss = 1.91102406\n",
      "Iteration 329, loss = 1.91093818\n",
      "Iteration 330, loss = 1.91083743\n",
      "Iteration 331, loss = 1.91076774\n",
      "Iteration 332, loss = 1.91067542\n",
      "Iteration 333, loss = 1.91059710\n",
      "Iteration 334, loss = 1.91050139\n",
      "Iteration 335, loss = 1.91042220\n",
      "Iteration 336, loss = 1.91032304\n",
      "Iteration 337, loss = 1.91024558\n",
      "Iteration 338, loss = 1.91014794\n",
      "Iteration 339, loss = 1.91007009\n",
      "Iteration 340, loss = 1.90994372\n",
      "Iteration 341, loss = 1.90987271\n",
      "Iteration 342, loss = 1.90978068\n",
      "Iteration 343, loss = 1.90967692\n",
      "Iteration 344, loss = 1.90956905\n",
      "Iteration 345, loss = 1.90948564\n",
      "Iteration 346, loss = 1.90936456\n",
      "Iteration 347, loss = 1.90930397\n",
      "Iteration 348, loss = 1.90916702\n",
      "Iteration 349, loss = 1.90906159\n",
      "Iteration 350, loss = 1.90894098\n",
      "Iteration 351, loss = 1.90883751\n",
      "Iteration 352, loss = 1.90874802\n",
      "Iteration 353, loss = 1.90863548\n",
      "Iteration 354, loss = 1.90849521\n",
      "Iteration 355, loss = 1.90839876\n",
      "Iteration 356, loss = 1.90829350\n",
      "Iteration 357, loss = 1.90815285\n",
      "Iteration 358, loss = 1.90804463\n",
      "Iteration 359, loss = 1.90792260\n",
      "Iteration 360, loss = 1.90780321\n",
      "Iteration 361, loss = 1.90768160\n",
      "Iteration 362, loss = 1.90755794\n",
      "Iteration 363, loss = 1.90744043\n",
      "Iteration 364, loss = 1.90731502\n",
      "Iteration 365, loss = 1.90717071\n",
      "Iteration 366, loss = 1.90707262\n",
      "Iteration 367, loss = 1.90692904\n",
      "Iteration 368, loss = 1.90678778\n",
      "Iteration 369, loss = 1.90667353\n",
      "Iteration 370, loss = 1.90652945\n",
      "Iteration 371, loss = 1.90637956\n",
      "Iteration 372, loss = 1.90624503\n",
      "Iteration 373, loss = 1.90613779\n",
      "Iteration 374, loss = 1.90597061\n",
      "Iteration 375, loss = 1.90583022\n",
      "Iteration 376, loss = 1.90565377\n",
      "Iteration 377, loss = 1.90553694\n",
      "Iteration 378, loss = 1.90537462\n",
      "Iteration 379, loss = 1.90520481\n",
      "Iteration 380, loss = 1.90504488\n",
      "Iteration 381, loss = 1.90489846\n",
      "Iteration 382, loss = 1.90473470\n",
      "Iteration 383, loss = 1.90457204\n",
      "Iteration 384, loss = 1.90439615\n",
      "Iteration 385, loss = 1.90425024\n",
      "Iteration 386, loss = 1.90406610\n",
      "Iteration 387, loss = 1.90392611\n",
      "Iteration 388, loss = 1.90372232\n",
      "Iteration 389, loss = 1.90355348\n",
      "Iteration 390, loss = 1.90338236\n",
      "Iteration 391, loss = 1.90320040\n",
      "Iteration 392, loss = 1.90302865\n",
      "Iteration 393, loss = 1.90279758\n",
      "Iteration 394, loss = 1.90263558\n",
      "Iteration 395, loss = 1.90242650\n",
      "Iteration 396, loss = 1.90227567\n",
      "Iteration 397, loss = 1.90209190\n",
      "Iteration 398, loss = 1.90181559\n",
      "Iteration 399, loss = 1.90163699\n",
      "Iteration 400, loss = 1.90142982\n",
      "Iteration 401, loss = 1.90122390\n",
      "Iteration 402, loss = 1.90099418\n",
      "Iteration 403, loss = 1.90077785\n",
      "Iteration 404, loss = 1.90059819\n",
      "Iteration 405, loss = 1.90033062\n",
      "Iteration 406, loss = 1.90010334\n",
      "Iteration 407, loss = 1.89987300\n",
      "Iteration 408, loss = 1.89964493\n",
      "Iteration 409, loss = 1.89942727\n",
      "Iteration 410, loss = 1.89913576\n",
      "Iteration 411, loss = 1.89890862\n",
      "Iteration 412, loss = 1.89866448\n",
      "Iteration 413, loss = 1.89841645\n",
      "Iteration 414, loss = 1.89815239\n",
      "Iteration 415, loss = 1.89790002\n",
      "Iteration 416, loss = 1.89761851\n",
      "Iteration 417, loss = 1.89735195\n",
      "Iteration 418, loss = 1.89705340\n",
      "Iteration 419, loss = 1.89680018\n",
      "Iteration 420, loss = 1.89650514\n",
      "Iteration 421, loss = 1.89620613\n",
      "Iteration 422, loss = 1.89589557\n",
      "Iteration 423, loss = 1.89564096\n",
      "Iteration 424, loss = 1.89530829\n",
      "Iteration 425, loss = 1.89501208\n",
      "Iteration 426, loss = 1.89471833\n",
      "Iteration 427, loss = 1.89436803\n",
      "Iteration 428, loss = 1.89402230\n",
      "Iteration 429, loss = 1.89373120\n",
      "Iteration 430, loss = 1.89334294\n",
      "Iteration 431, loss = 1.89300240\n",
      "Iteration 432, loss = 1.89270257\n",
      "Iteration 433, loss = 1.89234352\n",
      "Iteration 434, loss = 1.89196698\n",
      "Iteration 435, loss = 1.89156251\n",
      "Iteration 436, loss = 1.89120165\n",
      "Iteration 437, loss = 1.89086947\n",
      "Iteration 438, loss = 1.89045293\n",
      "Iteration 439, loss = 1.89003969\n",
      "Iteration 440, loss = 1.88963297\n",
      "Iteration 441, loss = 1.88925805\n",
      "Iteration 442, loss = 1.88879791\n",
      "Iteration 443, loss = 1.88832882\n",
      "Iteration 444, loss = 1.88789091\n",
      "Iteration 445, loss = 1.88740735\n",
      "Iteration 446, loss = 1.88689822\n",
      "Iteration 447, loss = 1.88640827\n",
      "Iteration 448, loss = 1.88587835\n",
      "Iteration 449, loss = 1.88543599\n",
      "Iteration 450, loss = 1.88488984\n",
      "Iteration 451, loss = 1.88439324\n",
      "Iteration 452, loss = 1.88388011\n",
      "Iteration 453, loss = 1.88333871\n",
      "Iteration 454, loss = 1.88283351\n",
      "Iteration 455, loss = 1.88225651\n",
      "Iteration 456, loss = 1.88173932\n",
      "Iteration 457, loss = 1.88117134\n",
      "Iteration 458, loss = 1.88061643\n",
      "Iteration 459, loss = 1.87999866\n",
      "Iteration 460, loss = 1.87941459\n",
      "Iteration 461, loss = 1.87877554\n",
      "Iteration 462, loss = 1.87826523\n",
      "Iteration 463, loss = 1.87752869\n",
      "Iteration 464, loss = 1.87689859\n",
      "Iteration 465, loss = 1.87623707\n",
      "Iteration 466, loss = 1.87564601\n",
      "Iteration 467, loss = 1.87484010\n",
      "Iteration 468, loss = 1.87419491\n",
      "Iteration 469, loss = 1.87345883\n",
      "Iteration 470, loss = 1.87270428\n",
      "Iteration 471, loss = 1.87200898\n",
      "Iteration 472, loss = 1.87119444\n",
      "Iteration 473, loss = 1.87049330\n",
      "Iteration 474, loss = 1.86968252\n",
      "Iteration 475, loss = 1.86879860\n",
      "Iteration 476, loss = 1.86798745\n",
      "Iteration 477, loss = 1.86713993\n",
      "Iteration 478, loss = 1.86630648\n",
      "Iteration 479, loss = 1.86542440\n",
      "Iteration 480, loss = 1.86450519\n",
      "Iteration 481, loss = 1.86356727\n",
      "Iteration 482, loss = 1.86262747\n",
      "Iteration 483, loss = 1.86167060\n",
      "Iteration 484, loss = 1.86078839\n",
      "Iteration 485, loss = 1.85964501\n",
      "Iteration 486, loss = 1.85869883\n",
      "Iteration 487, loss = 1.85751684\n",
      "Iteration 488, loss = 1.85636947\n",
      "Iteration 489, loss = 1.85526214\n",
      "Iteration 490, loss = 1.85415398\n",
      "Iteration 491, loss = 1.85300158\n",
      "Iteration 492, loss = 1.85183955\n",
      "Iteration 493, loss = 1.85065421\n",
      "Iteration 494, loss = 1.84939348\n",
      "Iteration 495, loss = 1.84819282\n",
      "Iteration 496, loss = 1.84687582\n",
      "Iteration 497, loss = 1.84560174\n",
      "Iteration 498, loss = 1.84423145\n",
      "Iteration 499, loss = 1.84286643\n",
      "Iteration 500, loss = 1.84147783\n"
     ]
    },
    {
     "name": "stderr",
     "output_type": "stream",
     "text": [
      "c:\\Users\\nicol\\AppData\\Local\\Programs\\Python\\Python310\\lib\\site-packages\\sklearn\\neural_network\\_multilayer_perceptron.py:692: ConvergenceWarning: Stochastic Optimizer: Maximum iterations (500) reached and the optimization hasn't converged yet.\n",
      "  warnings.warn(\n"
     ]
    },
    {
     "data": {
      "text/plain": [
       "0.306"
      ]
     },
     "execution_count": 194,
     "metadata": {},
     "output_type": "execute_result"
    }
   ],
   "source": [
    "# MLP model\n",
    "model = MLPClassifier(hidden_layer_sizes=(100, 100, 100), max_iter=500, alpha=0.0001, solver='sgd', verbose=10,  random_state=21, tol=0.000000001)\n",
    "\n",
    "# fit the model\n",
    "model.fit(train_word2vec, train['topic'])\n",
    "\n",
    "# predict the test data\n",
    "pred = model.predict(test_word2vec)\n",
    "\n",
    "# calculate the accuracy\n",
    "accuracy_score(test['topic'], pred)"
   ]
  },
  {
   "cell_type": "code",
   "execution_count": 195,
   "metadata": {},
   "outputs": [
    {
     "data": {
      "text/plain": [
       "(0.33575, 0.306)"
      ]
     },
     "execution_count": 195,
     "metadata": {},
     "output_type": "execute_result"
    }
   ],
   "source": [
    "# train accuracy vs. test accuracy\n",
    "model.score(train_word2vec, train['topic']), model.score(test_word2vec, test['topic'])"
   ]
  },
  {
   "cell_type": "code",
   "execution_count": 196,
   "metadata": {},
   "outputs": [
    {
     "name": "stdout",
     "output_type": "stream",
     "text": [
      "Question: realli interest special deal offer\n",
      "Topic: Product Comparison\n",
      "\n",
      "Question: look best deal\n",
      "Topic: Product Comparison\n",
      "\n",
      "Question: kind payment method accept\n",
      "Topic: Product Comparison\n",
      "\n",
      "Question: wonder could ship countri\n",
      "Topic: Product Comparison\n",
      "\n"
     ]
    }
   ],
   "source": [
    "questions = [\n",
    "    \"I'm really interested in your special deals. Do you have any offers?\",\n",
    "    \"I'm looking for a new car. What are your best deals?\",\n",
    "    \"What kind of payment methods do you accept?\",\n",
    "    \"I was wondering if you could ship to my country?\"\n",
    "]\n",
    "\n",
    "# preprocess the question\n",
    "questions = [preprocessing(question) for question in questions]\n",
    "\n",
    "# get the word2vec embeddings for the questions\n",
    "questions_word2vec = get_word2vec_embeddings(wv, pd.DataFrame({'question': questions}))\n",
    "\n",
    "# for each question, predict the topic and print the result\n",
    "for question, topic in zip(questions, model.predict(questions_word2vec)):\n",
    "    print('Question: {}'.format(' '.join(question)))\n",
    "    print('Topic: {}'.format(topic) + '\\n')"
   ]
  },
  {
   "cell_type": "markdown",
   "metadata": {},
   "source": [
    "### Part 2.3) Using Doc2Vec"
   ]
  },
  {
   "cell_type": "code",
   "execution_count": null,
   "metadata": {},
   "outputs": [],
   "source": [
    "# Lets recreate the input feature using Doc2Vec\n",
    "from gensim.models.doc2vec import Doc2Vec, TaggedDocument"
   ]
  },
  {
   "cell_type": "code",
   "execution_count": 197,
   "metadata": {},
   "outputs": [
    {
     "data": {
      "text/plain": [
       "{'Shipping': 0,\n",
       " 'Sales/Promotions': 1,\n",
       " 'Omnichannel': 2,\n",
       " 'Returns & Refunds': 3,\n",
       " 'Product Comparison': 4,\n",
       " 'Product Specifications': 5,\n",
       " 'Product Availability': 6}"
      ]
     },
     "execution_count": 197,
     "metadata": {},
     "output_type": "execute_result"
    }
   ],
   "source": [
    "tags_index = {tag: i for i, tag in enumerate(train['topic'].unique())}\n",
    "\n",
    "tags_index"
   ]
  },
  {
   "cell_type": "code",
   "execution_count": 199,
   "metadata": {},
   "outputs": [],
   "source": [
    "# create a function to get the doc2vec embeddings\n",
    "def get_doc2vec_embeddings(vectors, data):\n",
    "    embeddings = [vectors.infer_vector(question) for question in data['question']]\n",
    "    return embeddings"
   ]
  },
  {
   "cell_type": "code",
   "execution_count": 200,
   "metadata": {},
   "outputs": [],
   "source": [
    "# Tag the questions\n",
    "train_tagged = train.apply(\n",
    "    lambda r: TaggedDocument(words=r['question'], tags=[tags_index[r['topic']]]), axis=1)\n",
    "test_tagged = test.apply(\n",
    "    lambda r: TaggedDocument(words=r['question'], tags=[tags_index[r['topic']]]), axis=1)"
   ]
  },
  {
   "cell_type": "code",
   "execution_count": 202,
   "metadata": {},
   "outputs": [],
   "source": [
    "# tqdm\n",
    "from tqdm import tqdm"
   ]
  },
  {
   "cell_type": "code",
   "execution_count": 203,
   "metadata": {},
   "outputs": [
    {
     "name": "stderr",
     "output_type": "stream",
     "text": [
      "100%|██████████| 4000/4000 [00:00<00:00, 3996478.32it/s]\n"
     ]
    }
   ],
   "source": [
    "# train the doc2vec model\n",
    "d2v_model = Doc2Vec(dm=1, vector_size=300, negative=5, min_count=1, alpha=0.065, min_alpha=0.065)\n",
    "d2v_model.build_vocab([x for x in tqdm(train_tagged.values)])"
   ]
  },
  {
   "cell_type": "code",
   "execution_count": 205,
   "metadata": {},
   "outputs": [],
   "source": [
    "# utils\n",
    "from sklearn import utils"
   ]
  },
  {
   "cell_type": "code",
   "execution_count": 206,
   "metadata": {},
   "outputs": [
    {
     "name": "stderr",
     "output_type": "stream",
     "text": [
      "100%|██████████| 4000/4000 [00:00<00:00, 4002198.47it/s]\n",
      "100%|██████████| 4000/4000 [00:00<?, ?it/s]\n",
      "100%|██████████| 4000/4000 [00:00<00:00, 3997430.55it/s]\n",
      "100%|██████████| 4000/4000 [00:00<?, ?it/s]\n",
      "100%|██████████| 4000/4000 [00:00<00:00, 4002198.47it/s]\n",
      "100%|██████████| 4000/4000 [00:00<00:00, 4003153.42it/s]\n",
      "100%|██████████| 4000/4000 [00:00<00:00, 4001243.98it/s]\n",
      "100%|██████████| 4000/4000 [00:00<00:00, 3997430.55it/s]\n",
      "100%|██████████| 4000/4000 [00:00<00:00, 4000289.94it/s]\n",
      "100%|██████████| 4000/4000 [00:00<00:00, 3996478.32it/s]\n",
      "100%|██████████| 4000/4000 [00:00<00:00, 4000289.94it/s]\n",
      "100%|██████████| 4000/4000 [00:00<00:00, 3998383.22it/s]\n",
      "100%|██████████| 4000/4000 [00:00<00:00, 3999336.35it/s]\n",
      "100%|██████████| 4000/4000 [00:00<00:00, 3998383.22it/s]\n",
      "100%|██████████| 4000/4000 [00:00<00:00, 3998383.22it/s]\n",
      "100%|██████████| 4000/4000 [00:00<00:00, 4000289.94it/s]\n",
      "100%|██████████| 4000/4000 [00:00<?, ?it/s]\n",
      "100%|██████████| 4000/4000 [00:00<00:00, 3996478.32it/s]\n",
      "100%|██████████| 4000/4000 [00:00<00:00, 3999336.35it/s]\n",
      "100%|██████████| 4000/4000 [00:00<00:00, 4001243.98it/s]\n",
      "100%|██████████| 4000/4000 [00:00<00:00, 4001243.98it/s]\n",
      "100%|██████████| 4000/4000 [00:00<00:00, 3998383.22it/s]\n",
      "100%|██████████| 4000/4000 [00:00<00:00, 3999336.35it/s]\n",
      "100%|██████████| 4000/4000 [00:00<00:00, 4000289.94it/s]\n",
      "100%|██████████| 4000/4000 [00:00<00:00, 3998383.22it/s]\n",
      "100%|██████████| 4000/4000 [00:00<?, ?it/s]\n",
      "100%|██████████| 4000/4000 [00:00<00:00, 4001243.98it/s]\n",
      "100%|██████████| 4000/4000 [00:00<00:00, 3999336.35it/s]\n",
      "100%|██████████| 4000/4000 [00:00<00:00, 3999336.35it/s]\n",
      "100%|██████████| 4000/4000 [00:00<?, ?it/s]\n"
     ]
    }
   ],
   "source": [
    "# train the model\n",
    "for epoch in range(30):\n",
    "    d2v_model.train(utils.shuffle([x for x in tqdm(train_tagged.values)]), total_examples=len(train_tagged.values), epochs=1)\n",
    "    d2v_model.alpha -= 0.002\n",
    "    d2v_model.min_alpha = d2v_model.alpha\n"
   ]
  },
  {
   "cell_type": "code",
   "execution_count": 214,
   "metadata": {},
   "outputs": [],
   "source": [
    "# get the doc2vec embeddings for the training data\n",
    "# train_doc2vec = get_doc2vec_embeddings(d2v_model, train_X)\n",
    "\n",
    "# the above code gets the following error: TypeError: Parameter doc_words of infer_vector() must be a list of strings (not a single string).\n",
    "# To fix this, we need to convert the question to a list of strings\n",
    "train_X2 = train_X.copy()\n",
    "train_X2['question'] = train_X2['question'].apply(lambda x: x.split())\n",
    "\n",
    "# get the doc2vec embeddings for the training data\n",
    "train_doc2vec = get_doc2vec_embeddings(d2v_model, train_X2)"
   ]
  },
  {
   "cell_type": "code",
   "execution_count": 216,
   "metadata": {},
   "outputs": [],
   "source": [
    "test_X2 = test.copy()\n",
    "test_X2['question'] = test_X2['question'].apply(lambda x: x.split())\n",
    "\n",
    "# get the doc2vec embeddings for the test data\n",
    "test_doc2vec = get_doc2vec_embeddings(d2v_model, test_X2)"
   ]
  },
  {
   "cell_type": "code",
   "execution_count": 219,
   "metadata": {},
   "outputs": [
    {
     "data": {
      "text/plain": [
       "0.161"
      ]
     },
     "execution_count": 219,
     "metadata": {},
     "output_type": "execute_result"
    }
   ],
   "source": [
    "# SVC model\n",
    "model = SVC(kernel='linear', C=1, random_state=0)\n",
    "\n",
    "# fit model lets using test_X2 and train_doc2vec\n",
    "model.fit(train_doc2vec, train['topic'])\n",
    "\n",
    "# predict the test data\n",
    "pred = model.predict(test_doc2vec)\n",
    "\n",
    "# calculate the accuracy\n",
    "accuracy_score(test['topic'], pred)"
   ]
  },
  {
   "cell_type": "code",
   "execution_count": 220,
   "metadata": {},
   "outputs": [
    {
     "data": {
      "text/plain": [
       "(0.1695, 0.161)"
      ]
     },
     "execution_count": 220,
     "metadata": {},
     "output_type": "execute_result"
    }
   ],
   "source": [
    "# train accuracy vs. test accuracy\n",
    "model.score(train_doc2vec, train['topic']), model.score(test_doc2vec, test['topic'])"
   ]
  },
  {
   "cell_type": "code",
   "execution_count": 221,
   "metadata": {},
   "outputs": [
    {
     "name": "stdout",
     "output_type": "stream",
     "text": [
      "Question: realli interest special deal offer\n",
      "Topic: Product Specifications\n",
      "\n",
      "Question: look best deal\n",
      "Topic: Product Specifications\n",
      "\n",
      "Question: kind payment method accept\n",
      "Topic: Product Specifications\n",
      "\n",
      "Question: wonder could ship countri\n",
      "Topic: Product Specifications\n",
      "\n"
     ]
    }
   ],
   "source": [
    "# Lets use the model to predict the topic of a question\n",
    "questions = [\n",
    "    \"I'm really interested in your special deals. Do you have any offers?\",\n",
    "    \"I'm looking for a new car. What are your best deals?\",\n",
    "    \"What kind of payment methods do you accept?\",\n",
    "    \"I was wondering if you could ship to my country?\"\n",
    "]\n",
    "\n",
    "# preprocess the question\n",
    "questions = [preprocessing(question) for question in questions]\n",
    "\n",
    "# get the doc2vec embeddings for the questions\n",
    "questions_doc2vec = get_doc2vec_embeddings(d2v_model, pd.DataFrame({'question': questions}))\n",
    "\n",
    "# for each question, predict the topic and print the result\n",
    "for question, topic in zip(questions, model.predict(questions_doc2vec)):\n",
    "    print('Question: {}'.format(' '.join(question)))\n",
    "    print('Topic: {}'.format(topic) + '\\n')"
   ]
  },
  {
   "cell_type": "code",
   "execution_count": 222,
   "metadata": {},
   "outputs": [
    {
     "data": {
      "text/plain": [
       "0.27"
      ]
     },
     "execution_count": 222,
     "metadata": {},
     "output_type": "execute_result"
    }
   ],
   "source": [
    "# Random Forest model\n",
    "model = RandomForestClassifier(n_estimators=100, max_depth=2, random_state=0)\n",
    "\n",
    "# fit the model\n",
    "model.fit(train_doc2vec, train['topic'])\n",
    "\n",
    "# predict the test data\n",
    "pred = model.predict(test_doc2vec)\n",
    "\n",
    "# calculate the accuracy\n",
    "accuracy_score(test['topic'], pred)"
   ]
  },
  {
   "cell_type": "code",
   "execution_count": 223,
   "metadata": {},
   "outputs": [
    {
     "data": {
      "text/plain": [
       "(0.29125, 0.27)"
      ]
     },
     "execution_count": 223,
     "metadata": {},
     "output_type": "execute_result"
    }
   ],
   "source": [
    "# train accuracy vs. test accuracy\n",
    "model.score(train_doc2vec, train['topic']), model.score(test_doc2vec, test['topic'])"
   ]
  },
  {
   "cell_type": "code",
   "execution_count": 225,
   "metadata": {},
   "outputs": [
    {
     "name": "stdout",
     "output_type": "stream",
     "text": [
      "Question: realli interest special deal offer\n",
      "Topic: Product Specifications\n",
      "\n",
      "Question: look best deal\n",
      "Topic: Product Specifications\n",
      "\n",
      "Question: kind payment method accept\n",
      "Topic: Product Specifications\n",
      "\n",
      "Question: wonder could ship countri\n",
      "Topic: Product Specifications\n",
      "\n"
     ]
    }
   ],
   "source": [
    "# Lets use the model to predict the topic of a question\n",
    "questions = [\n",
    "    \"I'm really interested in your special deals. Do you have any offers?\",\n",
    "    \"I'm looking for a new car. What are your best deals?\",\n",
    "    \"What kind of payment methods do you accept?\",\n",
    "    \"I was wondering if you could ship to my country?\"\n",
    "]\n",
    "\n",
    "# preprocess the question\n",
    "questions = [preprocessing(question) for question in questions]\n",
    "\n",
    "# get the doc2vec embeddings for the questions\n",
    "questions_doc2vec = get_doc2vec_embeddings(d2v_model, pd.DataFrame({'question': questions}))\n",
    "\n",
    "# for each question, predict the topic and print the result\n",
    "for question, topic in zip(questions, model.predict(questions_doc2vec)):\n",
    "    print('Question: {}'.format(' '.join(question)))\n",
    "    print('Topic: {}'.format(topic) + '\\n')"
   ]
  }
 ],
 "metadata": {
  "kernelspec": {
   "display_name": "Python 3.10.7 64-bit",
   "language": "python",
   "name": "python3"
  },
  "language_info": {
   "codemirror_mode": {
    "name": "ipython",
    "version": 3
   },
   "file_extension": ".py",
   "mimetype": "text/x-python",
   "name": "python",
   "nbconvert_exporter": "python",
   "pygments_lexer": "ipython3",
   "version": "3.10.7"
  },
  "orig_nbformat": 4,
  "vscode": {
   "interpreter": {
    "hash": "85c576d62e5a69baba7dcae6282c7bf6fba6f8d537c9cbb11ca984aece3c77a0"
   }
  }
 },
 "nbformat": 4,
 "nbformat_minor": 2
}
